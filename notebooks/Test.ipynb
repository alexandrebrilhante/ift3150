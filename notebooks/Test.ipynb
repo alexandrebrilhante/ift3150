{
 "cells": [
  {
   "cell_type": "code",
   "execution_count": 3,
   "metadata": {},
   "outputs": [],
   "source": [
    "using DataFrames, ForwardDiff"
   ]
  },
  {
   "cell_type": "code",
   "execution_count": 4,
   "metadata": {},
   "outputs": [
    {
     "data": {
      "text/html": [
       "<table class=\"data-frame\"><thead><tr><th></th><th>C1</th><th>C2</th><th>C3</th><th>C4</th></tr></thead><tbody><tr><th>1</th><td>1</td><td>0</td><td>0</td><td>0</td></tr><tr><th>2</th><td>0</td><td>1</td><td>0</td><td>0</td></tr><tr><th>3</th><td>0</td><td>0</td><td>1</td><td>0</td></tr><tr><th>4</th><td>35</td><td>0</td><td>0</td><td>0</td></tr><tr><th>5</th><td>69</td><td>34</td><td>35</td><td>0</td></tr><tr><th>6</th><td>70</td><td>71</td><td>70</td><td>30</td></tr></tbody></table>"
      ],
      "text/plain": [
       "6×4 DataFrames.DataFrame\n",
       "│ Row │ C1 │ C2 │ C3 │ C4 │\n",
       "├─────┼────┼────┼────┼────┤\n",
       "│ 1   │ 1  │ 0  │ 0  │ 0  │\n",
       "│ 2   │ 0  │ 1  │ 0  │ 0  │\n",
       "│ 3   │ 0  │ 0  │ 1  │ 0  │\n",
       "│ 4   │ 35 │ 0  │ 0  │ 0  │\n",
       "│ 5   │ 69 │ 34 │ 35 │ 0  │\n",
       "│ 6   │ 70 │ 71 │ 70 │ 30 │"
      ]
     },
     "execution_count": 4,
     "metadata": {},
     "output_type": "execute_result"
    }
   ],
   "source": [
    "df = readtable(\"model_australia.txt\", separator = ' ', header = false)\n",
    "\n",
    "names!(df, [Symbol(\"C$i\") for i in 1:4])\n",
    "\n",
    "head(df)"
   ]
  },
  {
   "cell_type": "code",
   "execution_count": 5,
   "metadata": {},
   "outputs": [
    {
     "data": {
      "text/plain": [
       "f (generic function with 3 methods)"
      ]
     },
     "execution_count": 5,
     "metadata": {},
     "output_type": "execute_result"
    }
   ],
   "source": [
    "function f(β::Vector, model::Float64 = 0.0, n::Int64 = 210)\n",
    "    i = 1\n",
    "    while i <= n\n",
    "        probability = individual(β, i)\n",
    "        model += log(probability(β))\n",
    "        i += 1\n",
    "    end\n",
    "    return model/n\n",
    "end"
   ]
  },
  {
   "cell_type": "code",
   "execution_count": 6,
   "metadata": {},
   "outputs": [
    {
     "data": {
      "text/plain": [
       "individual (generic function with 1 method)"
      ]
     },
     "execution_count": 6,
     "metadata": {},
     "output_type": "execute_result"
    }
   ],
   "source": [
    "# f_ind\n",
    "\n",
    "function individual(β::Vector, i::Int64)\n",
    "    \n",
    "    ## Les trois premières lignes correspondent aux ASC, et devraient donc être utilisées.\n",
    "    \n",
    "    data = convert(Array, df[i*7-3:i*7-1, :])\n",
    "    choices = convert(Array, df[i*7:i*7, :])\n",
    "    alternatives = find(choices .== 0)\n",
    "    choice = find(choices .== 1)[1]\n",
    "    \n",
    "    # Utilité simple.\n",
    "    function utility(β::Vector, i::Int64)\n",
    "        return dot(vec(data[:, i]), β)\n",
    "    end\n",
    "    \n",
    "    # Tel que proposé à notre dernière rencontre. Somme des différences des utilités.\n",
    "    function probability(β::Vector, t::Float64 = 0.0)\n",
    "        ## We should avoid to recompute the utility of the chosen alternative every time.\n",
    "        c = utility(β, choice)\n",
    "        for alternative in alternatives\n",
    "            t += exp(utility(β, alternative)-c)\n",
    "        end\n",
    "        return 1/(1+t)\n",
    "    end\n",
    "    \n",
    "    return probability\n",
    "end"
   ]
  },
  {
   "cell_type": "code",
   "execution_count": 7,
   "metadata": {},
   "outputs": [
    {
     "data": {
      "text/plain": [
       "g (generic function with 1 method)"
      ]
     },
     "execution_count": 7,
     "metadata": {},
     "output_type": "execute_result"
    }
   ],
   "source": [
    "function g(β::Vector)\n",
    "    return ForwardDiff.gradient(f, β)\n",
    "end"
   ]
  },
  {
   "cell_type": "code",
   "execution_count": 8,
   "metadata": {},
   "outputs": [
    {
     "data": {
      "text/plain": [
       "3-element Array{Float64,1}:\n",
       " 0.0\n",
       " 0.0\n",
       " 0.0"
      ]
     },
     "execution_count": 8,
     "metadata": {},
     "output_type": "execute_result"
    }
   ],
   "source": [
    "# Calcul du gradient par individu.\n",
    "\n",
    "function g_test(β::Vector, t::Float64 = 0.0, n::Int64 = 210)\n",
    "    for i = 1:n\n",
    "        probability = individual(β, i)\n",
    "        t += (1/probability(β))*ForwardDiff.gradient(probability, β)\n",
    "    end\n",
    "    \n",
    "    # Pourquoi t/n alors que dérivée d'une somme = somme des dérivées?\n",
    "    ## Parce qu'à la fin du calcul de f, on applique le facteur 1/n.\n",
    "    return t/n\n",
    "end\n",
    "\n",
    "g(zeros(3)) - g_test(zeros(3))"
   ]
  },
  {
   "cell_type": "code",
   "execution_count": 9,
   "metadata": {},
   "outputs": [
    {
     "data": {
      "text/plain": [
       "3-element Array{Float64,1}:\n",
       "  2.8869 \n",
       " -9.57976\n",
       " -7.05595"
      ]
     },
     "execution_count": 9,
     "metadata": {},
     "output_type": "execute_result"
    }
   ],
   "source": [
    "g(zeros(3))"
   ]
  },
  {
   "cell_type": "code",
   "execution_count": 10,
   "metadata": {},
   "outputs": [
    {
     "data": {
      "text/plain": [
       "3-element Array{Float64,1}:\n",
       "  2.8869 \n",
       " -9.57976\n",
       " -7.05595"
      ]
     },
     "execution_count": 10,
     "metadata": {},
     "output_type": "execute_result"
    }
   ],
   "source": [
    "g_test(zeros(3))"
   ]
  },
  {
   "cell_type": "code",
   "execution_count": 11,
   "metadata": {},
   "outputs": [
    {
     "data": {
      "text/plain": [
       "g! (generic function with 1 method)"
      ]
     },
     "execution_count": 11,
     "metadata": {},
     "output_type": "execute_result"
    }
   ],
   "source": [
    "function g!(β::Vector, storage::Vector)\n",
    "    s = g_test(β)\n",
    "    storage[1:length(s)] = s[1:length(s)]\n",
    "end"
   ]
  },
  {
   "cell_type": "code",
   "execution_count": 12,
   "metadata": {},
   "outputs": [
    {
     "data": {
      "text/plain": [
       "3×3 Array{Float64,2}:\n",
       " -296.292   -213.639    92.0964\n",
       " -213.639   -589.446  -122.245 \n",
       "   92.0964  -122.245  -517.648 "
      ]
     },
     "execution_count": 12,
     "metadata": {},
     "output_type": "execute_result"
    }
   ],
   "source": [
    "function H(β::Vector)\n",
    "    return ForwardDiff.hessian(f, β)\n",
    "end\n",
    "\n",
    "H(zeros(3))"
   ]
  },
  {
   "cell_type": "code",
   "execution_count": 13,
   "metadata": {},
   "outputs": [
    {
     "data": {
      "text/plain": [
       "H! (generic function with 1 method)"
      ]
     },
     "execution_count": 13,
     "metadata": {},
     "output_type": "execute_result"
    }
   ],
   "source": [
    "function H!(β::Vector, storage::Matrix)\n",
    "    s = H(β)\n",
    "    n, m = size(s)\n",
    "    storage[1:n, 1:m] = s[1:length(s)]\n",
    "end"
   ]
  },
  {
   "cell_type": "code",
   "execution_count": 14,
   "metadata": {},
   "outputs": [
    {
     "data": {
      "text/plain": [
       "newton (generic function with 4 methods)"
      ]
     },
     "execution_count": 14,
     "metadata": {},
     "output_type": "execute_result"
    }
   ],
   "source": [
    "function newton(f::Function, g::Function, h::Function, β0::Vector,\n",
    "        k::Int64 = 1, δ::Float64 = 1e-6, nmax::Int64 = 1000)\n",
    "    β = β0\n",
    "    n = length(β)\n",
    "    δ *= δ\n",
    "    H = eye(n)\n",
    "    dfβ = ones(n)\n",
    "    g(β, dfβ)\n",
    "    while dot(dfβ, dfβ) > δ && k <= nmax\n",
    "        g(β, dfβ)\n",
    "        h(β, H)\n",
    "        β -= H\\dfβ\n",
    "        k += 1\n",
    "    end\n",
    "    β, k\n",
    "end"
   ]
  },
  {
   "cell_type": "code",
   "execution_count": 15,
   "metadata": {},
   "outputs": [
    {
     "data": {
      "text/plain": [
       "([0.0283255, -0.0257532, -0.00362244], 6)"
      ]
     },
     "execution_count": 15,
     "metadata": {},
     "output_type": "execute_result"
    }
   ],
   "source": [
    "newton(f, g!, H!, zeros(3))"
   ]
  },
  {
   "cell_type": "code",
   "execution_count": null,
   "metadata": {},
   "outputs": [],
   "source": []
  }
 ],
 "metadata": {
  "kernelspec": {
   "display_name": "Julia 0.6.0",
   "language": "julia",
   "name": "julia-0.6"
  },
  "language_info": {
   "file_extension": ".jl",
   "mimetype": "application/julia",
   "name": "julia",
   "version": "0.6.1"
  }
 },
 "nbformat": 4,
 "nbformat_minor": 2
}
