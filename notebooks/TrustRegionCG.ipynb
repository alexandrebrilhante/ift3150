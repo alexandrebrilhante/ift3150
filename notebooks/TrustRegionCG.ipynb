{
 "cells": [
  {
   "cell_type": "code",
   "execution_count": 1,
   "metadata": {},
   "outputs": [
    {
     "data": {
      "text/html": [
       "<table class=\"data-frame\"><thead><tr><th></th><th>C1</th><th>C2</th><th>C3</th><th>C4</th></tr></thead><tbody><tr><th>1</th><td>1</td><td>0</td><td>0</td><td>0</td></tr><tr><th>2</th><td>0</td><td>1</td><td>0</td><td>0</td></tr><tr><th>3</th><td>0</td><td>0</td><td>1</td><td>0</td></tr><tr><th>4</th><td>35</td><td>0</td><td>0</td><td>0</td></tr><tr><th>5</th><td>69</td><td>34</td><td>35</td><td>0</td></tr><tr><th>6</th><td>70</td><td>71</td><td>70</td><td>30</td></tr><tr><th>7</th><td>0</td><td>0</td><td>0</td><td>1</td></tr><tr><th>8</th><td>1</td><td>0</td><td>0</td><td>0</td></tr><tr><th>9</th><td>0</td><td>1</td><td>0</td><td>0</td></tr><tr><th>10</th><td>0</td><td>0</td><td>1</td><td>0</td></tr><tr><th>11</th><td>30</td><td>0</td><td>0</td><td>0</td></tr><tr><th>12</th><td>64</td><td>44</td><td>53</td><td>0</td></tr><tr><th>13</th><td>68</td><td>84</td><td>85</td><td>50</td></tr><tr><th>14</th><td>0</td><td>0</td><td>0</td><td>1</td></tr><tr><th>15</th><td>1</td><td>0</td><td>0</td><td>0</td></tr><tr><th>16</th><td>0</td><td>1</td><td>0</td><td>0</td></tr><tr><th>17</th><td>0</td><td>0</td><td>1</td><td>0</td></tr><tr><th>18</th><td>40</td><td>0</td><td>0</td><td>0</td></tr><tr><th>19</th><td>69</td><td>34</td><td>35</td><td>0</td></tr><tr><th>20</th><td>129</td><td>195</td><td>149</td><td>101</td></tr><tr><th>21</th><td>0</td><td>0</td><td>0</td><td>1</td></tr><tr><th>22</th><td>1</td><td>0</td><td>0</td><td>0</td></tr><tr><th>23</th><td>0</td><td>1</td><td>0</td><td>0</td></tr><tr><th>24</th><td>0</td><td>0</td><td>1</td><td>0</td></tr><tr><th>25</th><td>70</td><td>0</td><td>0</td><td>0</td></tr><tr><th>26</th><td>64</td><td>44</td><td>53</td><td>0</td></tr><tr><th>27</th><td>59</td><td>79</td><td>81</td><td>32</td></tr><tr><th>28</th><td>0</td><td>0</td><td>0</td><td>1</td></tr><tr><th>29</th><td>1</td><td>0</td><td>0</td><td>0</td></tr><tr><th>30</th><td>0</td><td>1</td><td>0</td><td>0</td></tr><tr><th>&vellip;</th><td>&vellip;</td><td>&vellip;</td><td>&vellip;</td><td>&vellip;</td></tr></tbody></table>"
      ],
      "text/plain": [
       "1470×4 DataFrames.DataFrame\n",
       "│ Row  │ C1 │ C2  │ C3  │ C4 │\n",
       "├──────┼────┼─────┼─────┼────┤\n",
       "│ 1    │ 1  │ 0   │ 0   │ 0  │\n",
       "│ 2    │ 0  │ 1   │ 0   │ 0  │\n",
       "│ 3    │ 0  │ 0   │ 1   │ 0  │\n",
       "│ 4    │ 35 │ 0   │ 0   │ 0  │\n",
       "│ 5    │ 69 │ 34  │ 35  │ 0  │\n",
       "│ 6    │ 70 │ 71  │ 70  │ 30 │\n",
       "│ 7    │ 0  │ 0   │ 0   │ 1  │\n",
       "│ 8    │ 1  │ 0   │ 0   │ 0  │\n",
       "│ 9    │ 0  │ 1   │ 0   │ 0  │\n",
       "│ 10   │ 0  │ 0   │ 1   │ 0  │\n",
       "│ 11   │ 30 │ 0   │ 0   │ 0  │\n",
       "⋮\n",
       "│ 1459 │ 0  │ 0   │ 1   │ 0  │\n",
       "│ 1460 │ 20 │ 0   │ 0   │ 0  │\n",
       "│ 1461 │ 69 │ 34  │ 35  │ 0  │\n",
       "│ 1462 │ 94 │ 100 │ 96  │ 82 │\n",
       "│ 1463 │ 0  │ 0   │ 0   │ 1  │\n",
       "│ 1464 │ 1  │ 0   │ 0   │ 0  │\n",
       "│ 1465 │ 0  │ 1   │ 0   │ 0  │\n",
       "│ 1466 │ 0  │ 0   │ 1   │ 0  │\n",
       "│ 1467 │ 70 │ 0   │ 0   │ 0  │\n",
       "│ 1468 │ 64 │ 44  │ 53  │ 0  │\n",
       "│ 1469 │ 87 │ 156 │ 134 │ 94 │\n",
       "│ 1470 │ 0  │ 0   │ 0   │ 1  │"
      ]
     },
     "execution_count": 1,
     "metadata": {},
     "output_type": "execute_result"
    }
   ],
   "source": [
    "using DataFrames, ForwardDiff\n",
    "\n",
    "# Conjugate gradient.\n",
    "\n",
    "df = readtable(\"../data/aus/model_australia.txt\", separator = ' ', header = false)\n",
    "\n",
    "names!(df, [Symbol(\"C$i\") for i in 1:4])"
   ]
  },
  {
   "cell_type": "code",
   "execution_count": 2,
   "metadata": {},
   "outputs": [],
   "source": [
    "immutable BasicTrustRegion{T<:Real}\n",
    "    η1::T\n",
    "    η2::T\n",
    "    γ1::T\n",
    "    γ2::T\n",
    "end\n",
    "\n",
    "function BTRDefaults()\n",
    "    return BasicTrustRegion(0.01, 0.9, 0.5, 0.5)\n",
    "end\n",
    "\n",
    "type BTRState\n",
    "    iter::Int\n",
    "    β::Vector\n",
    "    βcand::Vector\n",
    "    g::Vector\n",
    "    step::Vector\n",
    "    Δ::Float64\n",
    "    ρ::Float64\n",
    "\n",
    "    function BTRState()\n",
    "        return new()\n",
    "    end\n",
    "end"
   ]
  },
  {
   "cell_type": "code",
   "execution_count": 3,
   "metadata": {},
   "outputs": [
    {
     "data": {
      "text/plain": [
       "updateRadius! (generic function with 1 method)"
      ]
     },
     "execution_count": 3,
     "metadata": {},
     "output_type": "execute_result"
    }
   ],
   "source": [
    "function acceptCandidate!(state::BTRState, b::BasicTrustRegion)\n",
    "    if state.ρ >= b.η1\n",
    "        return true\n",
    "    else\n",
    "        return false\n",
    "    end\n",
    "end\n",
    "\n",
    "function updateRadius!(state::BTRState, b::BasicTrustRegion)\n",
    "    if state.ρ >= b.η2\n",
    "        stepnorm = norm(state.step)\n",
    "        state.Δ = min(1e20, max(4*stepnorm, state.Δ))\n",
    "    elseif state.ρ >= b.η1\n",
    "        state.Δ *= b.γ2\n",
    "    else\n",
    "        state.Δ *= b.γ1\n",
    "    end\n",
    "end"
   ]
  },
  {
   "cell_type": "code",
   "execution_count": 4,
   "metadata": {},
   "outputs": [
    {
     "data": {
      "text/plain": [
       "ConjugateGradient (generic function with 2 methods)"
      ]
     },
     "execution_count": 4,
     "metadata": {},
     "output_type": "execute_result"
    }
   ],
   "source": [
    "function ConjugateGradient(A::Matrix, b::Vector, β0::Vector, δ::Float64 = 1e-6)\n",
    "    n = length(β0)\n",
    "    β = β0\n",
    "    g = b+A*β\n",
    "    d = -g\n",
    "    k = 0\n",
    "    δ *= δ\n",
    "    while dot(g, g) > δ\n",
    "        Ad = A*d\n",
    "        normd = dot(d, Ad)\n",
    "        α = -dot(d, g)/normd\n",
    "        β += α*d\n",
    "        g = b+A*β\n",
    "        γ = dot(g, Ad)/normd\n",
    "        d = -g+γ*d\n",
    "        k += 1\n",
    "    end\n",
    "    normd = dot(d, A*d)\n",
    "    α = -dot(d, g)/normd\n",
    "    β += α*d\n",
    "    return β\n",
    "end"
   ]
  },
  {
   "cell_type": "code",
   "execution_count": 5,
   "metadata": {},
   "outputs": [
    {
     "data": {
      "text/plain": [
       "btr (generic function with 3 methods)"
      ]
     },
     "execution_count": 5,
     "metadata": {},
     "output_type": "execute_result"
    }
   ],
   "source": [
    "function btr(f::Function, g!::Function, H!::Function, Step::Function, β0::Vector,\n",
    "        δ::Float64 = 1e-6, nmax::Int = 1000)\n",
    "    b = BTRDefaults()\n",
    "    state = BTRState()\n",
    "    state.iter = 0\n",
    "    state.Δ = 1.0\n",
    "    state.β = β0\n",
    "    n = length(β0)\n",
    "    δ *= δ\n",
    "    state.g = zeros(n)\n",
    "    H = zeros(n, n)\n",
    "    fβ = f(β0)\n",
    "    g!(β0, state.g)\n",
    "    H!(β0, H)\n",
    "\n",
    "    function model(s::Vector, g::Vector, H::Matrix)\n",
    "        return dot(s, g)+0.5*dot(s, H*s)\n",
    "    end\n",
    "\n",
    "    while (dot(state.g, state.g) > δ && state.iter <= nmax)\n",
    "        state.step = Step(H, state.g, β0)\n",
    "        state.βcand = state.β+state.step\n",
    "        fcand = f(state.βcand)\n",
    "        state.ρ = (fcand-fβ)/(model(state.step, state.g, H))\n",
    "        if acceptCandidate!(state, b)\n",
    "            state.β = copy(state.βcand)\n",
    "            g!(state.β, state.g)\n",
    "            H!(state.β, H)\n",
    "            fβ = fcand\n",
    "        end\n",
    "        updateRadius!(state, b)\n",
    "        state.iter += 1\n",
    "    end\n",
    "    return state.β, state.iter\n",
    "end"
   ]
  },
  {
   "cell_type": "code",
   "execution_count": 6,
   "metadata": {},
   "outputs": [
    {
     "data": {
      "text/plain": [
       "H! (generic function with 1 method)"
      ]
     },
     "execution_count": 6,
     "metadata": {},
     "output_type": "execute_result"
    }
   ],
   "source": [
    "g = β -> ForwardDiff.gradient(f, β);\n",
    "H = β -> ForwardDiff.hessian(f, β)\n",
    "\n",
    "function g!(β::Vector, storage::Vector)\n",
    "    s = g(β)\n",
    "    storage[1:length(s)] = s[1:length(s)]\n",
    "end\n",
    "\n",
    "function H!(β::Vector, storage::Matrix)\n",
    "    s = H(β)\n",
    "    n, m = size(s)\n",
    "    storage[1:n, 1:m] = s[1:length(s)]\n",
    "end"
   ]
  },
  {
   "cell_type": "code",
   "execution_count": 7,
   "metadata": {},
   "outputs": [
    {
     "data": {
      "text/plain": [
       "f (generic function with 1 method)"
      ]
     },
     "execution_count": 7,
     "metadata": {},
     "output_type": "execute_result"
    }
   ],
   "source": [
    "function f(β::Vector)\n",
    "    i = 1\n",
    "    m = 0\n",
    "    while i <= 210\n",
    "        c = 0\n",
    "        d = 0\n",
    "        data = convert(Array, df[i*7-3:i*7-1, :])\n",
    "        choice = convert(Array, df[i*7:i*7, :])\n",
    "        id = find(choice .== 1)\n",
    "        alt = find(choice .== 0)\n",
    "        c = exp(dot(vec(data[:, id]), β))\n",
    "        for j in 1:length(alt)\n",
    "            d += exp(dot(vec(data[:, alt[j]]), β))\n",
    "        end\n",
    "        m += log(c/(c+d))\n",
    "        i += 1\n",
    "    end\n",
    "    return -m/210\n",
    "end"
   ]
  },
  {
   "cell_type": "code",
   "execution_count": 8,
   "metadata": {},
   "outputs": [
    {
     "data": {
      "text/plain": [
       "([0.0283255, -0.0257532, -0.00362244], 4)"
      ]
     },
     "execution_count": 8,
     "metadata": {},
     "output_type": "execute_result"
    }
   ],
   "source": [
    "btr(f, g!, H!, ConjugateGradient, [0, 0, 0])\n",
    "\n",
    "# Solution: ([0.0283255, -0.0257532, -0.00362244], 4)"
   ]
  },
  {
   "cell_type": "code",
   "execution_count": null,
   "metadata": {},
   "outputs": [],
   "source": []
  }
 ],
 "metadata": {
  "kernelspec": {
   "display_name": "Julia 0.6.0",
   "language": "julia",
   "name": "julia-0.6"
  },
  "language_info": {
   "file_extension": ".jl",
   "mimetype": "application/julia",
   "name": "julia",
   "version": "0.6.0"
  }
 },
 "nbformat": 4,
 "nbformat_minor": 2
}
