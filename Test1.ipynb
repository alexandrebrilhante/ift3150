{
 "cells": [
  {
   "cell_type": "code",
   "execution_count": 1,
   "metadata": {},
   "outputs": [],
   "source": [
    "using BenchmarkTools, Compat, DataFrames, Distributions, ForwardDiff"
   ]
  },
  {
   "cell_type": "code",
   "execution_count": 2,
   "metadata": {},
   "outputs": [
    {
     "data": {
      "text/html": [
       "<table class=\"data-frame\"><thead><tr><th></th><th>x1</th><th>x2</th><th>x3</th><th>x4</th><th>x5</th><th>x6</th><th>x7</th><th>x8</th><th>x9</th><th>x10</th><th>x11</th><th>x12</th><th>x13</th><th>x14</th><th>x15</th><th>x16</th><th>x17</th><th>x18</th><th>x19</th><th>x20</th><th>x21</th><th>x22</th><th>x23</th><th>x24</th><th>x25</th></tr></thead><tbody><tr><th>1</th><td>4</td><td>1</td><td>0</td><td>0</td><td>0</td><td>0</td><td>1</td><td>0</td><td>0</td><td>0</td><td>0</td><td>1</td><td>0</td><td>35</td><td>0</td><td>0</td><td>0</td><td>69</td><td>34</td><td>35</td><td>0</td><td>70</td><td>71</td><td>70</td><td>30</td></tr><tr><th>2</th><td>4</td><td>1</td><td>0</td><td>0</td><td>0</td><td>0</td><td>1</td><td>0</td><td>0</td><td>0</td><td>0</td><td>1</td><td>0</td><td>30</td><td>0</td><td>0</td><td>0</td><td>64</td><td>44</td><td>53</td><td>0</td><td>68</td><td>84</td><td>85</td><td>50</td></tr><tr><th>3</th><td>4</td><td>1</td><td>0</td><td>0</td><td>0</td><td>0</td><td>1</td><td>0</td><td>0</td><td>0</td><td>0</td><td>1</td><td>0</td><td>40</td><td>0</td><td>0</td><td>0</td><td>69</td><td>34</td><td>35</td><td>0</td><td>129</td><td>195</td><td>149</td><td>101</td></tr><tr><th>4</th><td>4</td><td>1</td><td>0</td><td>0</td><td>0</td><td>0</td><td>1</td><td>0</td><td>0</td><td>0</td><td>0</td><td>1</td><td>0</td><td>70</td><td>0</td><td>0</td><td>0</td><td>64</td><td>44</td><td>53</td><td>0</td><td>59</td><td>79</td><td>81</td><td>32</td></tr><tr><th>5</th><td>4</td><td>1</td><td>0</td><td>0</td><td>0</td><td>0</td><td>1</td><td>0</td><td>0</td><td>0</td><td>0</td><td>1</td><td>0</td><td>45</td><td>0</td><td>0</td><td>0</td><td>64</td><td>44</td><td>53</td><td>0</td><td>82</td><td>93</td><td>94</td><td>99</td></tr><tr><th>6</th><td>2</td><td>1</td><td>0</td><td>0</td><td>0</td><td>0</td><td>1</td><td>0</td><td>0</td><td>0</td><td>0</td><td>1</td><td>0</td><td>20</td><td>0</td><td>0</td><td>0</td><td>69</td><td>40</td><td>35</td><td>0</td><td>70</td><td>57</td><td>58</td><td>43</td></tr></tbody></table>"
      ],
      "text/plain": [
       "6×25 DataFrames.DataFrame\n",
       "│ Row │ x1 │ x2 │ x3 │ x4 │ x5 │ x6 │ x7 │ x8 │ x9 │ x10 │ x11 │ x12 │ x13 │\n",
       "├─────┼────┼────┼────┼────┼────┼────┼────┼────┼────┼─────┼─────┼─────┼─────┤\n",
       "│ 1   │ 4  │ 1  │ 0  │ 0  │ 0  │ 0  │ 1  │ 0  │ 0  │ 0   │ 0   │ 1   │ 0   │\n",
       "│ 2   │ 4  │ 1  │ 0  │ 0  │ 0  │ 0  │ 1  │ 0  │ 0  │ 0   │ 0   │ 1   │ 0   │\n",
       "│ 3   │ 4  │ 1  │ 0  │ 0  │ 0  │ 0  │ 1  │ 0  │ 0  │ 0   │ 0   │ 1   │ 0   │\n",
       "│ 4   │ 4  │ 1  │ 0  │ 0  │ 0  │ 0  │ 1  │ 0  │ 0  │ 0   │ 0   │ 1   │ 0   │\n",
       "│ 5   │ 4  │ 1  │ 0  │ 0  │ 0  │ 0  │ 1  │ 0  │ 0  │ 0   │ 0   │ 1   │ 0   │\n",
       "│ 6   │ 2  │ 1  │ 0  │ 0  │ 0  │ 0  │ 1  │ 0  │ 0  │ 0   │ 0   │ 1   │ 0   │\n",
       "\n",
       "│ Row │ x14 │ x15 │ x16 │ x17 │ x18 │ x19 │ x20 │ x21 │ x22 │ x23 │ x24 │ x25 │\n",
       "├─────┼─────┼─────┼─────┼─────┼─────┼─────┼─────┼─────┼─────┼─────┼─────┼─────┤\n",
       "│ 1   │ 35  │ 0   │ 0   │ 0   │ 69  │ 34  │ 35  │ 0   │ 70  │ 71  │ 70  │ 30  │\n",
       "│ 2   │ 30  │ 0   │ 0   │ 0   │ 64  │ 44  │ 53  │ 0   │ 68  │ 84  │ 85  │ 50  │\n",
       "│ 3   │ 40  │ 0   │ 0   │ 0   │ 69  │ 34  │ 35  │ 0   │ 129 │ 195 │ 149 │ 101 │\n",
       "│ 4   │ 70  │ 0   │ 0   │ 0   │ 64  │ 44  │ 53  │ 0   │ 59  │ 79  │ 81  │ 32  │\n",
       "│ 5   │ 45  │ 0   │ 0   │ 0   │ 64  │ 44  │ 53  │ 0   │ 82  │ 93  │ 94  │ 99  │\n",
       "│ 6   │ 20  │ 0   │ 0   │ 0   │ 69  │ 40  │ 35  │ 0   │ 70  │ 57  │ 58  │ 43  │"
      ]
     },
     "execution_count": 2,
     "metadata": {},
     "output_type": "execute_result"
    }
   ],
   "source": [
    "# Basic trust region with truncated conjugate gradient.\n",
    "\n",
    "# Parsed data.\n",
    "df = readtable(\"data/parsed_model_australia.txt\", separator = ' ', header = false)\n",
    "\n",
    "const n_simul = 3\n",
    "\n",
    "head(df)"
   ]
  },
  {
   "cell_type": "code",
   "execution_count": 3,
   "metadata": {},
   "outputs": [
    {
     "data": {
      "text/plain": [
       "rand_contdist (generic function with 1 method)"
      ]
     },
     "execution_count": 3,
     "metadata": {},
     "output_type": "execute_result"
    }
   ],
   "source": [
    "mixed_logit = DataFrame(β1 = 1.0:210.0, β2 = 1.0:210.0, β3 = 1.0:210.0)\n",
    "\n",
    "srand(12345)\n",
    "\n",
    "rand_contdist(Dist::Distribution) = quantile(Dist, rand())"
   ]
  },
  {
   "cell_type": "code",
   "execution_count": 4,
   "metadata": {},
   "outputs": [
    {
     "data": {
      "text/html": [
       "<table class=\"data-frame\"><thead><tr><th></th><th>β1</th><th>β2</th><th>β3</th></tr></thead><tbody><tr><th>1</th><td>0.5627138851056968</td><td>0.8499394786290626</td><td>0.37160535186424815</td></tr><tr><th>2</th><td>0.28336464179809084</td><td>0.381127966318632</td><td>0.36580119057192695</td></tr><tr><th>3</th><td>0.8350140149860443</td><td>0.26002375370524433</td><td>0.9223171788742697</td></tr><tr><th>4</th><td>0.040441694559945285</td><td>0.5733819926662398</td><td>0.9813641372820436</td></tr><tr><th>5</th><td>0.5865981007905481</td><td>0.05016684053503706</td><td>0.6117903795750386</td></tr><tr><th>6</th><td>0.6200985639530681</td><td>0.2157117712338983</td><td>0.5699545901561343</td></tr></tbody></table>"
      ],
      "text/plain": [
       "6×3 DataFrames.DataFrame\n",
       "│ Row │ β1        │ β2        │ β3       │\n",
       "├─────┼───────────┼───────────┼──────────┤\n",
       "│ 1   │ 0.562714  │ 0.849939  │ 0.371605 │\n",
       "│ 2   │ 0.283365  │ 0.381128  │ 0.365801 │\n",
       "│ 3   │ 0.835014  │ 0.260024  │ 0.922317 │\n",
       "│ 4   │ 0.0404417 │ 0.573382  │ 0.981364 │\n",
       "│ 5   │ 0.586598  │ 0.0501668 │ 0.61179  │\n",
       "│ 6   │ 0.620099  │ 0.215712  │ 0.569955 │"
      ]
     },
     "execution_count": 4,
     "metadata": {},
     "output_type": "execute_result"
    }
   ],
   "source": [
    "function simulate()\n",
    "    for i = 1:210, j = 1:n_simul\n",
    "        mixed_logit[i, j] = rand_contdist(Uniform())\n",
    "    end\n",
    "end\n",
    "\n",
    "simulate()\n",
    "\n",
    "head(mixed_logit)"
   ]
  },
  {
   "cell_type": "code",
   "execution_count": 5,
   "metadata": {},
   "outputs": [
    {
     "data": {
      "text/plain": [
       "individual (generic function with 1 method)"
      ]
     },
     "execution_count": 5,
     "metadata": {},
     "output_type": "execute_result"
    }
   ],
   "source": [
    "function individual(θ::Vector, i::Int64)\n",
    "    m, n = size(df)\n",
    "    choice = df[i, 1][1]\n",
    "    data = convert(Array, df[i, 2:n])\n",
    "    alternatives = collect(1:4)\n",
    "    splice!(alternatives, choice)\n",
    "    \n",
    "    function utility(β::Vector, k::Int64)\n",
    "        temp = Float64[]\n",
    "        k += 1\n",
    "        while k <= n\n",
    "            push!(temp, df[i, k])\n",
    "            k += 4\n",
    "        end\n",
    "        return dot(temp, β)\n",
    "    end\n",
    "    \n",
    "    function construct(γ::Vector, θ::Vector)\n",
    "        return (θ[1]+θ[2]*γ[1]) + (θ[1]+θ[2]*γ[2]) + (θ[1]+θ[2]*γ[3])\n",
    "    end\n",
    "    \n",
    "    function logit(θ::Vector, t::Float64 = 0.0)\n",
    "        γ = vec(convert(Array, mixed_logit[i, 1:3]))\n",
    "        β = θ[1:4]\n",
    "        k = construct(γ, θ[5:6])\n",
    "        push!(β, k)\n",
    "        push!(β, θ[length(θ)])\n",
    "        c = utility(β, choice)\n",
    "        for alternative in alternatives\n",
    "            t += exp(utility(β, alternative)-c)\n",
    "        end\n",
    "        return 1/(1+t)\n",
    "    end\n",
    "    \n",
    "    return logit\n",
    "end"
   ]
  },
  {
   "cell_type": "code",
   "execution_count": 6,
   "metadata": {},
   "outputs": [
    {
     "data": {
      "text/plain": [
       "f (generic function with 3 methods)"
      ]
     },
     "execution_count": 6,
     "metadata": {},
     "output_type": "execute_result"
    }
   ],
   "source": [
    "function f(θ::Vector, model::Float64 = 0.0, n::Int64 = 21)\n",
    "    i = 1\n",
    "    while i <= n\n",
    "        logit = individual(θ, i)\n",
    "        model += log(logit(θ))\n",
    "        i += 1\n",
    "    end\n",
    "    return -model/n\n",
    "end"
   ]
  },
  {
   "cell_type": "code",
   "execution_count": 7,
   "metadata": {
    "collapsed": true
   },
   "outputs": [],
   "source": [
    "immutable BasicTrustRegion{T<:Real}\n",
    "    η1::T\n",
    "    η2::T\n",
    "    γ1::T\n",
    "    γ2::T\n",
    "end\n",
    "\n",
    "function BTRDefaults()\n",
    "    return BasicTrustRegion(0.01, 0.9, 0.5, 0.5)\n",
    "end\n",
    "\n",
    "type BTRState\n",
    "    iter::Int64\n",
    "    x::Vector\n",
    "    xcand::Vector\n",
    "    g::Vector\n",
    "    step::Vector\n",
    "    Δ::Float64\n",
    "    ρ::Float64\n",
    "    tol::Float64\n",
    "\n",
    "    function BTRState()\n",
    "        state = new()\n",
    "        state.tol = 1e-6\n",
    "        return state\n",
    "    end\n",
    "end"
   ]
  },
  {
   "cell_type": "code",
   "execution_count": 8,
   "metadata": {},
   "outputs": [
    {
     "data": {
      "text/plain": [
       "updateRadius! (generic function with 1 method)"
      ]
     },
     "execution_count": 8,
     "metadata": {},
     "output_type": "execute_result"
    }
   ],
   "source": [
    "function acceptCandidate!(state::BTRState, b::BasicTrustRegion)\n",
    "    if state.ρ >= b.η1\n",
    "        return true\n",
    "    else\n",
    "        return false\n",
    "    end\n",
    "end\n",
    "\n",
    "function updateRadius!(state::BTRState, b::BasicTrustRegion)\n",
    "    if state.ρ >= b.η2\n",
    "        stepnorm = norm(state.step)\n",
    "        state.Δ = min(1e20, max(4*stepnorm, state.Δ))\n",
    "    elseif state.ρ >= b.η1\n",
    "        state.Δ *= b.γ2\n",
    "    else\n",
    "        state.Δ *= b.γ1\n",
    "    end\n",
    "end"
   ]
  },
  {
   "cell_type": "code",
   "execution_count": 9,
   "metadata": {},
   "outputs": [
    {
     "data": {
      "text/plain": [
       "TruncatedCG (generic function with 1 method)"
      ]
     },
     "execution_count": 9,
     "metadata": {},
     "output_type": "execute_result"
    }
   ],
   "source": [
    "function TruncatedCG(g::Vector, H::Matrix, Δ::Float64)\n",
    "    n = length(g)\n",
    "    s = zeros(n)\n",
    "    normg0 = norm(g)\n",
    "    v = g\n",
    "    d = -v\n",
    "    gv = dot(g, v)\n",
    "    norm2d = gv\n",
    "    norm2s = 0\n",
    "    sMd = 0\n",
    "    k = 0\n",
    "    Δ2 = Δ*Δ\n",
    "    while !stopCG(norm(g), normg0, k, n)\n",
    "        Hd = H*d\n",
    "        κ = dot(d, Hd)\n",
    "        if κ <= 0\n",
    "            σ = (-sMd+sqrt(sMd*sMd+norm2d*(Δ2-dot(s, s))))/norm2d\n",
    "            s += σ*d\n",
    "            break\n",
    "        end\n",
    "        α = gv/κ\n",
    "        norm2s += α*(2*sMd+α*norm2d)\n",
    "        if norm2s >= Δ2\n",
    "            σ = (-sMd+sqrt(sMd*sMd+norm2d*(Δ2-dot(s, s))))/norm2d\n",
    "            s += σ*d\n",
    "            break\n",
    "        end\n",
    "        s += α*d\n",
    "        g += α*Hd\n",
    "        v = g\n",
    "        newgv = dot(g, v)\n",
    "        β = newgv/gv\n",
    "        gv = newgv\n",
    "        d = -v+β*d\n",
    "        sMd = β*(sMd+α*norm2d)\n",
    "        norm2d = gv+β*β*norm2d\n",
    "        k += 1\n",
    "    end\n",
    "    return s\n",
    "end"
   ]
  },
  {
   "cell_type": "code",
   "execution_count": 10,
   "metadata": {},
   "outputs": [
    {
     "data": {
      "text/plain": [
       "stopCG (generic function with 1 method)"
      ]
     },
     "execution_count": 10,
     "metadata": {},
     "output_type": "execute_result"
    }
   ],
   "source": [
    "function stopCG(normg::Float64, normg0::Float64, k::Int, kmax::Int)\n",
    "    χ::Float64 = 0.1\n",
    "    θ::Float64 = 0.5\n",
    "    if (k == kmax) || (normg <= normg0*min(χ, normg0^θ))\n",
    "        return true\n",
    "    else\n",
    "        return false\n",
    "    end\n",
    "end"
   ]
  },
  {
   "cell_type": "code",
   "execution_count": 11,
   "metadata": {},
   "outputs": [
    {
     "data": {
      "text/plain": [
       "btr (generic function with 3 methods)"
      ]
     },
     "execution_count": 11,
     "metadata": {},
     "output_type": "execute_result"
    }
   ],
   "source": [
    "function btr(f::Function, g!::Function, H!::Function, Step::Function,\n",
    "        x0::Vector, state::BTRState = BTRState(), ApproxH::Bool = false)\n",
    "    b = BTRDefaults()\n",
    "    state.iter = 0\n",
    "    state.x = x0\n",
    "    n = length(x0)\n",
    "    tol2 = state.tol*state.tol\n",
    "    state.g = zeros(n)\n",
    "    H = eye(n, n)\n",
    "    fx = f(x0)\n",
    "    g!(x0, state.g)\n",
    "    state.Δ = 0.1*norm(state.g)\n",
    "    if ApproxH\n",
    "        y = zeros(n)\n",
    "        gcand = zeros(n)\n",
    "    else\n",
    "        H!(x0, H)\n",
    "    end\n",
    "    nmax = 100\n",
    "\n",
    "    function model(s::Vector, g::Vector, H::Matrix)\n",
    "        return dot(s, g)+0.5*dot(s, H*s)\n",
    "    end\n",
    "    \n",
    "    while dot(state.g, state.g) > tol2 && state.iter < nmax\n",
    "        state.step = Step(state.g, H, state.Δ)\n",
    "        state.xcand = state.x+state.step\n",
    "        fcand = f(state.xcand)\n",
    "        state.ρ = (fcand-fx)/(model(state.step, state.g, H))\n",
    "        if ApproxH\n",
    "            g!(state.xcand, gcand)\n",
    "            y = gcand-state.g\n",
    "            H = H!(H, y, state.step)\n",
    "        end\n",
    "        if acceptCandidate!(state, b)\n",
    "            state.x = copy(state.xcand)\n",
    "            if !ApproxH\n",
    "                g!(state.x, state.g)\n",
    "                H!(state.x, H)\n",
    "            else\n",
    "                state.g = copy(gcand)\n",
    "            end\n",
    "            fx = fcand\n",
    "        end\n",
    "        updateRadius!(state, b)\n",
    "        state.iter += 1\n",
    "    end\n",
    "    return state.x, state.iter\n",
    "end"
   ]
  },
  {
   "cell_type": "code",
   "execution_count": 12,
   "metadata": {},
   "outputs": [
    {
     "data": {
      "text/plain": [
       "g! (generic function with 1 method)"
      ]
     },
     "execution_count": 12,
     "metadata": {},
     "output_type": "execute_result"
    }
   ],
   "source": [
    "function g(x::Vector, n::Int64 = 21)\n",
    "    t = zeros(length(x))\n",
    "    for i = 1:n\n",
    "        logit = individual(x, i)\n",
    "        t += (1/logit(x))*ForwardDiff.gradient(logit, x)\n",
    "    end\n",
    "    return -t/n\n",
    "end\n",
    "\n",
    "function g!(x::Vector, storage::Vector)\n",
    "    s = g(x)\n",
    "    storage[1:length(s)] = s[1:length(s)]\n",
    "end"
   ]
  },
  {
   "cell_type": "code",
   "execution_count": 13,
   "metadata": {},
   "outputs": [
    {
     "data": {
      "text/plain": [
       "H! (generic function with 1 method)"
      ]
     },
     "execution_count": 13,
     "metadata": {},
     "output_type": "execute_result"
    }
   ],
   "source": [
    "function H(x::Vector)\n",
    "    return ForwardDiff.hessian(f, x)\n",
    "end\n",
    "\n",
    "function H!(x::Vector, storage::Matrix)\n",
    "    s = H(x)\n",
    "    n, m = size(s)\n",
    "    storage[1:n, 1:m] = s[1:length(s)]\n",
    "end"
   ]
  },
  {
   "cell_type": "code",
   "execution_count": 14,
   "metadata": {},
   "outputs": [
    {
     "data": {
      "text/plain": [
       "BHHH! (generic function with 1 method)"
      ]
     },
     "execution_count": 14,
     "metadata": {},
     "output_type": "execute_result"
    }
   ],
   "source": [
    "function BHHH(x::Vector, n::Int64 = 210)\n",
    "    t = zeros(length(x), length(x))\n",
    "    for i = 1:n\n",
    "        logit = individual(x, i)\n",
    "        g = ForwardDiff.gradient(logit, x)\n",
    "        t += g*(g')\n",
    "    end\n",
    "    return t/n\n",
    "end\n",
    "\n",
    "function BHHH!(x::Vector, storage::Matrix)\n",
    "    s = BHHH(x)\n",
    "    n, m = size(s)\n",
    "    storage[1:n, 1:m] = s[1:length(s)]\n",
    "end"
   ]
  },
  {
   "cell_type": "code",
   "execution_count": 15,
   "metadata": {},
   "outputs": [
    {
     "data": {
      "text/plain": [
       "BFGS! (generic function with 1 method)"
      ]
     },
     "execution_count": 15,
     "metadata": {},
     "output_type": "execute_result"
    }
   ],
   "source": [
    "function BFGS(B::Matrix, y::Vector, s::Vector)\n",
    "    Bs = B*s\n",
    "    return B-(Bs*Bs')/dot(s, Bs)+(y*y')/dot(s, y)\n",
    "end\n",
    "\n",
    "function BFGS!(B::Matrix, y::Vector, s::Vector)\n",
    "    n, m = size(B)\n",
    "    B[1:n, 1:m] = BFGS(B, y, s)\n",
    "end"
   ]
  },
  {
   "cell_type": "code",
   "execution_count": 16,
   "metadata": {},
   "outputs": [
    {
     "data": {
      "text/plain": [
       "SR1! (generic function with 1 method)"
      ]
     },
     "execution_count": 16,
     "metadata": {},
     "output_type": "execute_result"
    }
   ],
   "source": [
    "function SR1(B::Matrix, y::Vector, s::Vector)\n",
    "    Bs = B*s\n",
    "    return B+((y-Bs)*(y-Bs)')/((y-Bs)'*s)\n",
    "end\n",
    "\n",
    "function SR1!(B::Matrix, y::Vector, s::Vector)\n",
    "    n, m = size(B)\n",
    "    B[1:n, 1:m] = SR1(B, y, s)\n",
    "end"
   ]
  },
  {
   "cell_type": "code",
   "execution_count": 17,
   "metadata": {},
   "outputs": [
    {
     "data": {
      "text/plain": [
       "([7.44587, 10.4575, -0.176355, 0.149317, -0.0802203, -0.0297832, -0.0561553], 60)"
      ]
     },
     "execution_count": 17,
     "metadata": {},
     "output_type": "execute_result"
    }
   ],
   "source": [
    "simulate()\n",
    "\n",
    "btr(f, g!, H!, TruncatedCG, zeros(7), BTRState())"
   ]
  }
 ],
 "metadata": {
  "kernelspec": {
   "display_name": "Julia 0.6.0",
   "language": "julia",
   "name": "julia-0.6"
  },
  "language_info": {
   "file_extension": ".jl",
   "mimetype": "application/julia",
   "name": "julia",
   "version": "0.6.1"
  }
 },
 "nbformat": 4,
 "nbformat_minor": 2
}
