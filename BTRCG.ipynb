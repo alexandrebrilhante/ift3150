{
 "cells": [
  {
   "cell_type": "code",
   "execution_count": 1,
   "metadata": {},
   "outputs": [],
   "source": [
    "using BenchmarkTools, Compat, DataFrames, ForwardDiff"
   ]
  },
  {
   "cell_type": "code",
   "execution_count": 2,
   "metadata": {},
   "outputs": [
    {
     "data": {
      "text/html": [
       "<table class=\"data-frame\"><thead><tr><th></th><th>C1</th><th>C2</th><th>C3</th><th>C4</th></tr></thead><tbody><tr><th>1</th><td>1</td><td>0</td><td>0</td><td>0</td></tr><tr><th>2</th><td>0</td><td>1</td><td>0</td><td>0</td></tr><tr><th>3</th><td>0</td><td>0</td><td>1</td><td>0</td></tr><tr><th>4</th><td>35</td><td>0</td><td>0</td><td>0</td></tr><tr><th>5</th><td>69</td><td>34</td><td>35</td><td>0</td></tr><tr><th>6</th><td>70</td><td>71</td><td>70</td><td>30</td></tr></tbody></table>"
      ],
      "text/plain": [
       "6×4 DataFrames.DataFrame\n",
       "│ Row │ C1 │ C2 │ C3 │ C4 │\n",
       "├─────┼────┼────┼────┼────┤\n",
       "│ 1   │ 1  │ 0  │ 0  │ 0  │\n",
       "│ 2   │ 0  │ 1  │ 0  │ 0  │\n",
       "│ 3   │ 0  │ 0  │ 1  │ 0  │\n",
       "│ 4   │ 35 │ 0  │ 0  │ 0  │\n",
       "│ 5   │ 69 │ 34 │ 35 │ 0  │\n",
       "│ 6   │ 70 │ 71 │ 70 │ 30 │"
      ]
     },
     "execution_count": 2,
     "metadata": {},
     "output_type": "execute_result"
    }
   ],
   "source": [
    "# Basic trust region with conjugate gradient.\n",
    "\n",
    "df = readtable(\"data/model_australia.txt\", separator = ' ', header = false)\n",
    "\n",
    "names!(df, [Symbol(\"C$i\") for i in 1:4])\n",
    "\n",
    "head(df)"
   ]
  },
  {
   "cell_type": "code",
   "execution_count": 3,
   "metadata": {},
   "outputs": [],
   "source": [
    "immutable BasicTrustRegion{T<:Real}\n",
    "    η1::T\n",
    "    η2::T\n",
    "    γ1::T\n",
    "    γ2::T\n",
    "end\n",
    "\n",
    "function BTRDefaults()\n",
    "    return BasicTrustRegion(0.01, 0.9, 0.5, 0.5)\n",
    "end\n",
    "\n",
    "type BTRState\n",
    "    iter::Int\n",
    "    β::Vector\n",
    "    βcand::Vector\n",
    "    g::Vector\n",
    "    step::Vector\n",
    "    Δ::Float64\n",
    "    ρ::Float64\n",
    "\n",
    "    function BTRState()\n",
    "        return new()\n",
    "    end\n",
    "end"
   ]
  },
  {
   "cell_type": "code",
   "execution_count": 4,
   "metadata": {},
   "outputs": [
    {
     "data": {
      "text/plain": [
       "updateRadius! (generic function with 1 method)"
      ]
     },
     "execution_count": 4,
     "metadata": {},
     "output_type": "execute_result"
    }
   ],
   "source": [
    "function acceptCandidate!(state::BTRState, b::BasicTrustRegion)\n",
    "    if state.ρ >= b.η1\n",
    "        return true\n",
    "    else\n",
    "        return false\n",
    "    end\n",
    "end\n",
    "\n",
    "function updateRadius!(state::BTRState, b::BasicTrustRegion)\n",
    "    if state.ρ >= b.η2\n",
    "        stepnorm = norm(state.step)\n",
    "        state.Δ = min(1e20, max(4*stepnorm, state.Δ))\n",
    "    elseif state.ρ >= b.η1\n",
    "        state.Δ *= b.γ2\n",
    "    else\n",
    "        state.Δ *= b.γ1\n",
    "    end\n",
    "end"
   ]
  },
  {
   "cell_type": "code",
   "execution_count": 5,
   "metadata": {},
   "outputs": [
    {
     "data": {
      "text/plain": [
       "ConjugateGradient (generic function with 2 methods)"
      ]
     },
     "execution_count": 5,
     "metadata": {},
     "output_type": "execute_result"
    }
   ],
   "source": [
    "function ConjugateGradient(A::Matrix, b::Vector, β0::Vector, δ::Float64 = 1e-6)\n",
    "    n = length(β0)\n",
    "    β = β0\n",
    "    g = b+A*β\n",
    "    d = -g\n",
    "    k = 0\n",
    "    δ *= δ\n",
    "    while dot(g, g) > δ\n",
    "        Ad = A*d\n",
    "        normd = dot(d, Ad)\n",
    "        α = -dot(d, g)/normd\n",
    "        β += α*d\n",
    "        g = b+A*β\n",
    "        γ = dot(g, Ad)/normd\n",
    "        d = -g+γ*d\n",
    "        k += 1\n",
    "    end\n",
    "    normd = dot(d, A*d)\n",
    "    α = -dot(d, g)/normd\n",
    "    β += α*d\n",
    "    return β\n",
    "end"
   ]
  },
  {
   "cell_type": "code",
   "execution_count": 6,
   "metadata": {},
   "outputs": [
    {
     "data": {
      "text/plain": [
       "btr (generic function with 1 method)"
      ]
     },
     "execution_count": 6,
     "metadata": {},
     "output_type": "execute_result"
    }
   ],
   "source": [
    "function btr(f::Function, g!::Function, H!::Function, Step::Function, β0::Vector)\n",
    "    b = BTRDefaults()\n",
    "    state = BTRState()\n",
    "    state.iter = 0\n",
    "    state.Δ = 1.0\n",
    "    state.β = β0\n",
    "    n = length(β0)\n",
    "    tol = 1e-6*1e-6\n",
    "    state.g = zeros(n)\n",
    "    H = zeros(n, n)\n",
    "    fβ = f(β0)\n",
    "    g!(β0, state.g)\n",
    "    H!(β0, H)\n",
    "    nmax = 1000\n",
    "\n",
    "    function model(s::Vector, g::Vector, H::Matrix)\n",
    "        return dot(s, g)+0.5*dot(s, H*s)\n",
    "    end\n",
    "\n",
    "    while dot(state.g, state.g) > tol && state.iter < nmax\n",
    "        state.step = Step(H, state.g, β0)\n",
    "        state.βcand = state.β+state.step\n",
    "        fcand = f(state.βcand)\n",
    "        state.ρ = (fcand-fβ)/(model(state.step, state.g, H))\n",
    "        if acceptCandidate!(state, b)\n",
    "            state.β = copy(state.βcand)\n",
    "            g!(state.β, state.g)\n",
    "            H!(state.β, H)\n",
    "            fβ = fcand\n",
    "        end\n",
    "        updateRadius!(state, b)\n",
    "        state.iter += 1\n",
    "    end\n",
    "    return state.β, state.iter\n",
    "end"
   ]
  },
  {
   "cell_type": "code",
   "execution_count": 7,
   "metadata": {},
   "outputs": [
    {
     "data": {
      "text/plain": [
       "individual (generic function with 1 method)"
      ]
     },
     "execution_count": 7,
     "metadata": {},
     "output_type": "execute_result"
    }
   ],
   "source": [
    "function individual(β::Vector, i::Int64)\n",
    "    data = convert(Array, df[i*7-6:i*7-1, :])\n",
    "    choices = convert(Array, df[i*7:i*7, :])\n",
    "    alternatives = find(choices .== 0)\n",
    "    choice = find(choices .== 1)[1]\n",
    "    \n",
    "    function utility(β::Vector, i::Int64)\n",
    "        return dot(vec(data[:, i]), β)\n",
    "    end\n",
    "    \n",
    "    function probability(β::Vector, t::Float64 = 0.0)\n",
    "        c = utility(β, choice)\n",
    "        for alternative in alternatives\n",
    "            t += exp(utility(β, alternative)-c)\n",
    "        end\n",
    "        return 1/(1+t)\n",
    "    end\n",
    "    \n",
    "    return probability\n",
    "end"
   ]
  },
  {
   "cell_type": "code",
   "execution_count": 8,
   "metadata": {},
   "outputs": [
    {
     "data": {
      "text/plain": [
       "f (generic function with 3 methods)"
      ]
     },
     "execution_count": 8,
     "metadata": {},
     "output_type": "execute_result"
    }
   ],
   "source": [
    "function f(β::Vector, model::Float64 = 0.0, n::Int64 = 210)\n",
    "    i = 1\n",
    "    while i <= n\n",
    "        probability = individual(β, i)\n",
    "        model += log(probability(β))\n",
    "        i += 1\n",
    "    end\n",
    "    return -model/n\n",
    "end"
   ]
  },
  {
   "cell_type": "code",
   "execution_count": 9,
   "metadata": {},
   "outputs": [
    {
     "data": {
      "text/plain": [
       "g! (generic function with 1 method)"
      ]
     },
     "execution_count": 9,
     "metadata": {},
     "output_type": "execute_result"
    }
   ],
   "source": [
    "function g(β::Vector, t::Float64 = 0.0, n::Int64 = 210)\n",
    "    for i = 1:n\n",
    "        probability = individual(β, i)\n",
    "        t += (1/probability(β))*ForwardDiff.gradient(probability, β)\n",
    "    end\n",
    "    return -t/n\n",
    "end\n",
    "\n",
    "function g!(β::Vector, storage::Vector)\n",
    "    s = g(β)\n",
    "    storage[1:length(s)] = s[1:length(s)]\n",
    "end"
   ]
  },
  {
   "cell_type": "code",
   "execution_count": 10,
   "metadata": {},
   "outputs": [
    {
     "data": {
      "text/plain": [
       "H! (generic function with 1 method)"
      ]
     },
     "execution_count": 10,
     "metadata": {},
     "output_type": "execute_result"
    }
   ],
   "source": [
    "function H(β::Vector)\n",
    "    return ForwardDiff.hessian(f, β)\n",
    "end\n",
    "\n",
    "function H!(β::Vector, storage::Matrix)\n",
    "    s = H(β)\n",
    "    n, m = size(s)\n",
    "    storage[1:n, 1:m] = s[1:length(s)]\n",
    "end"
   ]
  },
  {
   "cell_type": "code",
   "execution_count": 11,
   "metadata": {},
   "outputs": [
    {
     "name": "stdout",
     "output_type": "stream",
     "text": [
      "  294.373 ms (764179 allocations: 81.25 MiB)\n"
     ]
    },
    {
     "data": {
      "text/plain": [
       "([5.20743, 3.86904, 3.16319, 0.0132871, -0.0961247, -0.0155015], 5)"
      ]
     },
     "execution_count": 11,
     "metadata": {},
     "output_type": "execute_result"
    }
   ],
   "source": [
    "@btime btr(f, g!, H!, ConjugateGradient, zeros(6))"
   ]
  },
  {
   "cell_type": "code",
   "execution_count": null,
   "metadata": {},
   "outputs": [],
   "source": []
  }
 ],
 "metadata": {
  "kernelspec": {
   "display_name": "Julia 0.6.0",
   "language": "julia",
   "name": "julia-0.6"
  },
  "language_info": {
   "file_extension": ".jl",
   "mimetype": "application/julia",
   "name": "julia",
   "version": "0.6.1"
  }
 },
 "nbformat": 4,
 "nbformat_minor": 2
}
