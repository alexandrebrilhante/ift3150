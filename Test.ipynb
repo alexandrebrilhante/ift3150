{
 "cells": [
  {
   "cell_type": "code",
   "execution_count": 1,
   "metadata": {},
   "outputs": [],
   "source": [
    "using BenchmarkTools, Compat, DataFrames, Distributions, ForwardDiff"
   ]
  },
  {
   "cell_type": "code",
   "execution_count": 2,
   "metadata": {},
   "outputs": [
    {
     "data": {
      "text/html": [
       "<table class=\"data-frame\"><thead><tr><th></th><th>x1</th><th>x2</th><th>x3</th><th>x4</th></tr></thead><tbody><tr><th>1</th><td>1</td><td>0</td><td>0</td><td>0</td></tr><tr><th>2</th><td>0</td><td>1</td><td>0</td><td>0</td></tr><tr><th>3</th><td>0</td><td>0</td><td>1</td><td>0</td></tr><tr><th>4</th><td>35</td><td>0</td><td>0</td><td>0</td></tr><tr><th>5</th><td>69</td><td>34</td><td>35</td><td>0</td></tr><tr><th>6</th><td>70</td><td>71</td><td>70</td><td>30</td></tr></tbody></table>"
      ],
      "text/plain": [
       "6×4 DataFrames.DataFrame\n",
       "│ Row │ x1 │ x2 │ x3 │ x4 │\n",
       "├─────┼────┼────┼────┼────┤\n",
       "│ 1   │ 1  │ 0  │ 0  │ 0  │\n",
       "│ 2   │ 0  │ 1  │ 0  │ 0  │\n",
       "│ 3   │ 0  │ 0  │ 1  │ 0  │\n",
       "│ 4   │ 35 │ 0  │ 0  │ 0  │\n",
       "│ 5   │ 69 │ 34 │ 35 │ 0  │\n",
       "│ 6   │ 70 │ 71 │ 70 │ 30 │"
      ]
     },
     "execution_count": 2,
     "metadata": {},
     "output_type": "execute_result"
    }
   ],
   "source": [
    "# Basic trust region with truncated conjugate gradient.\n",
    "\n",
    "df = readtable(\"data/model_australia.txt\", separator = ' ', header = false)\n",
    "\n",
    "names!(df, [Symbol(\"x$i\") for i in 1:4])\n",
    "\n",
    "head(df)"
   ]
  },
  {
   "cell_type": "code",
   "execution_count": 3,
   "metadata": {},
   "outputs": [
    {
     "data": {
      "text/plain": [
       "rand_contdist (generic function with 1 method)"
      ]
     },
     "execution_count": 3,
     "metadata": {},
     "output_type": "execute_result"
    }
   ],
   "source": [
    "mixed_logit = DataFrame(P = 1.0:210.0)\n",
    "\n",
    "names!(mixed_logit, [Symbol(\"Score\")])\n",
    "\n",
    "rand_contdist(Dist::Distribution) = quantile(Dist, rand())"
   ]
  },
  {
   "cell_type": "code",
   "execution_count": 4,
   "metadata": {},
   "outputs": [],
   "source": [
    "function simulate()\n",
    "    for i = 1:210\n",
    "        mixed_logit[i, 1] = rand_contdist(Uniform())\n",
    "    end\n",
    "end\n",
    "\n",
    "simulate()"
   ]
  },
  {
   "cell_type": "code",
   "execution_count": 5,
   "metadata": {},
   "outputs": [
    {
     "data": {
      "text/html": [
       "<table class=\"data-frame\"><thead><tr><th></th><th>Score</th></tr></thead><tbody><tr><th>1</th><td>0.4724490294857997</td></tr><tr><th>2</th><td>0.8576458378650462</td></tr><tr><th>3</th><td>0.030460712926718703</td></tr><tr><th>4</th><td>0.09047173003555886</td></tr><tr><th>5</th><td>0.8580956589649356</td></tr><tr><th>6</th><td>0.8200499027669408</td></tr></tbody></table>"
      ],
      "text/plain": [
       "6×1 DataFrames.DataFrame\n",
       "│ Row │ Score     │\n",
       "├─────┼───────────┤\n",
       "│ 1   │ 0.472449  │\n",
       "│ 2   │ 0.857646  │\n",
       "│ 3   │ 0.0304607 │\n",
       "│ 4   │ 0.0904717 │\n",
       "│ 5   │ 0.858096  │\n",
       "│ 6   │ 0.82005   │"
      ]
     },
     "execution_count": 5,
     "metadata": {},
     "output_type": "execute_result"
    }
   ],
   "source": [
    "function individual(θ::Vector, i::Int64)\n",
    "    data = convert( Array, df[i*7-6:i*7-1, :])\n",
    "    choices = convert(Array, df[i*7:i*7, :])\n",
    "    alternatives = find(choices .== 0)\n",
    "    choice = find(choices .== 1)[1]\n",
    "    \n",
    "    function utility(β::Vector, i::Int64)\n",
    "        return dot(vec(data[:, i]), β)\n",
    "    end\n",
    "    \n",
    "    function construct(γ::Vector, θ::Vector, β::Float64 = 0.0)\n",
    "        for k = 1:length(γ)\n",
    "            β += θ[k*1]+θ[k*2]*γ[k]\n",
    "        end\n",
    "        return β\n",
    "    end\n",
    "    \n",
    "    function probability(θ::Vector, t::Float64 = 0.0)\n",
    "        γ = mixed_logit[i, 1]\n",
    "        β = θ[1:4]\n",
    "        push!(β, construct([γ], θ[5:6]))\n",
    "        push!(β, θ[length(θ)])\n",
    "        c = utility(β, choice)\n",
    "        for alternative in alternatives\n",
    "            t += exp(utility(β, alternative)-c)\n",
    "        end\n",
    "        return 1/(1+t)\n",
    "    end\n",
    "    \n",
    "    return probability\n",
    "end\n",
    "\n",
    "head(mixed_logit)"
   ]
  },
  {
   "cell_type": "code",
   "execution_count": 6,
   "metadata": {},
   "outputs": [
    {
     "data": {
      "text/plain": [
       "f (generic function with 3 methods)"
      ]
     },
     "execution_count": 6,
     "metadata": {},
     "output_type": "execute_result"
    }
   ],
   "source": [
    "function f(θ::Vector, model::Float64 = 0.0, n::Int64 = 210)\n",
    "    i = 1\n",
    "    while i <= n\n",
    "        probability = individual(θ, i)\n",
    "        model += log(probability(θ))\n",
    "        i += 1\n",
    "    end\n",
    "    return -model/n\n",
    "end"
   ]
  },
  {
   "cell_type": "code",
   "execution_count": 7,
   "metadata": {},
   "outputs": [],
   "source": [
    "immutable BasicTrustRegion{T<:Real}\n",
    "    η1::T\n",
    "    η2::T\n",
    "    γ1::T\n",
    "    γ2::T\n",
    "end\n",
    "\n",
    "function BTRDefaults()\n",
    "    return BasicTrustRegion(0.01, 0.9, 0.5, 0.5)\n",
    "end\n",
    "\n",
    "type BTRState\n",
    "    iter::Int64\n",
    "    x::Vector\n",
    "    xcand::Vector\n",
    "    g::Vector\n",
    "    step::Vector\n",
    "    Δ::Float64\n",
    "    ρ::Float64\n",
    "    tol::Float64\n",
    "\n",
    "    function BTRState()\n",
    "        state = new()\n",
    "        state.tol = 1e-6\n",
    "        return state\n",
    "    end\n",
    "end"
   ]
  },
  {
   "cell_type": "code",
   "execution_count": 8,
   "metadata": {},
   "outputs": [
    {
     "data": {
      "text/plain": [
       "updateRadius! (generic function with 1 method)"
      ]
     },
     "execution_count": 8,
     "metadata": {},
     "output_type": "execute_result"
    }
   ],
   "source": [
    "function acceptCandidate!(state::BTRState, b::BasicTrustRegion)\n",
    "    if state.ρ >= b.η1\n",
    "        return true\n",
    "    else\n",
    "        return false\n",
    "    end\n",
    "end\n",
    "\n",
    "function updateRadius!(state::BTRState, b::BasicTrustRegion)\n",
    "    if state.ρ >= b.η2\n",
    "        stepnorm = norm(state.step)\n",
    "        state.Δ = min(1e20, max(4*stepnorm, state.Δ))\n",
    "    elseif state.ρ >= b.η1\n",
    "        state.Δ *= b.γ2\n",
    "    else\n",
    "        state.Δ *= b.γ1\n",
    "    end\n",
    "end"
   ]
  },
  {
   "cell_type": "code",
   "execution_count": 9,
   "metadata": {},
   "outputs": [
    {
     "data": {
      "text/plain": [
       "TruncatedCG (generic function with 1 method)"
      ]
     },
     "execution_count": 9,
     "metadata": {},
     "output_type": "execute_result"
    }
   ],
   "source": [
    "function TruncatedCG(g::Vector, H::Matrix, Δ::Float64)\n",
    "    n = length(g)\n",
    "    s = zeros(n)\n",
    "    normg0 = norm(g)\n",
    "    v = g\n",
    "    d = -v\n",
    "    gv = dot(g, v)\n",
    "    norm2d = gv\n",
    "    norm2s = 0\n",
    "    sMd = 0\n",
    "    k = 0\n",
    "    Δ2 = Δ*Δ\n",
    "    while stopCG(norm(g), normg0, k, n) == false\n",
    "        Hd = H*d\n",
    "        κ = dot(d, Hd)\n",
    "        if κ <= 0\n",
    "            σ = (-sMd+sqrt(sMd*sMd+norm2d*(Δ2-dot(s, s))))/norm2d\n",
    "            s += σ*d\n",
    "            break\n",
    "        end\n",
    "        α = gv/κ\n",
    "        norm2s += α*(2*sMd+α*norm2d)\n",
    "        if norm2s >= Δ2\n",
    "            σ = (-sMd+sqrt(sMd*sMd+norm2d*(Δ2-dot(s, s))))/norm2d\n",
    "            s += σ*d\n",
    "            break\n",
    "        end\n",
    "        s += α*d\n",
    "        g += α*Hd\n",
    "        v = g\n",
    "        newgv = dot(g, v)\n",
    "        β = newgv/gv\n",
    "        gv = newgv\n",
    "        d = -v+β*d\n",
    "        sMd = β*(sMd+α*norm2d)\n",
    "        norm2d = gv+β*β*norm2d\n",
    "        k += 1\n",
    "    end\n",
    "    return s\n",
    "end"
   ]
  },
  {
   "cell_type": "code",
   "execution_count": 10,
   "metadata": {},
   "outputs": [
    {
     "data": {
      "text/plain": [
       "stopCG (generic function with 1 method)"
      ]
     },
     "execution_count": 10,
     "metadata": {},
     "output_type": "execute_result"
    }
   ],
   "source": [
    "function stopCG(normg::Float64, normg0::Float64, k::Int, kmax::Int)\n",
    "    χ::Float64 = 0.1\n",
    "    θ::Float64 = 0.5\n",
    "    if (k == kmax) || (normg <= normg0*min(χ, normg0^θ))\n",
    "        return true\n",
    "    else\n",
    "        return false\n",
    "    end\n",
    "end"
   ]
  },
  {
   "cell_type": "code",
   "execution_count": 11,
   "metadata": {},
   "outputs": [
    {
     "data": {
      "text/plain": [
       "btr (generic function with 3 methods)"
      ]
     },
     "execution_count": 11,
     "metadata": {},
     "output_type": "execute_result"
    }
   ],
   "source": [
    "function btr(f::Function, g!::Function, H!::Function, Step::Function,\n",
    "        x0::Vector, state::BTRState = BTRState(), ApproxH::Bool = false)\n",
    "    b = BTRDefaults()\n",
    "    state.iter = 0\n",
    "    state.x = x0\n",
    "    n = length(x0)\n",
    "    tol2 = state.tol*state.tol\n",
    "    state.g = zeros(n)\n",
    "    H = eye(n, n)\n",
    "    fx = f(x0)\n",
    "    g!(x0, state.g)\n",
    "    state.Δ = 0.1*norm(state.g)\n",
    "    if ApproxH\n",
    "        y = zeros(n)\n",
    "        gcand = zeros(n)\n",
    "    else\n",
    "        H!(x0, H)\n",
    "    end\n",
    "    nmax = 100\n",
    "\n",
    "    function model(s::Vector, g::Vector, H::Matrix)\n",
    "        return dot(s, g)+0.5*dot(s, H*s)\n",
    "    end\n",
    "    \n",
    "    while dot(state.g, state.g) > tol2 && state.iter < nmax\n",
    "        state.step = Step(state.g, H, state.Δ)\n",
    "        state.xcand = state.x+state.step\n",
    "        fcand = f(state.xcand)\n",
    "        state.ρ = (fcand-fx)/(model(state.step, state.g, H))\n",
    "        if ApproxH\n",
    "            g!(state.xcand, gcand)\n",
    "            y = gcand-state.g\n",
    "            H = H!(H, y, state.step)\n",
    "        end\n",
    "        if acceptCandidate!(state, b)\n",
    "            state.x = copy(state.xcand)\n",
    "            if ApproxH == false\n",
    "                g!(state.x, state.g)\n",
    "                H!(state.x, H)\n",
    "            else\n",
    "                state.g = copy(gcand)\n",
    "            end\n",
    "            fx = fcand\n",
    "        end\n",
    "        updateRadius!(state, b)\n",
    "        state.iter += 1\n",
    "    end\n",
    "    return state.x, state.iter\n",
    "end"
   ]
  },
  {
   "cell_type": "code",
   "execution_count": 12,
   "metadata": {},
   "outputs": [
    {
     "data": {
      "text/plain": [
       "g! (generic function with 1 method)"
      ]
     },
     "execution_count": 12,
     "metadata": {},
     "output_type": "execute_result"
    }
   ],
   "source": [
    "function g(x::Vector, n::Int64 = 210)\n",
    "    t = zeros(length(x))\n",
    "    for i = 1:n\n",
    "        probability = individual(x, i)\n",
    "        t += (1/probability(x))*ForwardDiff.gradient(probability, x)\n",
    "    end\n",
    "    return -t/n\n",
    "end\n",
    "\n",
    "function g!(x::Vector, storage::Vector)\n",
    "    s = g(x)\n",
    "    storage[1:length(s)] = s[1:length(s)]\n",
    "end"
   ]
  },
  {
   "cell_type": "code",
   "execution_count": 13,
   "metadata": {},
   "outputs": [
    {
     "data": {
      "text/plain": [
       "H! (generic function with 1 method)"
      ]
     },
     "execution_count": 13,
     "metadata": {},
     "output_type": "execute_result"
    }
   ],
   "source": [
    "function H(x::Vector)\n",
    "    return ForwardDiff.hessian(f, x)\n",
    "end\n",
    "\n",
    "function H!(x::Vector, storage::Matrix)\n",
    "    s = H(x)\n",
    "    n, m = size(s)\n",
    "    storage[1:n, 1:m] = s[1:length(s)]\n",
    "end"
   ]
  },
  {
   "cell_type": "code",
   "execution_count": 14,
   "metadata": {},
   "outputs": [
    {
     "data": {
      "text/plain": [
       "BHHH! (generic function with 1 method)"
      ]
     },
     "execution_count": 14,
     "metadata": {},
     "output_type": "execute_result"
    }
   ],
   "source": [
    "function BHHH(x::Vector, n::Int64 = 210)\n",
    "    t = zeros(length(x), length(x))\n",
    "    for i = 1:n\n",
    "        probability = individual(x, i)\n",
    "        g = ForwardDiff.gradient(probability, x)\n",
    "        t += g*(g')\n",
    "    end\n",
    "    return t/n\n",
    "end\n",
    "\n",
    "function BHHH!(x::Vector, storage::Matrix)\n",
    "    s = BHHH(x)\n",
    "    n, m = size(s)\n",
    "    storage[1:n, 1:m] = s[1:length(s)]\n",
    "end"
   ]
  },
  {
   "cell_type": "code",
   "execution_count": 15,
   "metadata": {},
   "outputs": [
    {
     "data": {
      "text/plain": [
       "BFGS! (generic function with 1 method)"
      ]
     },
     "execution_count": 15,
     "metadata": {},
     "output_type": "execute_result"
    }
   ],
   "source": [
    "function BFGS(B::Matrix, y::Vector, s::Vector)\n",
    "    Bs = B*s\n",
    "    return B-(Bs*Bs')/dot(s, Bs)+(y*y')/dot(s, y)\n",
    "end\n",
    "\n",
    "function BFGS!(B::Matrix, y::Vector, s::Vector)\n",
    "    n, m = size(B)\n",
    "    B[1:n, 1:m] = BFGS(B, y, s)\n",
    "end"
   ]
  },
  {
   "cell_type": "code",
   "execution_count": 16,
   "metadata": {},
   "outputs": [
    {
     "data": {
      "text/plain": [
       "SR1! (generic function with 1 method)"
      ]
     },
     "execution_count": 16,
     "metadata": {},
     "output_type": "execute_result"
    }
   ],
   "source": [
    "function SR1(B::Matrix, y::Vector, s::Vector)\n",
    "    Bs = B*s\n",
    "    return B+((y-Bs)*(y-Bs)')/((y-Bs)'*s)\n",
    "end\n",
    "\n",
    "function SR1!(B::Matrix, y::Vector, s::Vector)\n",
    "    n, m = size(B)\n",
    "    B[1:n, 1:m] = SR1(B, y, s)\n",
    "end"
   ]
  },
  {
   "cell_type": "code",
   "execution_count": 17,
   "metadata": {},
   "outputs": [
    {
     "name": "stdout",
     "output_type": "stream",
     "text": [
      "([5.27802, 3.89121, 3.18993, 0.0125254, -0.0884524, -0.0171627, -0.0152556], 10)\n",
      "([5.27802, 3.89121, 3.18993, 0.0125254, -0.0884524, -0.0171627, -0.0152556], 46)\n",
      "([5.27802, 3.89121, 3.18994, 0.0125254, -0.0884524, -0.0171627, -0.0152556], 42)\n"
     ]
    }
   ],
   "source": [
    "println(btr(f, g!, H!, TruncatedCG, zeros(7), BTRState()))\n",
    "#println(btr(f, g!, BHHH!, TruncatedCG, zeros(7), BTRState()))\n",
    "println(btr(f, g!, BFGS!, TruncatedCG, zeros(7), BTRState(), true))\n",
    "println(btr(f, g!, SR1!, TruncatedCG, zeros(7), BTRState(), true))"
   ]
  },
  {
   "cell_type": "code",
   "execution_count": null,
   "metadata": {},
   "outputs": [],
   "source": []
  }
 ],
 "metadata": {
  "kernelspec": {
   "display_name": "Julia 0.6.0",
   "language": "julia",
   "name": "julia-0.6"
  },
  "language_info": {
   "file_extension": ".jl",
   "mimetype": "application/julia",
   "name": "julia",
   "version": "0.6.1"
  }
 },
 "nbformat": 4,
 "nbformat_minor": 2
}
