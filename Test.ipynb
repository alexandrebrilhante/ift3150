{
 "cells": [
  {
   "cell_type": "code",
   "execution_count": 1,
   "metadata": {},
   "outputs": [],
   "source": [
    "using BenchmarkTools, Compat, DataFrames, Distributions, ForwardDiff"
   ]
  },
  {
   "cell_type": "code",
   "execution_count": 2,
   "metadata": {},
   "outputs": [
    {
     "data": {
      "text/html": [
       "<table class=\"data-frame\"><thead><tr><th></th><th>x1</th><th>x2</th><th>x3</th><th>x4</th></tr></thead><tbody><tr><th>1</th><td>1</td><td>0</td><td>0</td><td>0</td></tr><tr><th>2</th><td>0</td><td>1</td><td>0</td><td>0</td></tr><tr><th>3</th><td>0</td><td>0</td><td>1</td><td>0</td></tr><tr><th>4</th><td>35</td><td>0</td><td>0</td><td>0</td></tr><tr><th>5</th><td>69</td><td>34</td><td>35</td><td>0</td></tr><tr><th>6</th><td>70</td><td>71</td><td>70</td><td>30</td></tr></tbody></table>"
      ],
      "text/plain": [
       "6×4 DataFrames.DataFrame\n",
       "│ Row │ x1 │ x2 │ x3 │ x4 │\n",
       "├─────┼────┼────┼────┼────┤\n",
       "│ 1   │ 1  │ 0  │ 0  │ 0  │\n",
       "│ 2   │ 0  │ 1  │ 0  │ 0  │\n",
       "│ 3   │ 0  │ 0  │ 1  │ 0  │\n",
       "│ 4   │ 35 │ 0  │ 0  │ 0  │\n",
       "│ 5   │ 69 │ 34 │ 35 │ 0  │\n",
       "│ 6   │ 70 │ 71 │ 70 │ 30 │"
      ]
     },
     "execution_count": 2,
     "metadata": {},
     "output_type": "execute_result"
    }
   ],
   "source": [
    "# Basic trust region with truncated conjugate gradient.\n",
    "\n",
    "df = readtable(\"data/model_australia.txt\", separator = ' ', header = false)\n",
    "\n",
    "names!(df, [Symbol(\"x$i\") for i in 1:4])\n",
    "\n",
    "head(df)"
   ]
  },
  {
   "cell_type": "code",
   "execution_count": 3,
   "metadata": {},
   "outputs": [
    {
     "data": {
      "text/plain": [
       "rand_contdist (generic function with 1 method)"
      ]
     },
     "execution_count": 3,
     "metadata": {},
     "output_type": "execute_result"
    }
   ],
   "source": [
    "mixed_logit = DataFrame(P = 1.0:210.0)\n",
    "\n",
    "names!(mixed_logit, [Symbol(\"Score\")])\n",
    "\n",
    "storage = DataFrame(P = 1.0:5.0)\n",
    "\n",
    "names!(storage, [Symbol(\"Score\")])\n",
    "\n",
    "rand_contdist(rng::AbstractRNG, Dist::Distribution) = quantile(Dist, rand(rng))"
   ]
  },
  {
   "cell_type": "code",
   "execution_count": 4,
   "metadata": {},
   "outputs": [
    {
     "data": {
      "text/plain": [
       "individual (generic function with 1 method)"
      ]
     },
     "execution_count": 4,
     "metadata": {},
     "output_type": "execute_result"
    }
   ],
   "source": [
    "function individual(β::Vector, i::Int64)\n",
    "    data = convert(Array, df[i*7-6:i*7-1, :])\n",
    "    choices = convert(Array, df[i*7:i*7, :])\n",
    "    alternatives = find(choices .== 0)\n",
    "    choice = find(choices .== 1)[1]\n",
    "    \n",
    "    function utility(β::Vector, i::Int64)\n",
    "        return dot(vec(data[:, i]), β)\n",
    "    end\n",
    "    \n",
    "    function beta(γ::Vector, θ::Vector, β::Float64 = 0.0)\n",
    "        for k = 1:length(γ)\n",
    "            β += θ[k*1]+θ[k*2]*γ[k]\n",
    "        end\n",
    "        return β\n",
    "    end\n",
    "    \n",
    "    function probability(β::Vector, t::Float64 = 0.0)\n",
    "        \n",
    "        # Je simule pour le β aléatoire. À modifier.\n",
    "        γ = [rand_contdist(MersenneTwister(100), Uniform())]\n",
    "        \n",
    "        #println(\"γ:    \", γ)\n",
    "        \n",
    "        # Je convertit à partir de γ et θ. À modifier.\n",
    "        θ = [0.0, 1.0]\n",
    "        k = beta(γ, θ)\n",
    "        \n",
    "        temp = β[1:4]\n",
    "        push!(temp, k)\n",
    "        push!(temp, β[length(β)])\n",
    "        \n",
    "        #println(\"β:    \", β)\n",
    "        #println(\"temp: \", temp)\n",
    "        \n",
    "        c = utility(temp, choice)\n",
    "        for alternative in alternatives\n",
    "            t += exp(utility(temp, alternative)-c)\n",
    "        end\n",
    "        return 1/(1+t)\n",
    "    end\n",
    "    \n",
    "    return probability\n",
    "end"
   ]
  },
  {
   "cell_type": "code",
   "execution_count": 5,
   "metadata": {},
   "outputs": [
    {
     "data": {
      "text/plain": [
       "f (generic function with 3 methods)"
      ]
     },
     "execution_count": 5,
     "metadata": {},
     "output_type": "execute_result"
    }
   ],
   "source": [
    "function f(β::Vector, model::Float64 = 0.0, n::Int64 = 210)\n",
    "    i = 1\n",
    "    while i <= n\n",
    "        probability = individual(β, i)\n",
    "        model += log(probability(β))\n",
    "        i += 1\n",
    "    end\n",
    "    return -model/n\n",
    "end"
   ]
  },
  {
   "cell_type": "code",
   "execution_count": 6,
   "metadata": {},
   "outputs": [],
   "source": [
    "immutable BasicTrustRegion{T<:Real}\n",
    "    η1::T\n",
    "    η2::T\n",
    "    γ1::T\n",
    "    γ2::T\n",
    "end\n",
    "\n",
    "function BTRDefaults()\n",
    "    return BasicTrustRegion(0.01, 0.9, 0.5, 0.5)\n",
    "end\n",
    "\n",
    "type BTRState\n",
    "    iter::Int\n",
    "    β::Vector\n",
    "    βcand::Vector\n",
    "    g::Vector\n",
    "    step::Vector\n",
    "    Δ::Float64\n",
    "    ρ::Float64\n",
    "\n",
    "    function BTRState()\n",
    "        return new()\n",
    "    end\n",
    "end"
   ]
  },
  {
   "cell_type": "code",
   "execution_count": 7,
   "metadata": {},
   "outputs": [
    {
     "data": {
      "text/plain": [
       "updateRadius! (generic function with 1 method)"
      ]
     },
     "execution_count": 7,
     "metadata": {},
     "output_type": "execute_result"
    }
   ],
   "source": [
    "function acceptCandidate!(state::BTRState, b::BasicTrustRegion)\n",
    "    if state.ρ >= b.η1\n",
    "        return true\n",
    "    else\n",
    "        return false\n",
    "    end\n",
    "end\n",
    "\n",
    "function updateRadius!(state::BTRState, b::BasicTrustRegion)\n",
    "    if state.ρ >= b.η2\n",
    "        stepnorm = norm(state.step)\n",
    "        state.Δ = min(1e20, max(4*stepnorm, state.Δ))\n",
    "    elseif state.ρ >= b.η1\n",
    "        state.Δ *= b.γ2\n",
    "    else\n",
    "        state.Δ *= b.γ1\n",
    "    end\n",
    "end"
   ]
  },
  {
   "cell_type": "code",
   "execution_count": 8,
   "metadata": {},
   "outputs": [
    {
     "data": {
      "text/plain": [
       "TruncatedCG (generic function with 1 method)"
      ]
     },
     "execution_count": 8,
     "metadata": {},
     "output_type": "execute_result"
    }
   ],
   "source": [
    "function TruncatedCG(g::Vector, H::Matrix, Δ::Float64)\n",
    "    n = length(g)\n",
    "    s = zeros(n)\n",
    "    normg0 = norm(g)\n",
    "    v = g\n",
    "    d = -v\n",
    "    gv = dot(g, v)\n",
    "    norm2d = gv\n",
    "    norm2s = 0\n",
    "    sMd = 0\n",
    "    k = 0\n",
    "    Δ = Δ*Δ\n",
    "    while stopCG(norm(g), normg0, k, n) == false\n",
    "        Hd = H*d\n",
    "        κ = dot(d, Hd)\n",
    "        if κ <= 0\n",
    "            σ = (-sMd+sqrt(sMd*sMd+norm2d*(Δ-dot(s, s))))/norm2d\n",
    "            s += σ*d\n",
    "            break\n",
    "        end\n",
    "        α = gv/κ\n",
    "        norm2s += α*(2*sMd+α*norm2d)\n",
    "        if norm2s >= Δ\n",
    "            σ = (-sMd+sqrt(sMd*sMd+norm2d*(Δ-dot(s, s))))/norm2d\n",
    "            s += σ*d\n",
    "            break\n",
    "        end\n",
    "        s += α*d\n",
    "        g += α*Hd\n",
    "        v = g\n",
    "        newgv = dot(g, v)\n",
    "        β = newgv/gv\n",
    "        gv = newgv\n",
    "        d = -v+β*d\n",
    "        sMd = β*(sMd+α*norm2d)\n",
    "        norm2d = gv+β*β*norm2d\n",
    "        k += 1\n",
    "    end\n",
    "    return s\n",
    "end"
   ]
  },
  {
   "cell_type": "code",
   "execution_count": 9,
   "metadata": {},
   "outputs": [
    {
     "data": {
      "text/plain": [
       "stopCG (generic function with 1 method)"
      ]
     },
     "execution_count": 9,
     "metadata": {},
     "output_type": "execute_result"
    }
   ],
   "source": [
    "function stopCG(normg::Float64, normg0::Float64, k::Int, kmax::Int)\n",
    "    χ::Float64 = 0.1\n",
    "    θ::Float64 = 0.5\n",
    "    if (k == kmax) || (normg <= normg0*min(χ, normg0^θ))\n",
    "        return true\n",
    "    else\n",
    "        return false\n",
    "    end\n",
    "end"
   ]
  },
  {
   "cell_type": "code",
   "execution_count": 10,
   "metadata": {},
   "outputs": [
    {
     "data": {
      "text/plain": [
       "btr (generic function with 3 methods)"
      ]
     },
     "execution_count": 10,
     "metadata": {},
     "output_type": "execute_result"
    }
   ],
   "source": [
    "function btr(f::Function, g!::Function, H!::Function, Step::Function, β0::Vector,\n",
    "        state::BTRState = BTRState(), ApproxH::Bool = false)\n",
    "    b = BTRDefaults()\n",
    "    state.iter = 0\n",
    "    state.β = β0\n",
    "    n = length(β0)\n",
    "    tol = 1e-6*1e-6\n",
    "    state.g = zeros(n)\n",
    "    H = eye(n, n)\n",
    "    fβ = f(β0)\n",
    "    g!(β0, state.g)\n",
    "    state.Δ = 0.1*norm(state.g)\n",
    "    if ApproxH\n",
    "        y = zeros(n)\n",
    "        gcand = zeros(n)\n",
    "    else\n",
    "        H!(β0, H)\n",
    "    end\n",
    "    nmax = 100\n",
    "    \n",
    "    function model(s::Vector, g::Vector, H::Matrix)\n",
    "        return dot(s, g)+0.5*dot(s, H*s)\n",
    "    end\n",
    "    \n",
    "    while dot(state.g, state.g) > tol && state.iter < nmax\n",
    "        state.step = Step(state.g, H, state.Δ)\n",
    "        state.βcand = state.β+state.step\n",
    "        fcand = f(state.βcand)\n",
    "        state.ρ = (fcand-fβ)/(model(state.step, state.g, H))\n",
    "        if ApproxH\n",
    "            g!(state.βcand, gcand)\n",
    "            y = gcand-state.g;\n",
    "            H = H!(H, y, state.step)\n",
    "        end\n",
    "        if acceptCandidate!(state, b)\n",
    "            state.β = copy(state.βcand)\n",
    "            if ApproxH == false\n",
    "                g!(state.β, state.g)\n",
    "                H!(state.β, H)\n",
    "            else\n",
    "                state.g = copy(gcand)\n",
    "            end\n",
    "            fβ = fcand\n",
    "        end\n",
    "        updateRadius!(state, b)\n",
    "        state.iter += 1\n",
    "    end\n",
    "    return state.β, state.iter\n",
    "end"
   ]
  },
  {
   "cell_type": "code",
   "execution_count": 11,
   "metadata": {},
   "outputs": [
    {
     "data": {
      "text/plain": [
       "g! (generic function with 1 method)"
      ]
     },
     "execution_count": 11,
     "metadata": {},
     "output_type": "execute_result"
    }
   ],
   "source": [
    "function g(β::Vector, n::Int64 = 210)\n",
    "    t = zeros(length(β))\n",
    "    for i = 1:n\n",
    "        probability = individual(β, i)\n",
    "        t += (1/probability(β))*ForwardDiff.gradient(probability, β)\n",
    "    end\n",
    "    return -t/n\n",
    "end\n",
    "\n",
    "function g!(β::Vector, storage::Vector)\n",
    "    s = g(β)\n",
    "    storage[1:length(s)] = s[1:length(s)]\n",
    "end"
   ]
  },
  {
   "cell_type": "code",
   "execution_count": 12,
   "metadata": {},
   "outputs": [
    {
     "data": {
      "text/plain": [
       "H! (generic function with 1 method)"
      ]
     },
     "execution_count": 12,
     "metadata": {},
     "output_type": "execute_result"
    }
   ],
   "source": [
    "function H(β::Vector)\n",
    "    return ForwardDiff.hessian(f, β)\n",
    "end\n",
    "\n",
    "function H!(β::Vector, storage::Matrix)\n",
    "    s = H(β)\n",
    "    n, m = size(s)\n",
    "    storage[1:n, 1:m] = s[1:length(s)]\n",
    "end"
   ]
  },
  {
   "cell_type": "code",
   "execution_count": 13,
   "metadata": {},
   "outputs": [
    {
     "data": {
      "text/plain": [
       "BHHH! (generic function with 1 method)"
      ]
     },
     "execution_count": 13,
     "metadata": {},
     "output_type": "execute_result"
    }
   ],
   "source": [
    "function BHHH(β::Vector, n::Int64 = 210)\n",
    "    t = zeros(length(β), length(β))\n",
    "    for i = 1:n\n",
    "        probability = individual(β, i)\n",
    "        g = ForwardDiff.gradient(probability, β)\n",
    "        t += g*(g')\n",
    "    end\n",
    "    return -t/n\n",
    "end\n",
    "\n",
    "function BHHH!(β::Vector, storage::Matrix)\n",
    "    s = BHHH(β)\n",
    "    n, m = size(s)\n",
    "    storage[1:n, 1:m] = s[1:length(s)]\n",
    "end"
   ]
  },
  {
   "cell_type": "code",
   "execution_count": 14,
   "metadata": {},
   "outputs": [
    {
     "data": {
      "text/plain": [
       "BFGS! (generic function with 1 method)"
      ]
     },
     "execution_count": 14,
     "metadata": {},
     "output_type": "execute_result"
    }
   ],
   "source": [
    "function BFGS(B::Matrix, y::Vector, s::Vector)\n",
    "    Bs = B*s\n",
    "    return B-(Bs*Bs')/dot(s, Bs)+(y*y')/dot(s, y)\n",
    "end\n",
    "\n",
    "function BFGS!(B::Matrix, y::Vector, s::Vector)\n",
    "    n, m = size(B)\n",
    "    B[1:n, 1:m] = BFGS(B, y, s)\n",
    "end"
   ]
  },
  {
   "cell_type": "code",
   "execution_count": 15,
   "metadata": {},
   "outputs": [
    {
     "data": {
      "text/plain": [
       "SR1! (generic function with 1 method)"
      ]
     },
     "execution_count": 15,
     "metadata": {},
     "output_type": "execute_result"
    }
   ],
   "source": [
    "function SR1(B::Matrix, y::Vector, s::Vector)\n",
    "    Bs = B*s\n",
    "    return B+((y-Bs)*(y-Bs)')/((y-Bs)'*s)\n",
    "end\n",
    "\n",
    "function SR1!(B::Matrix, y::Vector, s::Vector)\n",
    "    n, m = size(B)\n",
    "    B[1:n, 1:m] = SR1(B, y, s)\n",
    "end"
   ]
  },
  {
   "cell_type": "code",
   "execution_count": 16,
   "metadata": {},
   "outputs": [
    {
     "data": {
      "text/plain": [
       "([-18.9371, -7.58557, -11.2609, 0.0541184, 0.0, 1.0, -0.0579395], 14)"
      ]
     },
     "execution_count": 16,
     "metadata": {},
     "output_type": "execute_result"
    }
   ],
   "source": [
    "@benchmark btr(f, g!, H!, TruncatedCG, [0.0, 0.0, 0.0, 0.0, 0.0, 1.0, 0.0], BTRState())\n",
    "btr(f, g!, H!, TruncatedCG, [0.0, 0.0, 0.0, 0.0, 0.0, 1.0, 0.0], BTRState())"
   ]
  },
  {
   "cell_type": "code",
   "execution_count": 17,
   "metadata": {},
   "outputs": [
    {
     "data": {
      "text/plain": [
       "([-0.915939, 0.79032, -1.18917, -0.252563, 0.0, 1.0, -0.180764], 100)"
      ]
     },
     "execution_count": 17,
     "metadata": {},
     "output_type": "execute_result"
    }
   ],
   "source": [
    "@benchmark btr(f, g!, BHHH!, TruncatedCG, [0.0, 0.0, 0.0, 0.0, 0.0, 1.0, 0.0], BTRState())\n",
    "btr(f, g!, BHHH!, TruncatedCG, [0.0, 0.0, 0.0, 0.0, 0.0, 1.0, 0.0], BTRState())"
   ]
  },
  {
   "cell_type": "code",
   "execution_count": 18,
   "metadata": {},
   "outputs": [
    {
     "data": {
      "text/plain": [
       "([-18.9371, -7.58557, -11.2609, 0.0541184, 0.0, 1.0, -0.0579395], 37)"
      ]
     },
     "execution_count": 18,
     "metadata": {},
     "output_type": "execute_result"
    }
   ],
   "source": [
    "@benchmark btr(f, g!, BFGS!, TruncatedCG, [0.0, 0.0, 0.0, 0.0, 0.0, 1.0, 0.0], BTRState(), true)\n",
    "btr(f, g!, BFGS!, TruncatedCG, [0.0, 0.0, 0.0, 0.0, 0.0, 1.0, 0.0], BTRState(), true)"
   ]
  },
  {
   "cell_type": "code",
   "execution_count": 19,
   "metadata": {},
   "outputs": [
    {
     "data": {
      "text/plain": [
       "([-18.9371, -7.58557, -11.2609, 0.0541184, 0.0, 1.0, -0.0579395], 40)"
      ]
     },
     "execution_count": 19,
     "metadata": {},
     "output_type": "execute_result"
    }
   ],
   "source": [
    "@benchmark btr(f, g!, SR1!, TruncatedCG, [0.0, 0.0, 0.0, 0.0, 0.0, 1.0, 0.0], BTRState(), true)\n",
    "btr(f, g!, SR1!, TruncatedCG, [0.0, 0.0, 0.0, 0.0, 0.0, 1.0, 0.0], BTRState(), true)"
   ]
  },
  {
   "cell_type": "code",
   "execution_count": null,
   "metadata": {},
   "outputs": [],
   "source": []
  }
 ],
 "metadata": {
  "kernelspec": {
   "display_name": "Julia 0.6.0",
   "language": "julia",
   "name": "julia-0.6"
  },
  "language_info": {
   "file_extension": ".jl",
   "mimetype": "application/julia",
   "name": "julia",
   "version": "0.6.1"
  }
 },
 "nbformat": 4,
 "nbformat_minor": 2
}
