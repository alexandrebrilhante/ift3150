{
 "cells": [
  {
   "cell_type": "code",
   "execution_count": 49,
   "metadata": {},
   "outputs": [],
   "source": [
    "using BenchmarkTools, Compat, DataFrames, Distributions, ForwardDiff, PyCall"
   ]
  },
  {
   "cell_type": "code",
   "execution_count": 50,
   "metadata": {},
   "outputs": [
    {
     "data": {
      "text/plain": [
       "rand_contdist (generic function with 1 method)"
      ]
     },
     "execution_count": 50,
     "metadata": {},
     "output_type": "execute_result"
    }
   ],
   "source": [
    "# Stochastic gradient descent, mixed logit.\n",
    "\n",
    "df = readtable(\"../data/parsed_model_australia.txt\", separator = ' ', header = false)\n",
    "\n",
    "a, b = size(df)\n",
    "\n",
    "const n_individuals = a\n",
    "const n_alternatives = 4\n",
    "const n_parameters = b\n",
    "const n_simulations = 5\n",
    "const simulated_b = 5\n",
    "\n",
    "srand(123456)\n",
    "\n",
    "rand_contdist(Dist::Distribution) = quantile(Dist, rand())"
   ]
  },
  {
   "cell_type": "code",
   "execution_count": 51,
   "metadata": {},
   "outputs": [
    {
     "data": {
      "text/html": [
       "<table class=\"data-frame\"><thead><tr><th></th><th>x1</th><th>x2</th><th>x3</th><th>x4</th><th>x5</th><th>x6</th><th>x7</th><th>x8</th><th>x9</th><th>x10</th><th>x11</th><th>x12</th><th>x13</th><th>x14</th><th>x15</th><th>x16</th><th>x17</th><th>x18</th><th>x19</th><th>x20</th><th>x21</th><th>x22</th><th>x23</th><th>x24</th><th>x25</th></tr></thead><tbody><tr><th>1</th><td>4</td><td>1</td><td>0</td><td>0</td><td>0</td><td>0</td><td>1</td><td>0</td><td>0</td><td>0</td><td>0</td><td>1</td><td>0</td><td>35</td><td>0</td><td>0</td><td>0</td><td>69</td><td>34</td><td>35</td><td>0</td><td>70</td><td>71</td><td>70</td><td>30</td></tr><tr><th>2</th><td>4</td><td>1</td><td>0</td><td>0</td><td>0</td><td>0</td><td>1</td><td>0</td><td>0</td><td>0</td><td>0</td><td>1</td><td>0</td><td>30</td><td>0</td><td>0</td><td>0</td><td>64</td><td>44</td><td>53</td><td>0</td><td>68</td><td>84</td><td>85</td><td>50</td></tr><tr><th>3</th><td>4</td><td>1</td><td>0</td><td>0</td><td>0</td><td>0</td><td>1</td><td>0</td><td>0</td><td>0</td><td>0</td><td>1</td><td>0</td><td>40</td><td>0</td><td>0</td><td>0</td><td>69</td><td>34</td><td>35</td><td>0</td><td>129</td><td>195</td><td>149</td><td>101</td></tr><tr><th>4</th><td>4</td><td>1</td><td>0</td><td>0</td><td>0</td><td>0</td><td>1</td><td>0</td><td>0</td><td>0</td><td>0</td><td>1</td><td>0</td><td>70</td><td>0</td><td>0</td><td>0</td><td>64</td><td>44</td><td>53</td><td>0</td><td>59</td><td>79</td><td>81</td><td>32</td></tr><tr><th>5</th><td>4</td><td>1</td><td>0</td><td>0</td><td>0</td><td>0</td><td>1</td><td>0</td><td>0</td><td>0</td><td>0</td><td>1</td><td>0</td><td>45</td><td>0</td><td>0</td><td>0</td><td>64</td><td>44</td><td>53</td><td>0</td><td>82</td><td>93</td><td>94</td><td>99</td></tr><tr><th>6</th><td>2</td><td>1</td><td>0</td><td>0</td><td>0</td><td>0</td><td>1</td><td>0</td><td>0</td><td>0</td><td>0</td><td>1</td><td>0</td><td>20</td><td>0</td><td>0</td><td>0</td><td>69</td><td>40</td><td>35</td><td>0</td><td>70</td><td>57</td><td>58</td><td>43</td></tr></tbody></table>"
      ],
      "text/plain": [
       "6×25 DataFrames.DataFrame\n",
       "│ Row │ x1 │ x2 │ x3 │ x4 │ x5 │ x6 │ x7 │ x8 │ x9 │ x10 │ x11 │ x12 │ x13 │\n",
       "├─────┼────┼────┼────┼────┼────┼────┼────┼────┼────┼─────┼─────┼─────┼─────┤\n",
       "│ 1   │ 4  │ 1  │ 0  │ 0  │ 0  │ 0  │ 1  │ 0  │ 0  │ 0   │ 0   │ 1   │ 0   │\n",
       "│ 2   │ 4  │ 1  │ 0  │ 0  │ 0  │ 0  │ 1  │ 0  │ 0  │ 0   │ 0   │ 1   │ 0   │\n",
       "│ 3   │ 4  │ 1  │ 0  │ 0  │ 0  │ 0  │ 1  │ 0  │ 0  │ 0   │ 0   │ 1   │ 0   │\n",
       "│ 4   │ 4  │ 1  │ 0  │ 0  │ 0  │ 0  │ 1  │ 0  │ 0  │ 0   │ 0   │ 1   │ 0   │\n",
       "│ 5   │ 4  │ 1  │ 0  │ 0  │ 0  │ 0  │ 1  │ 0  │ 0  │ 0   │ 0   │ 1   │ 0   │\n",
       "│ 6   │ 2  │ 1  │ 0  │ 0  │ 0  │ 0  │ 1  │ 0  │ 0  │ 0   │ 0   │ 1   │ 0   │\n",
       "\n",
       "│ Row │ x14 │ x15 │ x16 │ x17 │ x18 │ x19 │ x20 │ x21 │ x22 │ x23 │ x24 │ x25 │\n",
       "├─────┼─────┼─────┼─────┼─────┼─────┼─────┼─────┼─────┼─────┼─────┼─────┼─────┤\n",
       "│ 1   │ 35  │ 0   │ 0   │ 0   │ 69  │ 34  │ 35  │ 0   │ 70  │ 71  │ 70  │ 30  │\n",
       "│ 2   │ 30  │ 0   │ 0   │ 0   │ 64  │ 44  │ 53  │ 0   │ 68  │ 84  │ 85  │ 50  │\n",
       "│ 3   │ 40  │ 0   │ 0   │ 0   │ 69  │ 34  │ 35  │ 0   │ 129 │ 195 │ 149 │ 101 │\n",
       "│ 4   │ 70  │ 0   │ 0   │ 0   │ 64  │ 44  │ 53  │ 0   │ 59  │ 79  │ 81  │ 32  │\n",
       "│ 5   │ 45  │ 0   │ 0   │ 0   │ 64  │ 44  │ 53  │ 0   │ 82  │ 93  │ 94  │ 99  │\n",
       "│ 6   │ 20  │ 0   │ 0   │ 0   │ 69  │ 40  │ 35  │ 0   │ 70  │ 57  │ 58  │ 43  │"
      ]
     },
     "execution_count": 51,
     "metadata": {},
     "output_type": "execute_result"
    }
   ],
   "source": [
    "head(df)"
   ]
  },
  {
   "cell_type": "code",
   "execution_count": 52,
   "metadata": {},
   "outputs": [
    {
     "data": {
      "text/html": [
       "<table class=\"data-frame\"><thead><tr><th></th><th>β1</th><th>β2</th><th>β3</th><th>β4</th><th>β5</th></tr></thead><tbody><tr><th>1</th><td>0.5152104671804307</td><td>0.7412898556237781</td><td>0.5821424283521601</td><td>0.2099687343318144</td><td>0.1806485932541042</td></tr><tr><th>2</th><td>0.5743318350142363</td><td>0.4733804534506725</td><td>0.6350533219682404</td><td>0.003946023046596414</td><td>0.9987169142802474</td></tr><tr><th>3</th><td>0.391493560981647</td><td>0.011082822655117397</td><td>0.728900346094737</td><td>0.5885694843677474</td><td>0.0955464156850605</td></tr><tr><th>4</th><td>0.3161831307020315</td><td>0.9868070201531223</td><td>0.3248312054217537</td><td>0.6275088202683465</td><td>0.9742043509623348</td></tr><tr><th>5</th><td>0.9133245457961849</td><td>0.3026406935881607</td><td>0.24034692925733436</td><td>0.6929933674978992</td><td>0.9948456891059492</td></tr><tr><th>6</th><td>0.7798750382138562</td><td>0.7603354924796097</td><td>0.9018641475932665</td><td>0.09221139730637495</td><td>0.400661483972383</td></tr></tbody></table>"
      ],
      "text/plain": [
       "6×5 DataFrames.DataFrame\n",
       "│ Row │ β1       │ β2        │ β3       │ β4         │ β5        │\n",
       "├─────┼──────────┼───────────┼──────────┼────────────┼───────────┤\n",
       "│ 1   │ 0.51521  │ 0.74129   │ 0.582142 │ 0.209969   │ 0.180649  │\n",
       "│ 2   │ 0.574332 │ 0.47338   │ 0.635053 │ 0.00394602 │ 0.998717  │\n",
       "│ 3   │ 0.391494 │ 0.0110828 │ 0.7289   │ 0.588569   │ 0.0955464 │\n",
       "│ 4   │ 0.316183 │ 0.986807  │ 0.324831 │ 0.627509   │ 0.974204  │\n",
       "│ 5   │ 0.913325 │ 0.302641  │ 0.240347 │ 0.692993   │ 0.994846  │\n",
       "│ 6   │ 0.779875 │ 0.760335  │ 0.901864 │ 0.0922114  │ 0.400661  │"
      ]
     },
     "execution_count": 52,
     "metadata": {},
     "output_type": "execute_result"
    }
   ],
   "source": [
    "mixed_logit = DataFrame(β1 = 1.0:Float64(n_individuals),\n",
    "                        β2 = 1.0:Float64(n_individuals),\n",
    "                        β3 = 1.0:Float64(n_individuals),\n",
    "                        β4 = 1.0:Float64(n_individuals),\n",
    "                        β5 = 1.0:Float64(n_individuals))\n",
    "\n",
    "function simulate()\n",
    "    for i = 1:n_individuals, j = 1:n_simulations\n",
    "        mixed_logit[i, j] = rand()\n",
    "    end\n",
    "end\n",
    "\n",
    "simulate()\n",
    "\n",
    "head(mixed_logit)"
   ]
  },
  {
   "cell_type": "code",
   "execution_count": 53,
   "metadata": {},
   "outputs": [
    {
     "data": {
      "text/plain": [
       "individual (generic function with 1 method)"
      ]
     },
     "execution_count": 53,
     "metadata": {},
     "output_type": "execute_result"
    }
   ],
   "source": [
    "function individual(θ::Vector, i::Int64)\n",
    "    m, n = size(df)\n",
    "    choice = df[i, 1][1]\n",
    "    alternatives = collect(1:n_alternatives)\n",
    "    splice!(alternatives, choice)\n",
    "    \n",
    "    function utility(β::Vector, k::Int64)\n",
    "        temp = Float64[]\n",
    "        k += 1\n",
    "        while k <= n_parameters\n",
    "            push!(temp, df[i, k])\n",
    "            k += n_alternatives\n",
    "        end\n",
    "        return dot(temp, β)\n",
    "    end\n",
    "    \n",
    "    function construct(γ::Vector, θ::Vector)\n",
    "        return θ[1]+θ[2]*γ[1]\n",
    "    end\n",
    "\n",
    "    function probability(θ::Vector)\n",
    "        logit = 0.0\n",
    "        t = 0.0\n",
    "        for k = 1:n_simulations\n",
    "            β = []\n",
    "            for j = 1:simulated_b-1\n",
    "                push!(β, θ[j])\n",
    "            end\n",
    "            γ = [mixed_logit[i, k]]\n",
    "            push!(β, construct(γ, θ[simulated_b:simulated_b+1]))\n",
    "            for j = simulated_b+2:length(θ)\n",
    "                push!(β, θ[j])\n",
    "            end \n",
    "            c = utility(β, choice)\n",
    "            for alternative in alternatives\n",
    "                t += exp(utility(β, alternative)-c)\n",
    "            end\n",
    "            logit += 1/(1+t)\n",
    "        end\n",
    "        return logit/n_simulations\n",
    "    end\n",
    "    \n",
    "    return probability\n",
    "end"
   ]
  },
  {
   "cell_type": "code",
   "execution_count": 54,
   "metadata": {},
   "outputs": [
    {
     "data": {
      "text/plain": [
       "f (generic function with 2 methods)"
      ]
     },
     "execution_count": 54,
     "metadata": {},
     "output_type": "execute_result"
    }
   ],
   "source": [
    "function f(θ::Vector, i::Int64 = 1)\n",
    "    probability = individual(θ, i)\n",
    "    return log(probability(θ))\n",
    "end"
   ]
  },
  {
   "cell_type": "code",
   "execution_count": 55,
   "metadata": {},
   "outputs": [
    {
     "data": {
      "text/plain": [
       "g! (generic function with 1 method)"
      ]
     },
     "execution_count": 55,
     "metadata": {},
     "output_type": "execute_result"
    }
   ],
   "source": [
    "function g(x::Vector, i::Int64)\n",
    "    probability = individual(x, i)\n",
    "    return ForwardDiff.gradient(probability, x)\n",
    "end\n",
    "\n",
    "function g!(x::Vector, i::Int64, storage::Vector)\n",
    "    s = g(x, i)\n",
    "    storage[1:length(s)] = s[1:length(s)]\n",
    "end"
   ]
  },
  {
   "cell_type": "code",
   "execution_count": 56,
   "metadata": {},
   "outputs": [
    {
     "data": {
      "text/plain": [
       "shuffle! (generic function with 1 method)"
      ]
     },
     "execution_count": 56,
     "metadata": {},
     "output_type": "execute_result"
    }
   ],
   "source": [
    "function shuffle!(df::DataFrame)\n",
    "    for i = size(df, 1):-1:2\n",
    "        j = rand(1:i)\n",
    "        df[i, :], df[j, :] = df[j, :], df[i, :]\n",
    "    end\n",
    "end"
   ]
  },
  {
   "cell_type": "code",
   "execution_count": 68,
   "metadata": {},
   "outputs": [
    {
     "data": {
      "text/plain": [
       "sgd (generic function with 4 methods)"
      ]
     },
     "execution_count": 68,
     "metadata": {},
     "output_type": "execute_result"
    }
   ],
   "source": [
    "function sgd(ω0::Vector, η::Float64 = 0.0001, tol::Float64 = 1e-6, kmax::Int64 = 10000)\n",
    "    k = 1\n",
    "    ω = ω0\n",
    "    n = length(ω)\n",
    "    tol *= tol\n",
    "    dfω = ones(n)\n",
    "    while norm(dfω) > tol && k < kmax\n",
    "        for i = 1:n_individuals\n",
    "            ω -= η*g!(ω, i, dfω)\n",
    "        end\n",
    "        k += 1\n",
    "    end\n",
    "    return ω, k\n",
    "end"
   ]
  },
  {
   "cell_type": "code",
   "execution_count": 69,
   "metadata": {},
   "outputs": [
    {
     "data": {
      "text/plain": [
       "([0.0618202, -1.22894, 0.974303, -0.436661, -8.15488e-5, 0.286384, 0.11079], 10000)"
      ]
     },
     "execution_count": 69,
     "metadata": {},
     "output_type": "execute_result"
    }
   ],
   "source": [
    "sgd(zeros(7)) # pas exact"
   ]
  }
 ],
 "metadata": {
  "kernelspec": {
   "display_name": "Julia 0.6.0",
   "language": "julia",
   "name": "julia-0.6"
  },
  "language_info": {
   "file_extension": ".jl",
   "mimetype": "application/julia",
   "name": "julia",
   "version": "0.6.1"
  }
 },
 "nbformat": 4,
 "nbformat_minor": 2
}
