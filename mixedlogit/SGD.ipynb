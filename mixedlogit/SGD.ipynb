{
 "cells": [
  {
   "cell_type": "code",
   "execution_count": null,
   "metadata": {},
   "outputs": [],
   "source": [
    "using DataFrames, Distributions, ForwardDiff"
   ]
  },
  {
   "cell_type": "code",
   "execution_count": null,
   "metadata": {},
   "outputs": [],
   "source": [
    "# Stochastic gradient descent, mixed logit.\n",
    "\n",
    "df = readtable(\"../data/parsed_model_australia.txt\", separator = ' ', header = false)\n",
    "\n",
    "a, b = size(df)\n",
    "\n",
    "const n_individuals = a\n",
    "const n_alternatives = 4\n",
    "const n_parameters = b\n",
    "const n_simulations = 1000\n",
    "const simulated_b = 5\n",
    "\n",
    "srand(123456)\n",
    "\n",
    "rand_contdist(Dist::Distribution) = quantile(Dist, rand())\n",
    "\n",
    "head(df)"
   ]
  },
  {
   "cell_type": "code",
   "execution_count": null,
   "metadata": {},
   "outputs": [],
   "source": [
    "mixed_logit = zeros(n_individuals, n_simulations)\n",
    "\n",
    "function simulate()\n",
    "    for i = 1:n_individuals, j = 1:n_simulations\n",
    "        mixed_logit[i, j] = rand()\n",
    "    end\n",
    "end\n",
    "\n",
    "simulate()"
   ]
  },
  {
   "cell_type": "code",
   "execution_count": null,
   "metadata": {},
   "outputs": [],
   "source": [
    "function individual(θ::Vector, i::Int64)\n",
    "    m, n = size(df)\n",
    "    choice = df[i, 1][1]\n",
    "    alternatives = collect(1:n_alternatives)\n",
    "    splice!(alternatives, choice)\n",
    "    \n",
    "    function utility(β::Vector, k::Int64)\n",
    "        temp = Float64[]\n",
    "        k += 1\n",
    "        while k <= n_parameters\n",
    "            push!(temp, df[i, k])\n",
    "            k += n_alternatives\n",
    "        end\n",
    "        return dot(temp, β)\n",
    "    end\n",
    "    \n",
    "    function construct(γ::Vector, θ::Vector)\n",
    "        return θ[1]+θ[2]*γ[1]\n",
    "    end\n",
    "    \n",
    "    function probability(θ::Vector)\n",
    "        logit = 0.0\n",
    "        t = 0.0\n",
    "        for k = 1:n_simulations\n",
    "            β = []\n",
    "            for j = 1:simulated_b-1\n",
    "                push!(β, θ[j])\n",
    "            end\n",
    "            γ = [mixed_logit[i, k]]\n",
    "            push!(β, construct(γ, θ[simulated_b:simulated_b+1]))\n",
    "            for j = simulated_b+2:length(θ)\n",
    "                push!(β, θ[j])\n",
    "            end \n",
    "            c = utility(β, choice)\n",
    "            for alternative in alternatives\n",
    "                t += exp(utility(β, alternative)-c)\n",
    "            end\n",
    "            logit += 1/(1+t)\n",
    "        end\n",
    "        return logit/n_simulations\n",
    "    end\n",
    "    \n",
    "    return probability\n",
    "end"
   ]
  },
  {
   "cell_type": "code",
   "execution_count": null,
   "metadata": {},
   "outputs": [],
   "source": [
    "function f(β::Vector)\n",
    "    model = 0.0\n",
    "    i = 1\n",
    "    while i <= n_individuals\n",
    "        logit = individual(β, i)\n",
    "        model += log(logit(β))\n",
    "        i += 1\n",
    "    end\n",
    "    return -model/n_individuals\n",
    "end"
   ]
  },
  {
   "cell_type": "code",
   "execution_count": null,
   "metadata": {},
   "outputs": [],
   "source": [
    "function g(x::Vector, i::Int64, j::Int64)\n",
    "    t = zeros(length(x))\n",
    "    for k = i:j\n",
    "        logit = individual(x, k)\n",
    "        t += (1/logit(x))*ForwardDiff.gradient(logit, x)\n",
    "    end\n",
    "    return t\n",
    "end\n",
    "\n",
    "function g!(x::Vector, i::Int64, j::Int64, storage::Vector)\n",
    "    s = g(x, i, j)\n",
    "    storage[1:length(s)] = s[1:length(s)]\n",
    "end"
   ]
  },
  {
   "cell_type": "code",
   "execution_count": null,
   "metadata": {},
   "outputs": [],
   "source": [
    "function shuffle!(df::DataFrame)\n",
    "    for i = size(df, 1):-1:2\n",
    "        j = rand(1:i)\n",
    "        df[i, :], df[j, :] = df[j, :], df[i, :]\n",
    "    end\n",
    "end"
   ]
  },
  {
   "cell_type": "code",
   "execution_count": null,
   "metadata": {},
   "outputs": [],
   "source": [
    "function sgd(g!::Function, ω0::Vector, η::Float64, batch_size::Int64 = 1, tol::Float64 = 1e-6)\n",
    "    k = 1\n",
    "    ω = ω0\n",
    "    n = length(ω)\n",
    "    dfx = ones(n)\n",
    "    nmax = 1000 # epochs\n",
    "    change = 1.0\n",
    "    while change > tol && k < nmax\n",
    "        shuffle!(df)\n",
    "        x = ω\n",
    "        for i = 1:batch_size:n_individuals\n",
    "            ω -= η*g!(x, i, batch_size, dfx)\n",
    "        end\n",
    "        change = abs(f(ω)-f(x))\n",
    "        k += 1\n",
    "    end\n",
    "    return ω, k, f(ω)\n",
    "end"
   ]
  },
  {
   "cell_type": "code",
   "execution_count": null,
   "metadata": {},
   "outputs": [],
   "source": [
    "sgd(g!, zeros(7), 0.001)"
   ]
  },
  {
   "cell_type": "code",
   "execution_count": null,
   "metadata": {},
   "outputs": [],
   "source": []
  }
 ],
 "metadata": {
  "kernelspec": {
   "display_name": "Julia 0.6.0",
   "language": "julia",
   "name": "julia-0.6"
  },
  "language_info": {
   "file_extension": ".jl",
   "mimetype": "application/julia",
   "name": "julia",
   "version": "0.6.1"
  }
 },
 "nbformat": 4,
 "nbformat_minor": 2
}
