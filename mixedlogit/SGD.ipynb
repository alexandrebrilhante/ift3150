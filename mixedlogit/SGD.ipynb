{
 "cells": [
  {
   "cell_type": "code",
   "execution_count": null,
   "metadata": {},
   "outputs": [],
   "source": [
    "using DataFrames, Distributions, ForwardDiff, Plots"
   ]
  },
  {
   "cell_type": "code",
   "execution_count": null,
   "metadata": {
    "scrolled": true
   },
   "outputs": [],
   "source": [
    "# Stochastic gradient descent, mixed logit.\n",
    "\n",
    "df = readtable(\"../data/parsed_model_australia.txt\", separator = ' ', header = false)\n",
    "\n",
    "a, b = size(df)\n",
    "\n",
    "const n_individuals = a\n",
    "const n_alternatives = 4\n",
    "const n_parameters = b\n",
    "const n_simulations = 1000\n",
    "const simulated_b = 5\n",
    "\n",
    "srand(123456)\n",
    "\n",
    "rand_contdist(Dist::Distribution) = quantile(Dist, rand())\n",
    "\n",
    "head(df)"
   ]
  },
  {
   "cell_type": "code",
   "execution_count": null,
   "metadata": {},
   "outputs": [],
   "source": [
    "mixed_logit = zeros(n_individuals, n_simulations)\n",
    "\n",
    "function simulate()\n",
    "    for i = 1:n_individuals, j = 1:n_simulations\n",
    "        mixed_logit[i, j] = rand()\n",
    "    end\n",
    "end\n",
    "\n",
    "simulate()"
   ]
  },
  {
   "cell_type": "code",
   "execution_count": null,
   "metadata": {},
   "outputs": [],
   "source": [
    "function individual(θ::Vector, i::Int64)\n",
    "    m, n = size(df)\n",
    "    choice = df[i, 1][1]\n",
    "    alternatives = collect(1:n_alternatives)\n",
    "    splice!(alternatives, choice)\n",
    "    \n",
    "    function utility(β::Vector, k::Int64)\n",
    "        temp = Float64[]\n",
    "        k += 1\n",
    "        while k <= n_parameters\n",
    "            push!(temp, df[i, k])\n",
    "            k += n_alternatives\n",
    "        end\n",
    "        return dot(temp, β)\n",
    "    end\n",
    "    \n",
    "    function construct(γ::Vector, θ::Vector)\n",
    "        return θ[1]+θ[2]*γ[1]\n",
    "    end\n",
    "    \n",
    "    function probability(θ::Vector)\n",
    "        logit = 0.0\n",
    "        t = 0.0\n",
    "        for k = 1:n_simulations\n",
    "            β = []\n",
    "            for j = 1:simulated_b-1\n",
    "                push!(β, θ[j])\n",
    "            end\n",
    "            γ = [mixed_logit[i, k]]\n",
    "            push!(β, construct(γ, θ[simulated_b:simulated_b+1]))\n",
    "            for j = simulated_b+2:length(θ)\n",
    "                push!(β, θ[j])\n",
    "            end \n",
    "            c = utility(β, choice)\n",
    "            for alternative in alternatives\n",
    "                t += exp(utility(β, alternative)-c)\n",
    "            end\n",
    "            logit += 1/(1+t)\n",
    "        end\n",
    "        return logit/n_simulations\n",
    "    end\n",
    "    \n",
    "    return probability\n",
    "end"
   ]
  },
  {
   "cell_type": "code",
   "execution_count": null,
   "metadata": {},
   "outputs": [],
   "source": [
    "function f(β::Vector)\n",
    "    model = 0.0\n",
    "    i = 1\n",
    "    while i <= n_individuals\n",
    "        logit = individual(β, i)\n",
    "        model += log(logit(β))\n",
    "        i += 1\n",
    "    end\n",
    "    return -model/n_individuals\n",
    "end"
   ]
  },
  {
   "cell_type": "code",
   "execution_count": null,
   "metadata": {},
   "outputs": [],
   "source": [
    "function g(x::Vector, i::Int64, j::Int64)\n",
    "    t = zeros(length(x))\n",
    "    for k = i:j\n",
    "        logit = individual(x, k)\n",
    "        t += (1/logit(x))*ForwardDiff.gradient(logit, x)\n",
    "    end\n",
    "    return -t/j\n",
    "end\n",
    "\n",
    "function g!(x::Vector, i::Int64, j::Int64, storage::Vector)\n",
    "    s = g(x, i, j)\n",
    "    storage[1:length(s)] = s[1:length(s)]\n",
    "end"
   ]
  },
  {
   "cell_type": "code",
   "execution_count": null,
   "metadata": {},
   "outputs": [],
   "source": [
    "function scores!(x::Vector, i::Int64, j::Int64, t::Matrix)\n",
    "    for k = i:j\n",
    "        logit = individual(x, k)\n",
    "        t[:, k] = (1/logit(x))*ForwardDiff.gradient(logit, x)\n",
    "    end\n",
    "    return -t\n",
    "end"
   ]
  },
  {
   "cell_type": "code",
   "execution_count": null,
   "metadata": {},
   "outputs": [],
   "source": [
    "function stopCG(normg::Float64, normg0::Float64, k::Int, kmax::Int)\n",
    "    χ::Float64 = 0.1\n",
    "    θ::Float64 = 0.5\n",
    "    if (k == kmax) || (normg <= normg0*min(χ, normg0^θ))\n",
    "        return true\n",
    "    else\n",
    "        return false\n",
    "    end\n",
    "end"
   ]
  },
  {
   "cell_type": "code",
   "execution_count": null,
   "metadata": {},
   "outputs": [],
   "source": [
    "function TruncatedCG(g::Vector, H::Matrix, Δ::Float64)\n",
    "    n = length(g)\n",
    "    s = zeros(n)\n",
    "    normg0 = norm(g)\n",
    "    v = g\n",
    "    d = -v\n",
    "    gv = dot(g, v)\n",
    "    norm2d = gv\n",
    "    norm2s = 0\n",
    "    sMd = 0\n",
    "    k = 0\n",
    "    Δ2 = Δ*Δ\n",
    "    while stopCG(norm(g), normg0, k, n) == false\n",
    "        weight = 1.0/n_individuals\n",
    "        κ = 0.0\n",
    "        for j = 1:size(H)[2]\n",
    "            κ += (dot(d, H[:, j]))^2\n",
    "        end\n",
    "        κ *= weight\n",
    "        if κ <= 0\n",
    "            σ = (-sMd+sqrt(sMd*sMd+norm2d*(Δ2-dot(s, s))))/norm2d\n",
    "            s += σ*d\n",
    "            break\n",
    "        end\n",
    "        α = gv/κ\n",
    "        norm2s += α*(2*sMd+α*norm2d)\n",
    "        if norm2s >= Δ2\n",
    "            σ = (-sMd+sqrt(sMd*sMd+norm2d*(Δ2-dot(s, s))))/norm2d\n",
    "            s += σ*d\n",
    "            break\n",
    "        end\n",
    "        s += α*d\n",
    "        for j = 1:size(H)[2]\n",
    "            g += weight*(α*dot(H[:, j], d)*H[:, j])\n",
    "        end\n",
    "        v = g\n",
    "        newgv = dot(g, v)\n",
    "        β = newgv/gv\n",
    "        gv = newgv\n",
    "        d = -v+β*d\n",
    "        sMd = β*(sMd+α*norm2d)\n",
    "        norm2d = gv+β*β*norm2d\n",
    "        k += 1\n",
    "    end\n",
    "    return s\n",
    "end"
   ]
  },
  {
   "cell_type": "code",
   "execution_count": null,
   "metadata": {},
   "outputs": [],
   "source": [
    "function shuffle!(df::DataFrame)\n",
    "    for i = size(df, 1):-1:2\n",
    "        j = rand(1:i)\n",
    "        df[i, :], df[j, :] = df[j, :], df[i, :]\n",
    "    end\n",
    "end"
   ]
  },
  {
   "cell_type": "code",
   "execution_count": null,
   "metadata": {},
   "outputs": [],
   "source": [
    "function graph()\n",
    "    default(size = (700, 700), fc = :heat)\n",
    "    β1, β2 = 0:0.05:1.0, 0:0.05:1.0\n",
    "    z = Surface((β1, β2) -> f([β1, β2, 0, 0, 0, 0, 0]), β1, β2)\n",
    "    surface(β1, β2, z, linealpha = 0.3)\n",
    "end"
   ]
  },
  {
   "cell_type": "code",
   "execution_count": null,
   "metadata": {},
   "outputs": [],
   "source": [
    "function sgd(f::Function, g::Function, Step::Function, ω0::Vector, η::Float64,\n",
    "    batch::Int64 = n_individuals, tol::Float64 = 1e-8, record::Bool = true)\n",
    "    k = 0\n",
    "    ω = ω0\n",
    "    n = length(ω)\n",
    "    dfx = ones(n)\n",
    "    scores = zeros(n, batch)\n",
    "    nmax = 500\n",
    "    change = 1.0\n",
    "    if record\n",
    "        fω = f(ω)\n",
    "        iterates = [fω ω']\n",
    "    end\n",
    "    while change > tol && k < nmax\n",
    "        shuffle!(df)\n",
    "        x = ω\n",
    "        for i = 1:batch:n_individuals\n",
    "            g(x, i, batch, dfx)\n",
    "            scores!(x, i, batch, scores)\n",
    "            step = Step(dfx, scores, η)\n",
    "            ω += step\n",
    "        end\n",
    "        if record\n",
    "            fω = f(ω)\n",
    "            iterates = [iterates; fω ω']\n",
    "        end\n",
    "        change = abs(f(ω)-f(x))\n",
    "        k += 1\n",
    "    end\n",
    "    if record\n",
    "        return ω, k, iterates\n",
    "    else\n",
    "        return ω, k\n",
    "    end\n",
    "end"
   ]
  },
  {
   "cell_type": "code",
   "execution_count": null,
   "metadata": {},
   "outputs": [],
   "source": [
    "sol, epochs, iter = sgd(f, g!, TruncatedCG, [20.0, 13.0, 12.0, 0.0, 0.0, 0.0, 0.0], 0.01)\n",
    "\n",
    "sol, epochs"
   ]
  },
  {
   "cell_type": "code",
   "execution_count": null,
   "metadata": {},
   "outputs": [],
   "source": [
    "k = [x = i for i = 1:length(iter[:, 1])]\n",
    "\n",
    "Plots.plot(k, iter[:, 1], label = \"f(ω)\")"
   ]
  },
  {
   "cell_type": "code",
   "execution_count": null,
   "metadata": {},
   "outputs": [],
   "source": [
    "graph()"
   ]
  }
 ],
 "metadata": {
  "kernelspec": {
   "display_name": "Julia 0.6.0",
   "language": "julia",
   "name": "julia-0.6"
  },
  "language_info": {
   "file_extension": ".jl",
   "mimetype": "application/julia",
   "name": "julia",
   "version": "0.6.2"
  }
 },
 "nbformat": 4,
 "nbformat_minor": 2
}
