{
 "cells": [
  {
   "cell_type": "code",
   "execution_count": 1,
   "metadata": {},
   "outputs": [],
   "source": [
    "using BenchmarkTools, Compat, DataFrames, Distributions, ForwardDiff"
   ]
  },
  {
   "cell_type": "code",
   "execution_count": 2,
   "metadata": {},
   "outputs": [
    {
     "data": {
      "text/plain": [
       "rand_contdist (generic function with 1 method)"
      ]
     },
     "execution_count": 2,
     "metadata": {},
     "output_type": "execute_result"
    }
   ],
   "source": [
    "# Newton, mixed logit.\n",
    "\n",
    "df = readtable(\"../data/parsed_model_australia.txt\", separator = ' ', header = false)\n",
    "\n",
    "a, b = size(df)\n",
    "\n",
    "const n_individuals = a\n",
    "const n_alternatives = 4\n",
    "const n_parameters = b\n",
    "const n_simulations = 1000\n",
    "const simulated_b = 5\n",
    "\n",
    "srand(123456)\n",
    "\n",
    "rand_contdist(Dist::Distribution) = quantile(Dist, rand())"
   ]
  },
  {
   "cell_type": "code",
   "execution_count": 3,
   "metadata": {},
   "outputs": [],
   "source": [
    "mixed_logit = zeros(n_individuals, n_simulations)\n",
    "\n",
    "function simulate()\n",
    "    for i = 1:n_individuals, j = 1:n_simulations\n",
    "        mixed_logit[i, j] = rand()\n",
    "    end\n",
    "end\n",
    "\n",
    "simulate()"
   ]
  },
  {
   "cell_type": "code",
   "execution_count": 4,
   "metadata": {},
   "outputs": [
    {
     "data": {
      "text/plain": [
       "individual (generic function with 1 method)"
      ]
     },
     "execution_count": 4,
     "metadata": {},
     "output_type": "execute_result"
    }
   ],
   "source": [
    "function individual(θ::Vector, i::Int64)\n",
    "    m, n = size(df)\n",
    "    choice = df[i, 1][1]\n",
    "    alternatives = collect(1:n_alternatives)\n",
    "    splice!(alternatives, choice)\n",
    "    \n",
    "    function utility(β::Vector, k::Int64)\n",
    "        temp = Float64[]\n",
    "        k += 1\n",
    "        while k <= n_parameters\n",
    "            push!(temp, df[i, k])\n",
    "            k += n_alternatives\n",
    "        end\n",
    "        return dot(temp, β)\n",
    "    end\n",
    "    \n",
    "    function construct(γ::Vector, θ::Vector)\n",
    "        return θ[1]+θ[2]*γ[1]\n",
    "    end\n",
    "    \n",
    "    function probability(θ::Vector)\n",
    "        logit = 0.0\n",
    "        t = 0.0\n",
    "        for k = 1:n_simulations\n",
    "            β = []\n",
    "            for j = 1:simulated_b-1\n",
    "                push!(β, θ[j])\n",
    "            end\n",
    "            γ = [mixed_logit[i, k]]\n",
    "            push!(β, construct(γ, θ[simulated_b:simulated_b+1]))\n",
    "            for j = simulated_b+2:length(θ)\n",
    "                push!(β, θ[j])\n",
    "            end \n",
    "            c = utility(β, choice)\n",
    "            for alternative in alternatives\n",
    "                t += exp(utility(β, alternative)-c)\n",
    "            end\n",
    "            logit += 1/(1+t)\n",
    "        end\n",
    "        return logit/n_simulations\n",
    "    end\n",
    "    \n",
    "    return probability\n",
    "end"
   ]
  },
  {
   "cell_type": "code",
   "execution_count": 5,
   "metadata": {},
   "outputs": [
    {
     "data": {
      "text/plain": [
       "f (generic function with 1 method)"
      ]
     },
     "execution_count": 5,
     "metadata": {},
     "output_type": "execute_result"
    }
   ],
   "source": [
    "function f(θ::Vector)\n",
    "    model = 0.0\n",
    "    i::Int64 = 1\n",
    "    while i <= n_individuals\n",
    "        probability = individual(θ, i)\n",
    "        model += log(probability(θ))\n",
    "        i += 1\n",
    "    end\n",
    "    return -model/n_individuals\n",
    "end"
   ]
  },
  {
   "cell_type": "code",
   "execution_count": 6,
   "metadata": {},
   "outputs": [
    {
     "data": {
      "text/plain": [
       "g! (generic function with 1 method)"
      ]
     },
     "execution_count": 6,
     "metadata": {},
     "output_type": "execute_result"
    }
   ],
   "source": [
    "function g(x::Vector)\n",
    "    t = zeros(length(x))\n",
    "    for i = 1:n_individuals\n",
    "        probability = individual(x, i)\n",
    "        t += (1/probability(x))*ForwardDiff.gradient(probability, x)\n",
    "    end\n",
    "    return -t/n_individuals\n",
    "end\n",
    "\n",
    "function g!(x::Vector, storage::Vector)\n",
    "    s = g(x)\n",
    "    storage[1:length(s)] = s[1:length(s)]\n",
    "end"
   ]
  },
  {
   "cell_type": "code",
   "execution_count": 7,
   "metadata": {},
   "outputs": [
    {
     "data": {
      "text/plain": [
       "H! (generic function with 1 method)"
      ]
     },
     "execution_count": 7,
     "metadata": {},
     "output_type": "execute_result"
    }
   ],
   "source": [
    "function H(x::Vector)\n",
    "    return ForwardDiff.hessian(f, x)\n",
    "end\n",
    "\n",
    "function H!(x::Vector, storage::Matrix)\n",
    "    s = H(x)\n",
    "    n, m = size(s)\n",
    "    storage[1:n, 1:m] = s[1:length(s)]\n",
    "end"
   ]
  },
  {
   "cell_type": "code",
   "execution_count": 8,
   "metadata": {},
   "outputs": [
    {
     "data": {
      "text/plain": [
       "BHHH! (generic function with 1 method)"
      ]
     },
     "execution_count": 8,
     "metadata": {},
     "output_type": "execute_result"
    }
   ],
   "source": [
    "function BHHH(x::Vector)\n",
    "    B = zeros(length(x), length(x))\n",
    "    for i = 1:n_individuals\n",
    "        logit = individual(x, i)\n",
    "        g = ForwardDiff.gradient(logit, x)\n",
    "        l = (1/logit(x))\n",
    "        B += (g/l)*(g'/l)\n",
    "    end\n",
    "    return B\n",
    "end\n",
    "\n",
    "function BHHH!(x::Vector, storage::Matrix)\n",
    "    s = BHHH(x)\n",
    "    n, m = size(s)\n",
    "    storage[1:n, 1:m] = s[1:length(s)]\n",
    "end"
   ]
  },
  {
   "cell_type": "code",
   "execution_count": 9,
   "metadata": {},
   "outputs": [
    {
     "data": {
      "text/plain": [
       "BFGS! (generic function with 1 method)"
      ]
     },
     "execution_count": 9,
     "metadata": {},
     "output_type": "execute_result"
    }
   ],
   "source": [
    "function BFGS(B::Matrix, y::Vector, s::Vector)\n",
    "    Bs = B*s\n",
    "    return B-(Bs*Bs')/dot(s, Bs)+(y*y')/dot(s, y)\n",
    "end\n",
    "\n",
    "function BFGS!(B::Matrix, y::Vector, s::Vector)\n",
    "    n, m = size(B)\n",
    "    B[1:n, 1:m] = BFGS(B, y, s)\n",
    "end"
   ]
  },
  {
   "cell_type": "code",
   "execution_count": 10,
   "metadata": {},
   "outputs": [
    {
     "data": {
      "text/plain": [
       "SR1! (generic function with 1 method)"
      ]
     },
     "execution_count": 10,
     "metadata": {},
     "output_type": "execute_result"
    }
   ],
   "source": [
    "function SR1(B::Matrix, y::Vector, s::Vector)\n",
    "    Bs = B*s\n",
    "    return B+((y-Bs)*(y-Bs)')/((y-Bs)'*s)\n",
    "end\n",
    "\n",
    "function SR1!(B::Matrix, y::Vector, s::Vector)\n",
    "    n, m = size(B)\n",
    "    B[1:n, 1:m] = SR1(B, y, s)\n",
    "end"
   ]
  },
  {
   "cell_type": "code",
   "execution_count": 11,
   "metadata": {},
   "outputs": [
    {
     "data": {
      "text/plain": [
       "newton (generic function with 3 methods)"
      ]
     },
     "execution_count": 11,
     "metadata": {},
     "output_type": "execute_result"
    }
   ],
   "source": [
    "function newton(f::Function, g::Function, h::Function, x0::Vector,\n",
    "        δ::Float64 = 1e-6, nmax::Int64 = 100)\n",
    "    k = 1\n",
    "    x = x0\n",
    "    n = length(x)\n",
    "    δ *= δ\n",
    "    H = eye(n)\n",
    "    dfx = ones(n)\n",
    "    g(x, dfx)\n",
    "    while dot(dfx, dfx) > δ && k <= nmax\n",
    "        g(x, dfx)\n",
    "        h(x, H)\n",
    "        x -= H\\dfx\n",
    "        k += 1\n",
    "    end\n",
    "    return x, k\n",
    "end"
   ]
  },
  {
   "cell_type": "code",
   "execution_count": 12,
   "metadata": {},
   "outputs": [
    {
     "data": {
      "text/plain": [
       "([20.0264, 12.915, 11.8469, -0.00980605, -0.332954, 0.00136815, -0.0308554], 7)"
      ]
     },
     "execution_count": 12,
     "metadata": {},
     "output_type": "execute_result"
    }
   ],
   "source": [
    "newton(f, g!, H!, zeros(7))"
   ]
  },
  {
   "cell_type": "code",
   "execution_count": 13,
   "metadata": {},
   "outputs": [
    {
     "data": {
      "text/plain": [
       "([NaN, NaN, NaN, NaN, NaN, NaN, NaN], 3)"
      ]
     },
     "execution_count": 13,
     "metadata": {},
     "output_type": "execute_result"
    }
   ],
   "source": [
    "newton(f, g!, BHHH!, zeros(7))"
   ]
  }
 ],
 "metadata": {
  "kernelspec": {
   "display_name": "Julia 0.6.0",
   "language": "julia",
   "name": "julia-0.6"
  },
  "language_info": {
   "file_extension": ".jl",
   "mimetype": "application/julia",
   "name": "julia",
   "version": "0.6.1"
  }
 },
 "nbformat": 4,
 "nbformat_minor": 2
}
