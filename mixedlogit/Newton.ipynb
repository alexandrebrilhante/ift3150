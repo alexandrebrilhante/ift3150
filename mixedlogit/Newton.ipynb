{
 "cells": [
  {
   "cell_type": "code",
   "execution_count": 1,
   "metadata": {},
   "outputs": [],
   "source": [
    "using BenchmarkTools, Compat, DataFrames, Distributions, ForwardDiff"
   ]
  },
  {
   "cell_type": "code",
   "execution_count": 2,
   "metadata": {},
   "outputs": [
    {
     "data": {
      "text/plain": [
       "rand_contdist (generic function with 1 method)"
      ]
     },
     "execution_count": 2,
     "metadata": {},
     "output_type": "execute_result"
    }
   ],
   "source": [
    "# Newton, mixed logit.\n",
    "\n",
    "df = readtable(\"../data/parsed_model_australia.txt\", separator = ' ', header = false)\n",
    "\n",
    "a, b = size(df)\n",
    "\n",
    "const n_individuals = a\n",
    "const n_alternatives = 4\n",
    "const n_parameters = b\n",
    "const n_simulations = 5\n",
    "const simulated_b = 5\n",
    "\n",
    "srand(123456)\n",
    "\n",
    "rand_contdist(Dist::Distribution) = quantile(Dist, rand())"
   ]
  },
  {
   "cell_type": "code",
   "execution_count": 3,
   "metadata": {},
   "outputs": [
    {
     "data": {
      "text/html": [
       "<table class=\"data-frame\"><thead><tr><th></th><th>ID</th><th>β2</th><th>β3</th><th>β4</th><th>β5</th></tr></thead><tbody><tr><th>1</th><td>0.5152104671804307</td><td>0.7412898556237781</td><td>0.5821424283521601</td><td>0.2099687343318144</td><td>0.1806485932541042</td></tr><tr><th>2</th><td>0.5743318350142363</td><td>0.4733804534506725</td><td>0.6350533219682404</td><td>0.003946023046596414</td><td>0.9987169142802474</td></tr><tr><th>3</th><td>0.391493560981647</td><td>0.011082822655117397</td><td>0.728900346094737</td><td>0.5885694843677474</td><td>0.0955464156850605</td></tr><tr><th>4</th><td>0.3161831307020315</td><td>0.9868070201531223</td><td>0.3248312054217537</td><td>0.6275088202683465</td><td>0.9742043509623348</td></tr><tr><th>5</th><td>0.9133245457961849</td><td>0.3026406935881607</td><td>0.24034692925733436</td><td>0.6929933674978992</td><td>0.9948456891059492</td></tr><tr><th>6</th><td>0.7798750382138562</td><td>0.7603354924796097</td><td>0.9018641475932665</td><td>0.09221139730637495</td><td>0.400661483972383</td></tr></tbody></table>"
      ],
      "text/plain": [
       "6×5 DataFrames.DataFrame\n",
       "│ Row │ ID       │ β2        │ β3       │ β4         │ β5        │\n",
       "├─────┼──────────┼───────────┼──────────┼────────────┼───────────┤\n",
       "│ 1   │ 0.51521  │ 0.74129   │ 0.582142 │ 0.209969   │ 0.180649  │\n",
       "│ 2   │ 0.574332 │ 0.47338   │ 0.635053 │ 0.00394602 │ 0.998717  │\n",
       "│ 3   │ 0.391494 │ 0.0110828 │ 0.7289   │ 0.588569   │ 0.0955464 │\n",
       "│ 4   │ 0.316183 │ 0.986807  │ 0.324831 │ 0.627509   │ 0.974204  │\n",
       "│ 5   │ 0.913325 │ 0.302641  │ 0.240347 │ 0.692993   │ 0.994846  │\n",
       "│ 6   │ 0.779875 │ 0.760335  │ 0.901864 │ 0.0922114  │ 0.400661  │"
      ]
     },
     "execution_count": 3,
     "metadata": {},
     "output_type": "execute_result"
    }
   ],
   "source": [
    "mixed_logit = DataFrame(ID = 1.0:Float64(n_individuals),\n",
    "                        β2 = 1.0:Float64(n_individuals),\n",
    "                        β3 = 1.0:Float64(n_individuals),\n",
    "                        β4 = 1.0:Float64(n_individuals),\n",
    "                        β5 = 1.0:Float64(n_individuals))\n",
    "\n",
    "function simulate()\n",
    "    for i = 1:n_individuals, j = 1:n_simulations\n",
    "        mixed_logit[i, j] = rand()\n",
    "    end\n",
    "end\n",
    "\n",
    "simulate()\n",
    "\n",
    "head(mixed_logit)"
   ]
  },
  {
   "cell_type": "code",
   "execution_count": 4,
   "metadata": {},
   "outputs": [
    {
     "data": {
      "text/plain": [
       "individual (generic function with 1 method)"
      ]
     },
     "execution_count": 4,
     "metadata": {},
     "output_type": "execute_result"
    }
   ],
   "source": [
    "function individual(θ::Vector, i::Int64)\n",
    "    m, n = size(df)\n",
    "    choice = df[i, 1][1]\n",
    "    alternatives = collect(1:n_alternatives)\n",
    "    splice!(alternatives, choice)\n",
    "    \n",
    "    function utility(β::Vector, k::Int64)\n",
    "        temp = Float64[]\n",
    "        k += 1\n",
    "        while k <= n_parameters\n",
    "            push!(temp, df[i, k])\n",
    "            k += n_alternatives\n",
    "        end\n",
    "        return dot(temp, β)\n",
    "    end\n",
    "    \n",
    "    function construct(γ::Vector, θ::Vector)\n",
    "        return θ[1]+θ[2]*γ[1]\n",
    "    end\n",
    "    \n",
    "    function probability(θ::Vector)\n",
    "        logit = 0.0\n",
    "        t = 0.0\n",
    "        for k = 1:n_simulations\n",
    "            β = []\n",
    "            for j = 1:simulated_b-1\n",
    "                push!(β, θ[j])\n",
    "            end\n",
    "            γ = [mixed_logit[i, k]]\n",
    "            push!(β, construct(γ, θ[simulated_b:simulated_b+1]))\n",
    "            for j = simulated_b+2:length(θ)\n",
    "                push!(β, θ[j])\n",
    "            end \n",
    "            c = utility(β, choice)\n",
    "            for alternative in alternatives\n",
    "                t += exp(utility(β, alternative)-c)\n",
    "            end\n",
    "            logit += 1/(1+t)\n",
    "        end\n",
    "        return logit/n_simulations\n",
    "    end\n",
    "    \n",
    "    return probability\n",
    "end"
   ]
  },
  {
   "cell_type": "code",
   "execution_count": 5,
   "metadata": {},
   "outputs": [
    {
     "data": {
      "text/plain": [
       "f (generic function with 1 method)"
      ]
     },
     "execution_count": 5,
     "metadata": {},
     "output_type": "execute_result"
    }
   ],
   "source": [
    "function f(θ::Vector)\n",
    "    model = 0.0\n",
    "    i::Int64 = 1\n",
    "    while i <= n_individuals\n",
    "        probability = individual(θ, i)\n",
    "        model += log(probability(θ))\n",
    "        i += 1\n",
    "    end\n",
    "    return -model/n_individuals\n",
    "end"
   ]
  },
  {
   "cell_type": "code",
   "execution_count": 6,
   "metadata": {},
   "outputs": [
    {
     "data": {
      "text/plain": [
       "g! (generic function with 1 method)"
      ]
     },
     "execution_count": 6,
     "metadata": {},
     "output_type": "execute_result"
    }
   ],
   "source": [
    "function g(x::Vector)\n",
    "    t = zeros(length(x))\n",
    "    for i = 1:n_individuals\n",
    "        probability = individual(x, i)\n",
    "        t += (1/probability(x))*ForwardDiff.gradient(probability, x)\n",
    "    end\n",
    "    return -t/n_individuals\n",
    "end\n",
    "\n",
    "function g!(x::Vector, storage::Vector)\n",
    "    s = g(x)\n",
    "    storage[1:length(s)] = s[1:length(s)]\n",
    "end"
   ]
  },
  {
   "cell_type": "code",
   "execution_count": 7,
   "metadata": {},
   "outputs": [
    {
     "data": {
      "text/plain": [
       "H! (generic function with 1 method)"
      ]
     },
     "execution_count": 7,
     "metadata": {},
     "output_type": "execute_result"
    }
   ],
   "source": [
    "function H(x::Vector)\n",
    "    return ForwardDiff.hessian(f, x)\n",
    "end\n",
    "\n",
    "function H!(x::Vector, storage::Matrix)\n",
    "    s = H(x)\n",
    "    n, m = size(s)\n",
    "    storage[1:n, 1:m] = s[1:length(s)]\n",
    "end"
   ]
  },
  {
   "cell_type": "code",
   "execution_count": 8,
   "metadata": {},
   "outputs": [
    {
     "data": {
      "text/plain": [
       "BHHH! (generic function with 1 method)"
      ]
     },
     "execution_count": 8,
     "metadata": {},
     "output_type": "execute_result"
    }
   ],
   "source": [
    "function BHHH(x::Vector)\n",
    "    t = zeros(length(x), length(x))\n",
    "    for i = 1:n_individuals\n",
    "        probability = individual(x, i)\n",
    "        g = ForwardDiff.gradient(probability, x)\n",
    "        t += g*(g')\n",
    "    end\n",
    "    return t/n_individuals\n",
    "end\n",
    "\n",
    "function BHHH!(x::Vector, storage::Matrix)\n",
    "    s = BHHH(x)\n",
    "    n, m = size(s)\n",
    "    storage[1:n, 1:m] = s[1:length(s)]\n",
    "end"
   ]
  },
  {
   "cell_type": "code",
   "execution_count": 9,
   "metadata": {},
   "outputs": [
    {
     "data": {
      "text/plain": [
       "BFGS! (generic function with 1 method)"
      ]
     },
     "execution_count": 9,
     "metadata": {},
     "output_type": "execute_result"
    }
   ],
   "source": [
    "function BFGS(B::Matrix, y::Vector, s::Vector)\n",
    "    Bs = B*s\n",
    "    return B-(Bs*Bs')/dot(s, Bs)+(y*y')/dot(s, y)\n",
    "end\n",
    "\n",
    "function BFGS!(B::Matrix, y::Vector, s::Vector)\n",
    "    n, m = size(B)\n",
    "    B[1:n, 1:m] = BFGS(B, y, s)\n",
    "end"
   ]
  },
  {
   "cell_type": "code",
   "execution_count": 10,
   "metadata": {},
   "outputs": [
    {
     "data": {
      "text/plain": [
       "SR1! (generic function with 1 method)"
      ]
     },
     "execution_count": 10,
     "metadata": {},
     "output_type": "execute_result"
    }
   ],
   "source": [
    "function SR1(B::Matrix, y::Vector, s::Vector)\n",
    "    Bs = B*s\n",
    "    return B+((y-Bs)*(y-Bs)')/((y-Bs)'*s)\n",
    "end\n",
    "\n",
    "function SR1!(B::Matrix, y::Vector, s::Vector)\n",
    "    n, m = size(B)\n",
    "    B[1:n, 1:m] = SR1(B, y, s)\n",
    "end"
   ]
  },
  {
   "cell_type": "code",
   "execution_count": 11,
   "metadata": {},
   "outputs": [
    {
     "data": {
      "text/plain": [
       "newton (generic function with 3 methods)"
      ]
     },
     "execution_count": 11,
     "metadata": {},
     "output_type": "execute_result"
    }
   ],
   "source": [
    "function newton(f::Function, g::Function, h::Function, x0::Vector,\n",
    "        δ::Float64 = 1e-6, nmax::Int64 = 100)\n",
    "    k = 1\n",
    "    x = x0\n",
    "    n = length(x)\n",
    "    δ *=δ\n",
    "    H = eye(n)\n",
    "    dfx = ones(n)\n",
    "    g(x, dfx)\n",
    "    while dot(dfx, dfx) > δ && k <= nmax\n",
    "        k += 1\n",
    "        g(x, dfx)\n",
    "        h(x, H)\n",
    "        x -= H\\dfx\n",
    "    end\n",
    "    return x, k\n",
    "end"
   ]
  },
  {
   "cell_type": "code",
   "execution_count": 12,
   "metadata": {},
   "outputs": [
    {
     "data": {
      "text/plain": [
       "([7.36212, 5.22501, 4.45487, 0.0108628, -0.135201, 0.00712103, -0.018467], 7)"
      ]
     },
     "execution_count": 12,
     "metadata": {},
     "output_type": "execute_result"
    }
   ],
   "source": [
    "newton(f, g!, H!, zeros(7))"
   ]
  }
 ],
 "metadata": {
  "kernelspec": {
   "display_name": "Julia 0.6.0",
   "language": "julia",
   "name": "julia-0.6"
  },
  "language_info": {
   "file_extension": ".jl",
   "mimetype": "application/julia",
   "name": "julia",
   "version": "0.6.1"
  }
 },
 "nbformat": 4,
 "nbformat_minor": 2
}
