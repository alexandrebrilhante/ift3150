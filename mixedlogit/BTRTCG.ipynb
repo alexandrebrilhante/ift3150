{
 "cells": [
  {
   "cell_type": "code",
   "execution_count": 1,
   "metadata": {},
   "outputs": [],
   "source": [
    "using DataFrames, Distributions, ForwardDiff"
   ]
  },
  {
   "cell_type": "code",
   "execution_count": 2,
   "metadata": {},
   "outputs": [
    {
     "data": {
      "text/plain": [
       "rand_contdist (generic function with 1 method)"
      ]
     },
     "execution_count": 2,
     "metadata": {},
     "output_type": "execute_result"
    }
   ],
   "source": [
    "# Basic trust region with truncated conjugate gradient, mixed logit.\n",
    "\n",
    "df = readtable(\"../data/parsed_model_australia.txt\", separator = ' ', header = false)\n",
    "\n",
    "a, b = size(df)\n",
    "\n",
    "const n_individuals = a\n",
    "const n_alternatives = 4\n",
    "const n_parameters = b\n",
    "const n_simulations = 1000\n",
    "const simulated_b = 5\n",
    "\n",
    "srand(123456)\n",
    "\n",
    "rand_contdist(Dist::Distribution) = quantile(Dist, rand())"
   ]
  },
  {
   "cell_type": "code",
   "execution_count": 3,
   "metadata": {},
   "outputs": [],
   "source": [
    "mixed_logit = zeros(n_individuals, n_simulations)\n",
    "\n",
    "function simulate()\n",
    "    for i = 1:n_individuals, j = 1:n_simulations\n",
    "        mixed_logit[i, j] = rand()\n",
    "    end\n",
    "end\n",
    "\n",
    "simulate()"
   ]
  },
  {
   "cell_type": "code",
   "execution_count": 4,
   "metadata": {},
   "outputs": [
    {
     "data": {
      "text/plain": [
       "individual (generic function with 1 method)"
      ]
     },
     "execution_count": 4,
     "metadata": {},
     "output_type": "execute_result"
    }
   ],
   "source": [
    "function individual(θ::Vector, i::Int64)\n",
    "    m, n = size(df)\n",
    "    choice = df[i, 1][1]\n",
    "    alternatives = collect(1:n_alternatives)\n",
    "    splice!(alternatives, choice)\n",
    "    \n",
    "    function utility(β::Vector, k::Int64)\n",
    "        temp = Float64[]\n",
    "        k += 1\n",
    "        while k <= n_parameters\n",
    "            push!(temp, df[i, k])\n",
    "            k += n_alternatives\n",
    "        end\n",
    "        return dot(temp, β)\n",
    "    end\n",
    "    \n",
    "    function construct(γ::Vector, θ::Vector)\n",
    "        return θ[1]+θ[2]*γ[1]\n",
    "    end\n",
    "    \n",
    "    function probability(θ::Vector)\n",
    "        logit = 0.0\n",
    "        t = 0.0\n",
    "        for k = 1:n_simulations\n",
    "            β = []\n",
    "            for j = 1:simulated_b-1\n",
    "                push!(β, θ[j])\n",
    "            end\n",
    "            γ = [mixed_logit[i, k]]\n",
    "            push!(β, construct(γ, θ[simulated_b:simulated_b+1]))\n",
    "            for j = simulated_b+2:length(θ)\n",
    "                push!(β, θ[j])\n",
    "            end \n",
    "            c = utility(β, choice)\n",
    "            for alternative in alternatives\n",
    "                t += exp(utility(β, alternative)-c)\n",
    "            end\n",
    "            logit += 1/(1+t)\n",
    "        end\n",
    "        return logit/n_simulations\n",
    "    end\n",
    "    \n",
    "    return probability\n",
    "end"
   ]
  },
  {
   "cell_type": "code",
   "execution_count": 5,
   "metadata": {},
   "outputs": [
    {
     "data": {
      "text/plain": [
       "f (generic function with 1 method)"
      ]
     },
     "execution_count": 5,
     "metadata": {},
     "output_type": "execute_result"
    }
   ],
   "source": [
    "function f(θ::Vector)\n",
    "    model = 0.0\n",
    "    i::Int64 = 1\n",
    "    while i <= n_individuals\n",
    "        probability = individual(θ, i)\n",
    "        model += log(probability(θ))\n",
    "        i += 1\n",
    "    end\n",
    "    return -model/n_individuals\n",
    "end"
   ]
  },
  {
   "cell_type": "code",
   "execution_count": 6,
   "metadata": {},
   "outputs": [],
   "source": [
    "immutable BasicTrustRegion{T<:Real}\n",
    "    η1::T\n",
    "    η2::T\n",
    "    γ1::T\n",
    "    γ2::T\n",
    "end\n",
    "\n",
    "function BTRDefaults()\n",
    "    return BasicTrustRegion(0.01, 0.9, 0.5, 0.5)\n",
    "end\n",
    "\n",
    "type BTRState\n",
    "    iter::Int64\n",
    "    x::Vector\n",
    "    xcand::Vector\n",
    "    g::Vector\n",
    "    step::Vector\n",
    "    Δ::Float64\n",
    "    ρ::Float64\n",
    "    tol::Float64\n",
    "\n",
    "    function BTRState()\n",
    "        state = new()\n",
    "        state.tol = 1e-6\n",
    "        return state\n",
    "    end\n",
    "end"
   ]
  },
  {
   "cell_type": "code",
   "execution_count": 7,
   "metadata": {},
   "outputs": [
    {
     "data": {
      "text/plain": [
       "updateRadius! (generic function with 1 method)"
      ]
     },
     "execution_count": 7,
     "metadata": {},
     "output_type": "execute_result"
    }
   ],
   "source": [
    "function acceptCandidate!(state::BTRState, b::BasicTrustRegion)\n",
    "    if state.ρ >= b.η1\n",
    "        return true\n",
    "    else\n",
    "        return false\n",
    "    end\n",
    "end\n",
    "\n",
    "function updateRadius!(state::BTRState, b::BasicTrustRegion)\n",
    "    if state.ρ >= b.η2\n",
    "        stepnorm = norm(state.step)\n",
    "        state.Δ = min(1e20, max(4*stepnorm, state.Δ))\n",
    "    elseif state.ρ >= b.η1\n",
    "        state.Δ *= b.γ2\n",
    "    else\n",
    "        state.Δ *= b.γ1\n",
    "    end\n",
    "end"
   ]
  },
  {
   "cell_type": "code",
   "execution_count": 8,
   "metadata": {},
   "outputs": [
    {
     "data": {
      "text/plain": [
       "TruncatedCG (generic function with 1 method)"
      ]
     },
     "execution_count": 8,
     "metadata": {},
     "output_type": "execute_result"
    }
   ],
   "source": [
    "function TruncatedCG(g::Vector, H::Matrix, Δ::Float64)\n",
    "    n = length(g)\n",
    "    s = zeros(n)\n",
    "    normg0 = norm(g)\n",
    "    v = g\n",
    "    d = -v\n",
    "    gv = dot(g, v)\n",
    "    norm2d = gv\n",
    "    norm2s = 0\n",
    "    sMd = 0\n",
    "    k = 0\n",
    "    Δ2 = Δ*Δ\n",
    "    while stopCG(norm(g), normg0, k, n) == false\n",
    "        Hd = H*d\n",
    "        κ = dot(d, Hd)\n",
    "        if κ <= 0\n",
    "            σ = (-sMd+sqrt(sMd*sMd+norm2d*(Δ2-dot(s, s))))/norm2d\n",
    "            s += σ*d\n",
    "            break\n",
    "        end\n",
    "        α = gv/κ\n",
    "        norm2s += α*(2*sMd+α*norm2d)\n",
    "        if norm2s >= Δ2\n",
    "            σ = (-sMd+sqrt(sMd*sMd+norm2d*(Δ2-dot(s, s))))/norm2d\n",
    "            s += σ*d\n",
    "            break\n",
    "        end\n",
    "        s += α*d\n",
    "        g += α*Hd\n",
    "        v = g\n",
    "        newgv = dot(g, v)\n",
    "        β = newgv/gv\n",
    "        gv = newgv\n",
    "        d = -v+β*d\n",
    "        sMd = β*(sMd+α*norm2d)\n",
    "        norm2d = gv+β*β*norm2d\n",
    "        k += 1\n",
    "    end\n",
    "    return s\n",
    "end"
   ]
  },
  {
   "cell_type": "code",
   "execution_count": 9,
   "metadata": {},
   "outputs": [
    {
     "data": {
      "text/plain": [
       "stopCG (generic function with 1 method)"
      ]
     },
     "execution_count": 9,
     "metadata": {},
     "output_type": "execute_result"
    }
   ],
   "source": [
    "function stopCG(normg::Float64, normg0::Float64, k::Int, kmax::Int)\n",
    "    χ::Float64 = 0.1\n",
    "    θ::Float64 = 0.5\n",
    "    if (k == kmax) || (normg <= normg0*min(χ, normg0^θ))\n",
    "        return true\n",
    "    else\n",
    "        return false\n",
    "    end\n",
    "end"
   ]
  },
  {
   "cell_type": "code",
   "execution_count": 10,
   "metadata": {},
   "outputs": [
    {
     "data": {
      "text/plain": [
       "btr (generic function with 3 methods)"
      ]
     },
     "execution_count": 10,
     "metadata": {},
     "output_type": "execute_result"
    }
   ],
   "source": [
    "function btr(f::Function, g!::Function, H!::Function, Step::Function,\n",
    "        x0::Vector, state::BTRState = BTRState(), ApproxH::Bool = false)\n",
    "    b = BTRDefaults()\n",
    "    state.iter = 0\n",
    "    state.x = x0\n",
    "    n = length(x0)\n",
    "    tol2 = state.tol*state.tol\n",
    "    state.g = zeros(n)\n",
    "    H = eye(n, n)\n",
    "    fx = f(x0)\n",
    "    g!(x0, state.g)\n",
    "    state.Δ = 0.1*norm(state.g)\n",
    "    if ApproxH\n",
    "        y = zeros(n)\n",
    "        gcand = zeros(n)\n",
    "    else\n",
    "        H!(x0, H)\n",
    "    end\n",
    "    nmax = 500\n",
    "\n",
    "    function model(s::Vector, g::Vector, H::Matrix)\n",
    "        return dot(s, g)+0.5*dot(s, H*s)\n",
    "    end\n",
    "    \n",
    "    while dot(state.g, state.g) > tol2 && state.iter < nmax\n",
    "        state.step = Step(state.g, H, state.Δ)\n",
    "        state.xcand = state.x+state.step\n",
    "        fcand = f(state.xcand)\n",
    "        state.ρ = (fcand-fx)/(model(state.step, state.g, H))\n",
    "        if ApproxH\n",
    "            g!(state.xcand, gcand)\n",
    "            y = gcand-state.g\n",
    "            H = H!(H, y, state.step)\n",
    "        end\n",
    "        if acceptCandidate!(state, b)\n",
    "            state.x = copy(state.xcand)\n",
    "            if ApproxH == false\n",
    "                g!(state.x, state.g)\n",
    "                H!(state.x, H)\n",
    "            else\n",
    "                state.g = copy(gcand)\n",
    "            end\n",
    "            fx = fcand\n",
    "        end\n",
    "        updateRadius!(state, b)\n",
    "        state.iter += 1\n",
    "    end\n",
    "    return state.x, state.iter\n",
    "end"
   ]
  },
  {
   "cell_type": "code",
   "execution_count": 11,
   "metadata": {},
   "outputs": [
    {
     "data": {
      "text/plain": [
       "g! (generic function with 1 method)"
      ]
     },
     "execution_count": 11,
     "metadata": {},
     "output_type": "execute_result"
    }
   ],
   "source": [
    "function g(x::Vector)\n",
    "    t = zeros(length(x))\n",
    "    for i = 1:n_individuals\n",
    "        probability = individual(x, i)\n",
    "        t += (1/probability(x))*ForwardDiff.gradient(probability, x)\n",
    "    end\n",
    "    return -t/n_individuals\n",
    "end\n",
    "\n",
    "function g!(x::Vector, storage::Vector)\n",
    "    s = g(x)\n",
    "    storage[1:length(s)] = s[1:length(s)]\n",
    "end"
   ]
  },
  {
   "cell_type": "code",
   "execution_count": 12,
   "metadata": {},
   "outputs": [
    {
     "data": {
      "text/plain": [
       "H! (generic function with 1 method)"
      ]
     },
     "execution_count": 12,
     "metadata": {},
     "output_type": "execute_result"
    }
   ],
   "source": [
    "function H(x::Vector)\n",
    "    return ForwardDiff.hessian(f, x)\n",
    "end\n",
    "\n",
    "function H!(x::Vector, storage::Matrix)\n",
    "    s = H(x)\n",
    "    n, m = size(s)\n",
    "    storage[1:n, 1:m] = s[1:length(s)]\n",
    "end"
   ]
  },
  {
   "cell_type": "code",
   "execution_count": 13,
   "metadata": {},
   "outputs": [
    {
     "data": {
      "text/plain": [
       "BHHH! (generic function with 1 method)"
      ]
     },
     "execution_count": 13,
     "metadata": {},
     "output_type": "execute_result"
    }
   ],
   "source": [
    "function BHHH(x::Vector)\n",
    "    B = zeros(length(x), length(x))\n",
    "    for i = 1:n_individuals\n",
    "        logit = individual(x, i)\n",
    "        g = ForwardDiff.gradient(logit, x)\n",
    "        l = (1/logit(x))\n",
    "        B += (g/l)*(g'/l)\n",
    "    end\n",
    "    return B\n",
    "end\n",
    "\n",
    "function BHHH!(x::Vector, storage::Matrix)\n",
    "    s = BHHH(x)\n",
    "    n, m = size(s)\n",
    "    storage[1:n, 1:m] = s[1:length(s)]\n",
    "end"
   ]
  },
  {
   "cell_type": "code",
   "execution_count": 14,
   "metadata": {},
   "outputs": [
    {
     "data": {
      "text/plain": [
       "BFGS! (generic function with 1 method)"
      ]
     },
     "execution_count": 14,
     "metadata": {},
     "output_type": "execute_result"
    }
   ],
   "source": [
    "function BFGS(B::Matrix, y::Vector, s::Vector)\n",
    "    Bs = B*s\n",
    "    return B-(Bs*Bs')/dot(s, Bs)+(y*y')/dot(s, y)\n",
    "end\n",
    "\n",
    "function BFGS!(B::Matrix, y::Vector, s::Vector)\n",
    "    n, m = size(B)\n",
    "    B[1:n, 1:m] = BFGS(B, y, s)\n",
    "end"
   ]
  },
  {
   "cell_type": "code",
   "execution_count": 15,
   "metadata": {},
   "outputs": [
    {
     "data": {
      "text/plain": [
       "SR1! (generic function with 1 method)"
      ]
     },
     "execution_count": 15,
     "metadata": {},
     "output_type": "execute_result"
    }
   ],
   "source": [
    "function SR1(B::Matrix, y::Vector, s::Vector)\n",
    "    Bs = B*s\n",
    "    return B+((y-Bs)*(y-Bs)')/((y-Bs)'*s)\n",
    "end\n",
    "\n",
    "function SR1!(B::Matrix, y::Vector, s::Vector)\n",
    "    n, m = size(B)\n",
    "    B[1:n, 1:m] = SR1(B, y, s)\n",
    "end"
   ]
  },
  {
   "cell_type": "code",
   "execution_count": 16,
   "metadata": {},
   "outputs": [
    {
     "data": {
      "text/plain": [
       "([20.0264, 12.915, 11.8469, -0.00980605, -0.332954, 0.00136815, -0.0308554], 14)"
      ]
     },
     "execution_count": 16,
     "metadata": {},
     "output_type": "execute_result"
    }
   ],
   "source": [
    "btr(f, g!, H!, TruncatedCG, zeros(7), BTRState())"
   ]
  },
  {
   "cell_type": "code",
   "execution_count": 17,
   "metadata": {},
   "outputs": [
    {
     "data": {
      "text/plain": [
       "([0.108104, 0.645072, 0.145853, 0.0554964, -0.0477988, 0.000759213, -0.00430535], 500)"
      ]
     },
     "execution_count": 17,
     "metadata": {},
     "output_type": "execute_result"
    }
   ],
   "source": [
    "btr(f, g!, BHHH!, TruncatedCG, zeros(7), BTRState())"
   ]
  },
  {
   "cell_type": "code",
   "execution_count": 18,
   "metadata": {},
   "outputs": [
    {
     "data": {
      "text/plain": [
       "([20.0264, 12.915, 11.8469, -0.00980606, -0.332954, 0.00136815, -0.0308554], 58)"
      ]
     },
     "execution_count": 18,
     "metadata": {},
     "output_type": "execute_result"
    }
   ],
   "source": [
    "btr(f, g!, BFGS!, TruncatedCG, zeros(7), BTRState(), true)"
   ]
  },
  {
   "cell_type": "code",
   "execution_count": 19,
   "metadata": {},
   "outputs": [
    {
     "data": {
      "text/plain": [
       "([20.0264, 12.915, 11.8469, -0.00980605, -0.332954, 0.00136815, -0.0308554], 47)"
      ]
     },
     "execution_count": 19,
     "metadata": {},
     "output_type": "execute_result"
    }
   ],
   "source": [
    "btr(f, g!, SR1!, TruncatedCG, zeros(7), BTRState(), true)"
   ]
  }
 ],
 "metadata": {
  "kernelspec": {
   "display_name": "Julia 0.6.0",
   "language": "julia",
   "name": "julia-0.6"
  },
  "language_info": {
   "file_extension": ".jl",
   "mimetype": "application/julia",
   "name": "julia",
   "version": "0.6.2"
  }
 },
 "nbformat": 4,
 "nbformat_minor": 2
}
