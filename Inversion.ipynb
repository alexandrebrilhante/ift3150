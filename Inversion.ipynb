{
 "cells": [
  {
   "cell_type": "markdown",
   "metadata": {},
   "source": [
    "# Inversion technique"
   ]
  },
  {
   "cell_type": "markdown",
   "metadata": {},
   "source": [
    "## Continuous distributions"
   ]
  },
  {
   "cell_type": "markdown",
   "metadata": {},
   "source": [
    "### Exponential distribution"
   ]
  },
  {
   "cell_type": "markdown",
   "metadata": {},
   "source": [
    "The cumulative distribution function of an exponential is\n",
    "$$\n",
    "1-e^{-\\lambda x}\n",
    "$$\n",
    "We can easily compute the inverse distribution function by solving the following equation with respect to $x$\n",
    "$$\n",
    "u = 1-e^{-\\lambda x}\n",
    "$$\n",
    "giving\n",
    "$$\n",
    "x = -\\frac{1}{\\lambda} \\ln (1-u)\n",
    "$$\n",
    "We can therefore generate an Exponential draw with the function"
   ]
  },
  {
   "cell_type": "code",
   "execution_count": 1,
   "metadata": {},
   "outputs": [
    {
     "data": {
      "text/plain": [
       "generate_exponential (generic function with 1 method)"
      ]
     },
     "execution_count": 1,
     "metadata": {},
     "output_type": "execute_result"
    }
   ],
   "source": [
    "generate_exponential(u::Float64, θ::Float64) = -θ*log(1-u)"
   ]
  },
  {
   "cell_type": "code",
   "execution_count": 2,
   "metadata": {
    "collapsed": true
   },
   "outputs": [],
   "source": [
    "using Distributions"
   ]
  },
  {
   "cell_type": "markdown",
   "metadata": {},
   "source": [
    "Compare this function with the quantile function in the package Distributions."
   ]
  },
  {
   "cell_type": "code",
   "execution_count": 3,
   "metadata": {},
   "outputs": [
    {
     "name": "stdout",
     "output_type": "stream",
     "text": [
      "x =0.4462871026284194\n",
      "y =0.44628710262841953\n"
     ]
    }
   ],
   "source": [
    "u = 0.2\n",
    "θ = 2.0\n",
    "d = Exponential(θ)\n",
    "x = generate_exponential(u,θ)\n",
    "y = quantile(d,u)\n",
    "println(\"x =\",x)\n",
    "println(\"y =\",y)"
   ]
  },
  {
   "cell_type": "code",
   "execution_count": 4,
   "metadata": {},
   "outputs": [
    {
     "name": "stdout",
     "output_type": "stream",
     "text": [
      "x =9.21034037197618\n",
      "y =9.21034037197618\n"
     ]
    }
   ],
   "source": [
    "u = 0.99\n",
    "x = generate_exponential(u,θ)\n",
    "y = quantile(d,u)\n",
    "println(\"x =\",x)\n",
    "println(\"y =\",y)"
   ]
  },
  {
   "cell_type": "markdown",
   "metadata": {},
   "source": [
    "The numbers are very close, but not exaclty the same. To obtain the same numbers, we redefine the generation function as"
   ]
  },
  {
   "cell_type": "code",
   "execution_count": 5,
   "metadata": {},
   "outputs": [
    {
     "name": "stdout",
     "output_type": "stream",
     "text": [
      "search: \u001b[1ml\u001b[22m\u001b[1mo\u001b[22m\u001b[1mg\u001b[22m\u001b[1m1\u001b[22m\u001b[1mp\u001b[22m \u001b[1ml\u001b[22m\u001b[1mo\u001b[22m\u001b[1mg\u001b[22m\u001b[1m1\u001b[22m0\n",
      "\n"
     ]
    },
    {
     "data": {
      "text/markdown": [
       "```\n",
       "log1p(x)\n",
       "```\n",
       "\n",
       "Accurate natural logarithm of `1+x`. Throws [`DomainError`](@ref) for [`Real`](@ref) arguments less than -1.\n",
       "\n",
       "There is an experimental variant in the `Base.Math.JuliaLibm` module, which is typically faster and more accurate.\n",
       "\n",
       "# Examples\n",
       "\n",
       "```jldoctest\n",
       "julia> log1p(-0.5)\n",
       "-0.6931471805599453\n",
       "\n",
       "julia> log1p(0)\n",
       "0.0\n",
       "```\n"
      ],
      "text/plain": [
       "```\n",
       "log1p(x)\n",
       "```\n",
       "\n",
       "Accurate natural logarithm of `1+x`. Throws [`DomainError`](@ref) for [`Real`](@ref) arguments less than -1.\n",
       "\n",
       "There is an experimental variant in the `Base.Math.JuliaLibm` module, which is typically faster and more accurate.\n",
       "\n",
       "# Examples\n",
       "\n",
       "```jldoctest\n",
       "julia> log1p(-0.5)\n",
       "-0.6931471805599453\n",
       "\n",
       "julia> log1p(0)\n",
       "0.0\n",
       "```\n"
      ]
     },
     "execution_count": 5,
     "metadata": {},
     "output_type": "execute_result"
    }
   ],
   "source": [
    "?log1p"
   ]
  },
  {
   "cell_type": "code",
   "execution_count": 6,
   "metadata": {},
   "outputs": [
    {
     "data": {
      "text/plain": [
       "generate_exponential (generic function with 1 method)"
      ]
     },
     "execution_count": 6,
     "metadata": {},
     "output_type": "execute_result"
    }
   ],
   "source": [
    "generate_exponential(u::Float64, θ::Float64) = -θ*log1p(-u)"
   ]
  },
  {
   "cell_type": "code",
   "execution_count": 8,
   "metadata": {},
   "outputs": [
    {
     "name": "stdout",
     "output_type": "stream",
     "text": [
      "x =0.44628710262841953\n",
      "y =0.44628710262841953\n"
     ]
    }
   ],
   "source": [
    "u = 0.2\n",
    "x = generate_exponential(u,θ)\n",
    "y = quantile(d,u)\n",
    "println(\"x =\",x)\n",
    "println(\"y =\",y)"
   ]
  },
  {
   "cell_type": "markdown",
   "metadata": {},
   "source": [
    "On http://www.johndcook.com/julia_rng.html we find the code"
   ]
  },
  {
   "cell_type": "code",
   "execution_count": 8,
   "metadata": {},
   "outputs": [
    {
     "data": {
      "text/plain": [
       "rand_exponential (generic function with 1 method)"
      ]
     },
     "execution_count": 8,
     "metadata": {},
     "output_type": "execute_result"
    }
   ],
   "source": [
    "function rand_exponential(mean)\n",
    "    if mean <= 0.0\n",
    "        error(\"mean must be positive\")\n",
    "    end\n",
    "    -mean*log(rand())\n",
    "end"
   ]
  },
  {
   "cell_type": "markdown",
   "metadata": {},
   "source": [
    "This does not correspond to the quantile function! It can raises issues when used in combination with variance reduction techniques.\n",
    "\n",
    "The standard library in Julia uses another approach."
   ]
  },
  {
   "cell_type": "code",
   "execution_count": 9,
   "metadata": {},
   "outputs": [
    {
     "name": "stdout",
     "output_type": "stream",
     "text": [
      "search: \u001b[1mr\u001b[22m\u001b[1ma\u001b[22m\u001b[1mn\u001b[22m\u001b[1md\u001b[22m\u001b[1me\u001b[22m\u001b[1mx\u001b[22m\u001b[1mp\u001b[22m \u001b[1mr\u001b[22m\u001b[1ma\u001b[22m\u001b[1mn\u001b[22m\u001b[1md\u001b[22m\u001b[1me\u001b[22m\u001b[1mx\u001b[22m\u001b[1mp\u001b[22m! \u001b[1mR\u001b[22m\u001b[1ma\u001b[22m\u001b[1mn\u001b[22mgeIn\u001b[1md\u001b[22m\u001b[1me\u001b[22m\u001b[1mx\u001b[22m \u001b[1mr\u001b[22mse\u001b[1ma\u001b[22mrchi\u001b[1mn\u001b[22m\u001b[1md\u001b[22m\u001b[1me\u001b[22m\u001b[1mx\u001b[22m Ca\u001b[1mr\u001b[22mtesi\u001b[1ma\u001b[22m\u001b[1mn\u001b[22mIn\u001b[1md\u001b[22m\u001b[1me\u001b[22m\u001b[1mx\u001b[22m\n",
      "\n"
     ]
    },
    {
     "data": {
      "text/markdown": [
       "```\n",
       "randexp([rng=GLOBAL_RNG], [T=Float64], [dims...])\n",
       "```\n",
       "\n",
       "Generate a random number of type `T` according to the exponential distribution with scale 1. Optionally generate an array of such random numbers. The `Base` module currently provides an implementation for the types [`Float16`](@ref), [`Float32`](@ref), and [`Float64`](@ref) (the default).\n"
      ],
      "text/plain": [
       "```\n",
       "randexp([rng=GLOBAL_RNG], [T=Float64], [dims...])\n",
       "```\n",
       "\n",
       "Generate a random number of type `T` according to the exponential distribution with scale 1. Optionally generate an array of such random numbers. The `Base` module currently provides an implementation for the types [`Float16`](@ref), [`Float32`](@ref), and [`Float64`](@ref) (the default).\n"
      ]
     },
     "execution_count": 9,
     "metadata": {},
     "output_type": "execute_result"
    }
   ],
   "source": [
    "?randexp"
   ]
  },
  {
   "cell_type": "markdown",
   "metadata": {},
   "source": [
    "From https://en.wikipedia.org/wiki/Ziggurat_algorithm, we learn that the \"ziggurat algorithm is an algorithm for pseudo-random number sampling. Belonging to the class of rejection sampling algorithms, it relies on an underlying source of uniformly-distributed random numbers, typically from a pseudo-random number generator, as well as precomputed tables.\"\n",
    "\n",
    "The algorithm can have performance issues with variance reduction techniques (especially quasi-Monte Carlo methods), and we will avoid it."
   ]
  },
  {
   "cell_type": "markdown",
   "metadata": {},
   "source": [
    "The ziggurat method is also used for the normal distribution. In addition to the previous remark, we note from https://en.wikipedia.org/wiki/Inverse_transform_sampling that \"on the other hand, it is possible to approximate the quantile function of the normal distribution extremely accurately using moderate-degree polynomials, and in fact the method of doing this is fast enough that inversion sampling is now the default method for sampling from a normal distribution in the statistical package R.\""
   ]
  },
  {
   "cell_type": "markdown",
   "metadata": {},
   "source": [
    "Julia used an interpolation of the error function as basis for the normal distribution."
   ]
  },
  {
   "cell_type": "code",
   "execution_count": 10,
   "metadata": {},
   "outputs": [
    {
     "name": "stdout",
     "output_type": "stream",
     "text": [
      "search: \u001b[1mr\u001b[22m\u001b[1ma\u001b[22m\u001b[1mn\u001b[22m\u001b[1md\u001b[22m\u001b[1mn\u001b[22m \u001b[1mr\u001b[22m\u001b[1ma\u001b[22m\u001b[1mn\u001b[22m\u001b[1md\u001b[22m\u001b[1mn\u001b[22m! sp\u001b[1mr\u001b[22m\u001b[1ma\u001b[22m\u001b[1mn\u001b[22m\u001b[1md\u001b[22m\u001b[1mn\u001b[22m \u001b[1mr\u001b[22m\u001b[1ma\u001b[22m\u001b[1mn\u001b[22m\u001b[1md\u001b[22mstri\u001b[1mn\u001b[22mg Ze\u001b[1mr\u001b[22moMe\u001b[1ma\u001b[22m\u001b[1mn\u001b[22m\u001b[1mD\u001b[22miag\u001b[1mN\u001b[22mormal\n",
      "\n"
     ]
    },
    {
     "data": {
      "text/markdown": [
       "```\n",
       "randn([rng=GLOBAL_RNG], [T=Float64], [dims...])\n",
       "```\n",
       "\n",
       "Generate a normally-distributed random number of type `T` with mean 0 and standard deviation 1. Optionally generate an array of normally-distributed random numbers. The `Base` module currently provides an implementation for the types [`Float16`](@ref), [`Float32`](@ref), and [`Float64`](@ref) (the default).\n"
      ],
      "text/plain": [
       "```\n",
       "randn([rng=GLOBAL_RNG], [T=Float64], [dims...])\n",
       "```\n",
       "\n",
       "Generate a normally-distributed random number of type `T` with mean 0 and standard deviation 1. Optionally generate an array of normally-distributed random numbers. The `Base` module currently provides an implementation for the types [`Float16`](@ref), [`Float32`](@ref), and [`Float64`](@ref) (the default).\n"
      ]
     },
     "execution_count": 10,
     "metadata": {},
     "output_type": "execute_result"
    }
   ],
   "source": [
    "?randn"
   ]
  },
  {
   "cell_type": "code",
   "execution_count": 11,
   "metadata": {},
   "outputs": [
    {
     "name": "stdout",
     "output_type": "stream",
     "text": [
      "search: \u001b[1me\u001b[22m\u001b[1mr\u001b[22m\u001b[1mf\u001b[22m \u001b[1me\u001b[22m\u001b[1mr\u001b[22m\u001b[1mf\u001b[22mi \u001b[1me\u001b[22m\u001b[1mr\u001b[22m\u001b[1mf\u001b[22mc \u001b[1me\u001b[22m\u001b[1mr\u001b[22m\u001b[1mf\u001b[22mcx \u001b[1me\u001b[22m\u001b[1mr\u001b[22m\u001b[1mf\u001b[22minv \u001b[1me\u001b[22m\u001b[1mr\u001b[22m\u001b[1mf\u001b[22mcinv Ov\u001b[1me\u001b[22m\u001b[1mr\u001b[22m\u001b[1mf\u001b[22mlowError StackOv\u001b[1me\u001b[22m\u001b[1mr\u001b[22m\u001b[1mf\u001b[22mlowError\n",
      "\n"
     ]
    },
    {
     "data": {
      "text/markdown": [
       "```\n",
       "erf(x)\n",
       "```\n",
       "\n",
       "Compute the error function of `x`, defined by $\\frac{2}{\\sqrt{\\pi}} \\int_0^x e^{-t^2} dt$ for arbitrary complex `x`.\n"
      ],
      "text/plain": [
       "```\n",
       "erf(x)\n",
       "```\n",
       "\n",
       "Compute the error function of `x`, defined by $\\frac{2}{\\sqrt{\\pi}} \\int_0^x e^{-t^2} dt$ for arbitrary complex `x`.\n"
      ]
     },
     "execution_count": 11,
     "metadata": {},
     "output_type": "execute_result"
    }
   ],
   "source": [
    "?erf"
   ]
  },
  {
   "cell_type": "code",
   "execution_count": 12,
   "metadata": {},
   "outputs": [
    {
     "data": {
      "text/plain": [
       "Distributions.Normal{Float64}(μ=1.0, σ=2.0)"
      ]
     },
     "execution_count": 12,
     "metadata": {},
     "output_type": "execute_result"
    }
   ],
   "source": [
    "d = Normal(1,2)"
   ]
  },
  {
   "cell_type": "code",
   "execution_count": 13,
   "metadata": {},
   "outputs": [
    {
     "data": {
      "text/plain": [
       "4.289707253902943"
      ]
     },
     "execution_count": 13,
     "metadata": {},
     "output_type": "execute_result"
    }
   ],
   "source": [
    "quantile(d,0.95)"
   ]
  },
  {
   "cell_type": "markdown",
   "metadata": {
    "collapsed": true
   },
   "source": [
    "## Quantile and inverse distribution"
   ]
  },
  {
   "cell_type": "markdown",
   "metadata": {},
   "source": [
    "### Cumulative distribution function"
   ]
  },
  {
   "cell_type": "markdown",
   "metadata": {},
   "source": [
    "The distribution function completely caracterizes a random variable.\n",
    "$$F_{U(0,1)}(x) = P[U(0,1) \\leq x] = \\int_0^x 1dt = x$$\n",
    "$$F_X(a) = P[X \\leq a]$$\n",
    "\n",
    "Let $Z = F_X(X)$. If $x \\in [0,1]$, the cumulative distribution function of $Z$ is\n",
    "$$\n",
    "F_Z(x) = P[Z \\leq x] = P[F_X(X) \\leq x] = P[X \\leq F_X^{-1}(x)]\n",
    "= F_X(F_X^{-1}(x)) = x.\n",
    "$$"
   ]
  },
  {
   "cell_type": "markdown",
   "metadata": {},
   "source": [
    "### Quantile"
   ]
  },
  {
   "cell_type": "markdown",
   "metadata": {},
   "source": [
    "For a continous distribution $X$, the $\\alpha$-quantile is the value $x$ such that\n",
    "$$\n",
    "F_X(x) = \\alpha\n",
    "$$"
   ]
  },
  {
   "cell_type": "markdown",
   "metadata": {},
   "source": [
    "Since the distribution is continuous, the distribution function is invertible and\n",
    "$$ x = F_X^{-1}(\\alpha)$$\n",
    "Therefore, the inversion technique is equivalent to the computation of the quantile, and therefore, we can summarize the inversion technique with the method"
   ]
  },
  {
   "cell_type": "code",
   "execution_count": 16,
   "metadata": {},
   "outputs": [
    {
     "data": {
      "text/plain": [
       "rand_contdist (generic function with 1 method)"
      ]
     },
     "execution_count": 16,
     "metadata": {},
     "output_type": "execute_result"
    }
   ],
   "source": [
    "rand_contdist(rng::AbstractRNG, Dist::Distribution) = quantile(Dist, rand(rng))"
   ]
  },
  {
   "cell_type": "markdown",
   "metadata": {},
   "source": [
    "The method quantile is defined for any distribution in the library Distribution. It is computed either explicitely, either using Newton's method to locate a zero of the function\n",
    "$$\n",
    "g(x) \\overset{def}{=} F_X(x) - \\alpha\n",
    "$$\n",
    "We can also define a version of the function using the default generator"
   ]
  },
  {
   "cell_type": "code",
   "execution_count": 17,
   "metadata": {},
   "outputs": [
    {
     "data": {
      "text/plain": [
       "rand_contdist (generic function with 2 methods)"
      ]
     },
     "execution_count": 17,
     "metadata": {},
     "output_type": "execute_result"
    }
   ],
   "source": [
    "rand_contdist(Dist::Distribution) = quantile(Dist, rand())"
   ]
  },
  {
   "cell_type": "code",
   "execution_count": 18,
   "metadata": {},
   "outputs": [
    {
     "data": {
      "text/plain": [
       "0.15785351319354535"
      ]
     },
     "execution_count": 18,
     "metadata": {},
     "output_type": "execute_result"
    }
   ],
   "source": [
    "N = Normal()\n",
    "MT = MersenneTwister(12345)\n",
    "rand_contdist(MT, N)"
   ]
  },
  {
   "cell_type": "code",
   "execution_count": 19,
   "metadata": {},
   "outputs": [
    {
     "data": {
      "text/plain": [
       "-0.4364273324777784"
      ]
     },
     "execution_count": 19,
     "metadata": {},
     "output_type": "execute_result"
    }
   ],
   "source": [
    "rand_contdist(N)"
   ]
  },
  {
   "cell_type": "code",
   "execution_count": 29,
   "metadata": {
    "collapsed": true
   },
   "outputs": [],
   "source": [
    "# @elapsed rand_contdist(N)"
   ]
  },
  {
   "cell_type": "markdown",
   "metadata": {},
   "source": [
    "## Box-Muller"
   ]
  },
  {
   "cell_type": "code",
   "execution_count": 20,
   "metadata": {},
   "outputs": [
    {
     "data": {
      "text/plain": [
       "500000000"
      ]
     },
     "execution_count": 20,
     "metadata": {},
     "output_type": "execute_result"
    }
   ],
   "source": [
    "Nsim = 500000000"
   ]
  },
  {
   "cell_type": "code",
   "execution_count": 21,
   "metadata": {},
   "outputs": [
    {
     "data": {
      "text/plain": [
       "bm_test (generic function with 1 method)"
      ]
     },
     "execution_count": 21,
     "metadata": {},
     "output_type": "execute_result"
    }
   ],
   "source": [
    "function bm_test(N)\n",
    "    for i = 1:N\n",
    "        r = rand(2)\n",
    "        θ = 2*pi*r[1]\n",
    "        r2 = -2*log(r[2])\n",
    "        s = sqrt(r2)\n",
    "        x = s*cos(θ)\n",
    "        y = s*sin(θ)\n",
    "    end\n",
    "end"
   ]
  },
  {
   "cell_type": "code",
   "execution_count": 22,
   "metadata": {},
   "outputs": [
    {
     "data": {
      "text/plain": [
       "100.612766787"
      ]
     },
     "execution_count": 22,
     "metadata": {},
     "output_type": "execute_result"
    }
   ],
   "source": [
    "@elapsed bm_test(Nsim)"
   ]
  },
  {
   "cell_type": "code",
   "execution_count": 23,
   "metadata": {},
   "outputs": [
    {
     "data": {
      "text/plain": [
       "inv_test (generic function with 1 method)"
      ]
     },
     "execution_count": 23,
     "metadata": {},
     "output_type": "execute_result"
    }
   ],
   "source": [
    "function inv_test(nsim)\n",
    "    N = Normal()\n",
    "    for i = 1:2*nsim\n",
    "        rand_contdist(N)\n",
    "    end\n",
    "end"
   ]
  },
  {
   "cell_type": "code",
   "execution_count": 24,
   "metadata": {},
   "outputs": [
    {
     "data": {
      "text/plain": [
       "60.249058632"
      ]
     },
     "execution_count": 24,
     "metadata": {},
     "output_type": "execute_result"
    }
   ],
   "source": [
    "@elapsed inv_test(Nsim)"
   ]
  },
  {
   "cell_type": "code",
   "execution_count": null,
   "metadata": {
    "collapsed": true
   },
   "outputs": [],
   "source": []
  }
 ],
 "metadata": {
  "kernelspec": {
   "display_name": "Julia 0.6.0",
   "language": "julia",
   "name": "julia-0.6"
  },
  "language_info": {
   "file_extension": ".jl",
   "mimetype": "application/julia",
   "name": "julia",
   "version": "0.6.1"
  }
 },
 "nbformat": 4,
 "nbformat_minor": 1
}
