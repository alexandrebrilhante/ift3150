{
 "cells": [
  {
   "cell_type": "code",
   "execution_count": 1,
   "metadata": {},
   "outputs": [
    {
     "data": {
      "text/html": [
       "<table class=\"data-frame\"><thead><tr><th></th><th>x1</th><th>x2</th><th>x3</th><th>x4</th></tr></thead><tbody><tr><th>1</th><td>1</td><td>0</td><td>0</td><td>0</td></tr><tr><th>2</th><td>0</td><td>1</td><td>0</td><td>0</td></tr><tr><th>3</th><td>0</td><td>0</td><td>1</td><td>0</td></tr><tr><th>4</th><td>35</td><td>0</td><td>0</td><td>0</td></tr><tr><th>5</th><td>69</td><td>34</td><td>35</td><td>0</td></tr><tr><th>6</th><td>70</td><td>71</td><td>70</td><td>30</td></tr><tr><th>7</th><td>0</td><td>0</td><td>0</td><td>1</td></tr><tr><th>8</th><td>1</td><td>0</td><td>0</td><td>0</td></tr><tr><th>9</th><td>0</td><td>1</td><td>0</td><td>0</td></tr><tr><th>10</th><td>0</td><td>0</td><td>1</td><td>0</td></tr><tr><th>11</th><td>30</td><td>0</td><td>0</td><td>0</td></tr><tr><th>12</th><td>64</td><td>44</td><td>53</td><td>0</td></tr><tr><th>13</th><td>68</td><td>84</td><td>85</td><td>50</td></tr><tr><th>14</th><td>0</td><td>0</td><td>0</td><td>1</td></tr><tr><th>15</th><td>1</td><td>0</td><td>0</td><td>0</td></tr><tr><th>16</th><td>0</td><td>1</td><td>0</td><td>0</td></tr><tr><th>17</th><td>0</td><td>0</td><td>1</td><td>0</td></tr><tr><th>18</th><td>40</td><td>0</td><td>0</td><td>0</td></tr><tr><th>19</th><td>69</td><td>34</td><td>35</td><td>0</td></tr><tr><th>20</th><td>129</td><td>195</td><td>149</td><td>101</td></tr><tr><th>21</th><td>0</td><td>0</td><td>0</td><td>1</td></tr><tr><th>22</th><td>1</td><td>0</td><td>0</td><td>0</td></tr><tr><th>23</th><td>0</td><td>1</td><td>0</td><td>0</td></tr><tr><th>24</th><td>0</td><td>0</td><td>1</td><td>0</td></tr><tr><th>25</th><td>70</td><td>0</td><td>0</td><td>0</td></tr><tr><th>26</th><td>64</td><td>44</td><td>53</td><td>0</td></tr><tr><th>27</th><td>59</td><td>79</td><td>81</td><td>32</td></tr><tr><th>28</th><td>0</td><td>0</td><td>0</td><td>1</td></tr><tr><th>29</th><td>1</td><td>0</td><td>0</td><td>0</td></tr><tr><th>30</th><td>0</td><td>1</td><td>0</td><td>0</td></tr><tr><th>&vellip;</th><td>&vellip;</td><td>&vellip;</td><td>&vellip;</td><td>&vellip;</td></tr></tbody></table>"
      ],
      "text/plain": [
       "1470×4 DataFrames.DataFrame\n",
       "│ Row  │ x1 │ x2  │ x3  │ x4 │\n",
       "├──────┼────┼─────┼─────┼────┤\n",
       "│ 1    │ 1  │ 0   │ 0   │ 0  │\n",
       "│ 2    │ 0  │ 1   │ 0   │ 0  │\n",
       "│ 3    │ 0  │ 0   │ 1   │ 0  │\n",
       "│ 4    │ 35 │ 0   │ 0   │ 0  │\n",
       "│ 5    │ 69 │ 34  │ 35  │ 0  │\n",
       "│ 6    │ 70 │ 71  │ 70  │ 30 │\n",
       "│ 7    │ 0  │ 0   │ 0   │ 1  │\n",
       "│ 8    │ 1  │ 0   │ 0   │ 0  │\n",
       "│ 9    │ 0  │ 1   │ 0   │ 0  │\n",
       "│ 10   │ 0  │ 0   │ 1   │ 0  │\n",
       "│ 11   │ 30 │ 0   │ 0   │ 0  │\n",
       "⋮\n",
       "│ 1459 │ 0  │ 0   │ 1   │ 0  │\n",
       "│ 1460 │ 20 │ 0   │ 0   │ 0  │\n",
       "│ 1461 │ 69 │ 34  │ 35  │ 0  │\n",
       "│ 1462 │ 94 │ 100 │ 96  │ 82 │\n",
       "│ 1463 │ 0  │ 0   │ 0   │ 1  │\n",
       "│ 1464 │ 1  │ 0   │ 0   │ 0  │\n",
       "│ 1465 │ 0  │ 1   │ 0   │ 0  │\n",
       "│ 1466 │ 0  │ 0   │ 1   │ 0  │\n",
       "│ 1467 │ 70 │ 0   │ 0   │ 0  │\n",
       "│ 1468 │ 64 │ 44  │ 53  │ 0  │\n",
       "│ 1469 │ 87 │ 156 │ 134 │ 94 │\n",
       "│ 1470 │ 0  │ 0   │ 0   │ 1  │"
      ]
     },
     "execution_count": 1,
     "metadata": {},
     "output_type": "execute_result"
    }
   ],
   "source": [
    "using DataFrames, ForwardDiff\n",
    "\n",
    "df = readtable(\"data/aus/model_australia.txt\", separator = ' ', header = false)"
   ]
  },
  {
   "cell_type": "code",
   "execution_count": 2,
   "metadata": {},
   "outputs": [
    {
     "data": {
      "text/plain": [
       "f_ind (generic function with 1 method)"
      ]
     },
     "execution_count": 2,
     "metadata": {},
     "output_type": "execute_result"
    }
   ],
   "source": [
    "function f(β::Vector, n::Number = 210)\n",
    "    i = 1\n",
    "    model = 0\n",
    "    while i <= n\n",
    "        model += f_ind(i, β)\n",
    "        i += 1\n",
    "    end\n",
    "    return model/n\n",
    "end\n",
    "\n",
    "function f_ind(i::Number, β::Vector)\n",
    "    d = 0\n",
    "    data = convert(Array, df[i*7-3:i*7-1, :])\n",
    "    choice = convert(Array, df[i*7:i*7, :])\n",
    "    id = find(choice .== 1)\n",
    "    alt = find(choice .== 0)\n",
    "    c = exp(dot(vec(data[:, id]), β))\n",
    "    for j in 1:length(alt)\n",
    "        d += exp(dot(vec(data[:, alt[j]]), β))\n",
    "    end\n",
    "    return log(c/(c+d))\n",
    "end"
   ]
  },
  {
   "cell_type": "code",
   "execution_count": 3,
   "metadata": {},
   "outputs": [
    {
     "data": {
      "text/plain": [
       "g! (generic function with 1 method)"
      ]
     },
     "execution_count": 3,
     "metadata": {},
     "output_type": "execute_result"
    }
   ],
   "source": [
    "function g(β::Vector, n::Number = 210)\n",
    "    i = 1\n",
    "    g = 0\n",
    "    while i <= n\n",
    "        g += g_ind(i, β)\n",
    "        i += 1\n",
    "    end\n",
    "    return g\n",
    "end\n",
    "\n",
    "function g_ind(i::Number, β::Vector)\n",
    "    f = f_ind(i, β)\n",
    "    return ForwardDiff.gradient(f, β)\n",
    "end\n",
    "\n",
    "function g!(β::Vector, storage::Vector)\n",
    "    s = g(β)\n",
    "    storage[1:length(s)] = s[1:length(s)]\n",
    "end"
   ]
  },
  {
   "cell_type": "code",
   "execution_count": 4,
   "metadata": {},
   "outputs": [
    {
     "data": {
      "text/plain": [
       "H! (generic function with 1 method)"
      ]
     },
     "execution_count": 4,
     "metadata": {},
     "output_type": "execute_result"
    }
   ],
   "source": [
    "function H(β::Vector, n::Number = 210)\n",
    "    i = 1\n",
    "    H = 0\n",
    "    while i <= n\n",
    "        H += H_ind(i, β)\n",
    "        i += 1\n",
    "    end\n",
    "    return H\n",
    "end\n",
    "\n",
    "function H_ind(i::Number, β::Vector)\n",
    "    f = f_ind(i, β)\n",
    "    return ForwardDiff.hessian(f, β)\n",
    "end\n",
    "\n",
    "function H!(β::Vector, storage::Matrix)\n",
    "    s = H(β)\n",
    "    n, m = size(s)\n",
    "    storage[1:n, 1:m] = s[1:length(s)]\n",
    "end"
   ]
  },
  {
   "cell_type": "code",
   "execution_count": null,
   "metadata": {
    "collapsed": true
   },
   "outputs": [],
   "source": []
  }
 ],
 "metadata": {
  "kernelspec": {
   "display_name": "Julia 0.6.0",
   "language": "julia",
   "name": "julia-0.6"
  },
  "language_info": {
   "file_extension": ".jl",
   "mimetype": "application/julia",
   "name": "julia",
   "version": "0.6.0"
  }
 },
 "nbformat": 4,
 "nbformat_minor": 2
}
