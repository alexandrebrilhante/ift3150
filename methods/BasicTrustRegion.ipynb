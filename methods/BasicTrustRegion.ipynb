{
 "cells": [
  {
   "cell_type": "markdown",
   "metadata": {},
   "source": [
    "# Basic Trust Region Algorithm"
   ]
  },
  {
   "cell_type": "code",
   "execution_count": 1,
   "metadata": {
    "collapsed": false
   },
   "outputs": [],
   "source": [
    "using Optim"
   ]
  },
  {
   "cell_type": "markdown",
   "metadata": {},
   "source": [
    "BasicTrustRegion will gather the constants of the method."
   ]
  },
  {
   "cell_type": "code",
   "execution_count": 2,
   "metadata": {
    "collapsed": false
   },
   "outputs": [
    {
     "data": {
      "text/plain": [
       "BTRDefaults (generic function with 1 method)"
      ]
     },
     "execution_count": 2,
     "metadata": {},
     "output_type": "execute_result"
    }
   ],
   "source": [
    "immutable BasicTrustRegion{T <: Real}\n",
    "    η1:: T\n",
    "    η2:: T\n",
    "    γ1:: T\n",
    "    γ2:: T\n",
    "end\n",
    "\n",
    "function BTRDefaults()\n",
    "    return BasicTrustRegion(0.01,0.9,0.5,0.5)\n",
    "end"
   ]
  },
  {
   "cell_type": "markdown",
   "metadata": {},
   "source": [
    "We define a type to store the state at a given iteration."
   ]
  },
  {
   "cell_type": "code",
   "execution_count": 6,
   "metadata": {
    "collapsed": false
   },
   "outputs": [],
   "source": [
    "type BTRState\n",
    "    iter::Int\n",
    "    x::Vector\n",
    "    xcand::Vector\n",
    "    g::Vector\n",
    "    step::Vector\n",
    "    Δ::Float64\n",
    "    ρ::Float64\n",
    "    \n",
    "    function BTRState()\n",
    "        return new()\n",
    "    end\n",
    "end"
   ]
  },
  {
   "cell_type": "code",
   "execution_count": 7,
   "metadata": {
    "collapsed": false
   },
   "outputs": [
    {
     "data": {
      "text/plain": [
       "acceptCandidate! (generic function with 1 method)"
      ]
     },
     "execution_count": 7,
     "metadata": {},
     "output_type": "execute_result"
    }
   ],
   "source": [
    "function acceptCandidate!(state::BTRState, b::BasicTrustRegion)\n",
    "    # If the iteration is successful, update the iterate\n",
    "    if (state.ρ >= b.η1)\n",
    "        return true\n",
    "    else\n",
    "        return false\n",
    "    end\n",
    "end"
   ]
  },
  {
   "cell_type": "code",
   "execution_count": 8,
   "metadata": {
    "collapsed": false
   },
   "outputs": [
    {
     "data": {
      "text/plain": [
       "updateRadius! (generic function with 1 method)"
      ]
     },
     "execution_count": 8,
     "metadata": {},
     "output_type": "execute_result"
    }
   ],
   "source": [
    "function updateRadius!(state::BTRState, b::BasicTrustRegion)\n",
    "    if (state.ρ >= b.η2)\n",
    "        stepnorm = norm(state.step)\n",
    "        state.Δ = min(1e20,max(4*stepnorm,state.Δ))\n",
    "    elseif (state.ρ >= b.η1)\n",
    "        state.Δ *= b.γ2\n",
    "    else\n",
    "        state.Δ *= b.γ1\n",
    "    end\n",
    "end"
   ]
  },
  {
   "cell_type": "markdown",
   "metadata": {},
   "source": [
    "## Cauchy Step\n",
    "\n",
    "Check the Cauchy Step value."
   ]
  },
  {
   "cell_type": "markdown",
   "metadata": {},
   "source": [
    "We have to minimize the model along the direction $-g$, i.e. $s = -\\alpha g$.\n",
    "$$\n",
    "\\min_{\\alpha} m(-\\alpha g) = -\\alpha g^Tg + 0.5 \\alpha^2 g^TH g \\mbox{ s.t. } \\| \\alpha g \\| \\leq \\Delta\n",
    "$$"
   ]
  },
  {
   "cell_type": "markdown",
   "metadata": {},
   "source": [
    "If $g^T H g = 0$, the problem is linear and the solution has to satisfy $\\| s \\| = \\Delta$.\n",
    " \n",
    "Moreover, if $\\exists u$ such that $u^THu < 0$, then\n",
    "$$\n",
    "\\lim_{\\alpha \\rightarrow \\pm\\infty} \\alpha u^T H \\alpha u\n",
    "= \\lim_{\\alpha \\rightarrow \\pm\\infty} \\alpha^2 u^T H u = -\\infty\n",
    "$$\n",
    "$u$ is said to be a negative curvature direction.\n",
    "\n",
    "Thus, if $g^THg \\leq 0$ the optimal solution is on the boundary: $\\|s\\| = \\Delta$, or $\\| \\alpha g \\| = \\Delta$. Therefore, $\\alpha = \\Delta/\\|g\\|$ and\n",
    "$$\n",
    "s = -\\frac{\\Delta g}{\\| g \\|}.\n",
    "$$"
   ]
  },
  {
   "cell_type": "markdown",
   "metadata": {},
   "source": [
    "Consider now the case $g^T H g > 0$. Thus $m(-\\alpha g)$ is a strictly convex function in $\\alpha$ and the unconstrained minimizer is obtained by computing the zero of the model derivative:\n",
    "$$\n",
    "0 = \\frac{d m(-\\alpha g)}{d\\alpha} = -\\| g \\|^2 + \\alpha g^T H g,\n",
    "$$\n",
    "leading to\n",
    "$$\n",
    "\\alpha = \\frac{\\| g \\|^2}{g^T H g}\n",
    "$$\n",
    "and\n",
    "$$\n",
    "s = -\\frac{\\| g \\|^2}{g^T H g} g.\n",
    "$$"
   ]
  },
  {
   "cell_type": "markdown",
   "metadata": {},
   "source": [
    "But $s$ has to be inside the trust-region. Thus we have\n",
    "$$\n",
    "s =\n",
    "\\begin{cases}\n",
    "    -\\frac{\\| g \\|^2}{g^T H g}g & \\mbox{ if }\\frac{\\| g \\|^3}{g^T H g} \\leq \\Delta \\\\\n",
    "    -\\frac{\\Delta g}{\\| g \\|} & \\mbox{ otherwise.}\n",
    "\\end{cases}\n",
    "$$"
   ]
  },
  {
   "cell_type": "code",
   "execution_count": 10,
   "metadata": {
    "collapsed": false
   },
   "outputs": [
    {
     "data": {
      "text/plain": [
       "CauchyStep (generic function with 1 method)"
      ]
     },
     "execution_count": 10,
     "metadata": {},
     "output_type": "execute_result"
    }
   ],
   "source": [
    "function CauchyStep(g::Vector,H::Matrix,Δ::Float64)\n",
    "    q = dot(g,H*g)\n",
    "    normg = norm(g)\n",
    "    if (q <= 0)\n",
    "        τ = 1.0\n",
    "    else\n",
    "        τ = min((normg*normg*normg)/(q*Δ),1.0)\n",
    "    end\n",
    "    return -τ*g*Δ/normg\n",
    "end"
   ]
  },
  {
   "cell_type": "markdown",
   "metadata": {},
   "source": [
    "## Basic Trust Region Algorithm"
   ]
  },
  {
   "cell_type": "code",
   "execution_count": 20,
   "metadata": {
    "collapsed": false,
    "scrolled": true
   },
   "outputs": [
    {
     "name": "stderr",
     "output_type": "stream",
     "text": [
      "WARNING: Method definition btr(Function, Function, Function, Array{T<:Any, 1}) in module Main at In[18]:4 overwritten at In[20]:4.\n",
      "WARNING: Method definition btr(Function, Function, Function, Array{T<:Any, 1}, Float64) in module Main at In[18]:4 overwritten at In[20]:4.\n",
      "WARNING: Method definition btr(Function, Function, Function, Array{T<:Any, 1}, Float64, Bool) in module Main at In[18]:4 overwritten at In[20]:4.\n"
     ]
    },
    {
     "data": {
      "text/plain": [
       "btr (generic function with 3 methods)"
      ]
     },
     "execution_count": 20,
     "metadata": {},
     "output_type": "execute_result"
    }
   ],
   "source": [
    "function btr(f::Function, g!::Function, H!::Function,\n",
    "    x0::Vector, tol::Float64 = 1e-8, verbose::Bool = false)\n",
    "    \n",
    "    b = BTRDefaults()\n",
    "    state = BTRState()\n",
    "    state.iter = 0\n",
    "    state.Δ = 1.0\n",
    "    state.x = x0\n",
    "    n=length(x0)\n",
    "\n",
    "    tol2 = tol*tol\n",
    "    \n",
    "    state.g = zeros(n)\n",
    "    H = zeros(n,n)\n",
    "    \n",
    "    fx = f(x0)\n",
    "    g!(x0, state.g)\n",
    "    H!(x0, H)\n",
    "    \n",
    "    nmax = 100000\n",
    "    \n",
    "    function model(s::Vector, g::Vector, H::Matrix)\n",
    "        return dot(s, g)+0.5*dot(s, H*s)\n",
    "    end\n",
    "    \n",
    "    while (dot(state.g,state.g) > tol2 && state.iter < nmax)\n",
    "        # Compute the step by approximately minimize the model\n",
    "        state.step = CauchyStep(state.g, H, state.Δ)\n",
    "        state.xcand = state.x+state.step\n",
    "\n",
    "        # Compute the actual reduction over the predicted reduction\n",
    "        fcand = f(state.xcand)\n",
    "        state.ρ = (fcand-fx)/(model(state.step, state.g, H))\n",
    "\n",
    "        if (acceptCandidate!(state, b))\n",
    "            state.x = copy(state.xcand)\n",
    "            g!(state.x, state.g)\n",
    "            H!(state.x, H)\n",
    "            fx = fcand\n",
    "        end\n",
    "\n",
    "        updateRadius!(state, b)\n",
    "        state.iter += 1\n",
    "    end\n",
    "    \n",
    "    return state\n",
    "end"
   ]
  },
  {
   "cell_type": "markdown",
   "metadata": {},
   "source": [
    "## Example"
   ]
  },
  {
   "cell_type": "code",
   "execution_count": 11,
   "metadata": {
    "collapsed": false,
    "scrolled": true
   },
   "outputs": [
    {
     "data": {
      "text/plain": [
       "rosenbrock_hessian! (generic function with 1 method)"
      ]
     },
     "execution_count": 11,
     "metadata": {},
     "output_type": "execute_result"
    }
   ],
   "source": [
    "function rosenbrock(x::Vector)\n",
    "    return (1.0 - x[1])^2 + 100.0 * (x[2] - x[1]^2)^2\n",
    "end\n",
    "\n",
    "function rosenbrock_gradient!(x::Vector, storage::Vector)\n",
    "    storage[1] = -2.0 * (1.0 - x[1]) - 400.0 * (x[2] - x[1]^2) * x[1]\n",
    "    storage[2] = 200.0 * (x[2] - x[1]^2)\n",
    "end\n",
    "\n",
    "function rosenbrock_hessian!(x::Vector, storage::Matrix)\n",
    "    storage[1, 1] = 2.0 - 400.0 * x[2] + 1200.0 * x[1]^2\n",
    "    storage[1, 2] = -400.0 * x[1]\n",
    "    storage[2, 1] = -400.0 * x[1]\n",
    "    storage[2, 2] = 200.0\n",
    "end"
   ]
  },
  {
   "cell_type": "code",
   "execution_count": 21,
   "metadata": {
    "collapsed": false,
    "scrolled": false
   },
   "outputs": [
    {
     "data": {
      "text/plain": [
       "BTRState(12143,[1.0,1.0],[1.0,1.0],[-7.6916e-9,-6.35603e-9],[-1.71328e-11,2.07329e-11],0.2462880346108132,0.999998819005788)"
      ]
     },
     "execution_count": 21,
     "metadata": {},
     "output_type": "execute_result"
    }
   ],
   "source": [
    "state = btr(rosenbrock, rosenbrock_gradient!, rosenbrock_hessian!, [0,0])"
   ]
  },
  {
   "cell_type": "code",
   "execution_count": 17,
   "metadata": {
    "collapsed": false
   },
   "outputs": [
    {
     "data": {
      "text/plain": [
       "BTRState(1000,[0.925481,0.855962],[0.925481,0.855962],[0.0557776,-0.110653],[0.000265991,0.000133942],0.2462880346108132,0.9996072346055772)"
      ]
     },
     "execution_count": 17,
     "metadata": {},
     "output_type": "execute_result"
    }
   ],
   "source": [
    "state"
   ]
  },
  {
   "cell_type": "markdown",
   "metadata": {},
   "source": [
    "\"Trust-Region Methods\", Introduction\n",
    "$$\n",
    "f(x,y) = -10x^2+10y^2+4\\sin(xy)-2x+x^4\n",
    "$$"
   ]
  },
  {
   "cell_type": "code",
   "execution_count": 22,
   "metadata": {
    "collapsed": true
   },
   "outputs": [],
   "source": [
    "using ForwardDiff"
   ]
  },
  {
   "cell_type": "code",
   "execution_count": 23,
   "metadata": {
    "collapsed": false
   },
   "outputs": [
    {
     "data": {
      "text/plain": [
       "f (generic function with 1 method)"
      ]
     },
     "execution_count": 23,
     "metadata": {},
     "output_type": "execute_result"
    }
   ],
   "source": [
    "f(x::Vector) = -10*x[1]^2+10*x[2]^2+4*sin(x[1]*x[2])-2*x[1]+x[1]^4"
   ]
  },
  {
   "cell_type": "code",
   "execution_count": 24,
   "metadata": {
    "collapsed": false
   },
   "outputs": [
    {
     "data": {
      "text/plain": [
       "g! (generic function with 1 method)"
      ]
     },
     "execution_count": 24,
     "metadata": {},
     "output_type": "execute_result"
    }
   ],
   "source": [
    "g = x -> ForwardDiff.gradient(f, x);\n",
    "H = x -> ForwardDiff.hessian(f, x)\n",
    "\n",
    "function g!(x::Vector, storage::Vector)\n",
    "    s = g(x)\n",
    "    storage[1:length(s)] = s[1:length(s)]\n",
    "end"
   ]
  },
  {
   "cell_type": "code",
   "execution_count": 39,
   "metadata": {
    "collapsed": false
   },
   "outputs": [
    {
     "data": {
      "text/plain": [
       "H! (generic function with 2 methods)"
      ]
     },
     "execution_count": 39,
     "metadata": {},
     "output_type": "execute_result"
    }
   ],
   "source": [
    "function H!(x::Vector, storage::Matrix)\n",
    "    s = H(x)\n",
    "    n, m = size(s)\n",
    "    storage[1:n,1:m] = s[1:length(s)]\n",
    "end"
   ]
  },
  {
   "cell_type": "code",
   "execution_count": 45,
   "metadata": {
    "collapsed": false
   },
   "outputs": [
    {
     "data": {
      "text/plain": [
       "BTRState(100000,[2.30663,-0.332309],[2.30663,-0.332309],[1.63421e-8,-9.09602e-9],[-0.0,0.0],0.0,NaN)"
      ]
     },
     "execution_count": 45,
     "metadata": {},
     "output_type": "execute_result"
    }
   ],
   "source": [
    "state = btr(f, g!, H!, [0,0],1e-8)"
   ]
  },
  {
   "cell_type": "code",
   "execution_count": 46,
   "metadata": {
    "collapsed": false
   },
   "outputs": [
    {
     "data": {
      "text/plain": [
       "BTRState(13,[2.30663,-0.332309],[2.30663,-0.332309],[1.63421e-8,-9.09602e-9],[2.07276e-9,3.72396e-9],1.9466028216398799,10.396850720617334)"
      ]
     },
     "execution_count": 46,
     "metadata": {},
     "output_type": "execute_result"
    }
   ],
   "source": [
    "state = btr(f, g!, H!, [0,0],1e-7)"
   ]
  },
  {
   "cell_type": "code",
   "execution_count": null,
   "metadata": {
    "collapsed": true
   },
   "outputs": [],
   "source": [
    "  "
   ]
  }
 ],
 "metadata": {
  "kernelspec": {
   "display_name": "Julia 0.5.0",
   "language": "julia",
   "name": "julia-0.5"
  },
  "language_info": {
   "file_extension": ".jl",
   "mimetype": "application/julia",
   "name": "julia",
   "version": "0.5.0"
  }
 },
 "nbformat": 4,
 "nbformat_minor": 2
}
